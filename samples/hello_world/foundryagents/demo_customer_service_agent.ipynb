{
 "cells": [
  {
   "cell_type": "markdown",
   "id": "691103e8",
   "metadata": {},
   "source": [
    "# Azure AI Foundry Customer Service Agent Demo\n",
    "\n",
    "This notebook demonstrates how to create and use a customer service agent using Azure AI Foundry Agent Service with our ARTAgent-style builder.\n",
    "\n",
    "## Key Features:\n",
    "- **No manual schemas required** - Azure AI Foundry auto-generates from function signatures and docstrings\n",
    "- **Best practices implementation** - Following Azure AI Foundry documentation guidelines\n",
    "- **Professional tool descriptions** - Clear triggers and examples for each tool\n",
    "- **JSON-safe outputs** - All tools return properly formatted JSON"
   ]
  },
  {
   "cell_type": "markdown",
   "id": "6f6be22a",
   "metadata": {},
   "source": [
    "## Setup and Imports"
   ]
  },
  {
   "cell_type": "code",
   "execution_count": 1,
   "id": "81d1cc3c",
   "metadata": {},
   "outputs": [
    {
     "name": "stderr",
     "output_type": "stream",
     "text": [
      "INFO:root:Successfully changed directory to: c:\\Users\\pablosal\\Desktop\\gbb-ai-audio-agent\n"
     ]
    },
    {
     "name": "stdout",
     "output_type": "stream",
     "text": [
      "✅ Changed directory to: c:\\Users\\pablosal\\Desktop\\gbb-ai-audio-agent\n",
      "📁 Current working directory: c:\\Users\\pablosal\\Desktop\\gbb-ai-audio-agent\n",
      "📋 Contents: .azure, .devcontainer, .env, .env.aoai_pool, .env.sample, .files, .git, .github, .gitignore, .pre-commit-config.yaml...\n"
     ]
    }
   ],
   "source": [
    "# 📂 Setup Working Directory for ARTAgent Framework Access\n",
    "import logging\n",
    "import os\n",
    "\n",
    "# Configure logging to track directory changes\n",
    "logging.basicConfig(level=logging.INFO)\n",
    "\n",
    "# Navigate to the project root directory\n",
    "# This ensures we can import ARTAgent framework modules properly\n",
    "try:\n",
    "    # Move up two directories from samples/hello_world/ to project root\n",
    "    os.chdir(\"../../\")\n",
    "    \n",
    "    # Allow override via environment variable for different setups\n",
    "    target_directory = os.getenv(\n",
    "        \"TARGET_DIRECTORY\", os.getcwd()\n",
    "    )  # Use environment variable if available\n",
    "    \n",
    "    # Verify the target directory exists before changing\n",
    "    if os.path.exists(target_directory):\n",
    "        os.chdir(target_directory)\n",
    "        print(f\"✅ Changed directory to: {os.getcwd()}\")\n",
    "        logging.info(f\"Successfully changed directory to: {os.getcwd()}\")\n",
    "    else:\n",
    "        print(f\"❌ Directory does not exist: {target_directory}\")\n",
    "        logging.error(f\"Directory does not exist: {target_directory}\")\n",
    "        \n",
    "except Exception as e:\n",
    "    print(f\"❌ Error changing directory: {e}\")\n",
    "    logging.exception(f\"An error occurred while changing directory: {e}\")\n",
    "\n",
    "# Verify we're in the correct location\n",
    "print(f\"📁 Current working directory: {os.getcwd()}\")\n",
    "print(f\"📋 Contents: {', '.join(os.listdir('.')[:10])}...\")"
   ]
  },
  {
   "cell_type": "code",
   "execution_count": null,
   "id": "d3d14813",
   "metadata": {},
   "outputs": [
    {
     "name": "stdout",
     "output_type": "stream",
     "text": [
      "Azure AI Foundry Endpoint: ✅ Configured\n",
      "Endpoint: https://poc-ai-agents-voice-resource.services.ai.azure.com/api/projects/poc-ai-agents-voice\n"
     ]
    }
   ],
   "source": [
    "import os\n",
    "import sys\n",
    "from pathlib import Path\n",
    "\n",
    "# Add current directory to path for imports\n",
    "sys.path.append('.')\n",
    "\n",
    "# Check for Azure AI Foundry environment variables\n",
    "endpoint = os.getenv(\"AZURE_AI_FOUNDRY_ENDPOINT\")\n",
    "print(f\"Azure AI Foundry Endpoint: {'✅ Configured' if endpoint else '❌ Not found - set AZURE_AI_FOUNDRY_ENDPOINT'}\")\n",
    "\n",
    "if endpoint:\n",
    "    print(f\"Endpoint: {endpoint}\")\n",
    "else:\n",
    "    print(\"\\n💡 To run this demo with real Azure AI Foundry:\")\n",
    "    print(\"   export AZURE_AI_FOUNDRY_URL='https://your-project.cognitiveservices.azure.com'\")\n",
    "    print(\"   or set it in your .env file\")"
   ]
  },
  {
   "cell_type": "markdown",
   "id": "523c0927",
   "metadata": {},
   "source": [
    "## Test Tool Registry and Functions\n",
    "\n",
    "First, let's verify our tools are working properly with the new best practices format."
   ]
  },
  {
   "cell_type": "code",
   "execution_count": 4,
   "id": "b912346d",
   "metadata": {},
   "outputs": [
    {
     "name": "stderr",
     "output_type": "stream",
     "text": [
      "INFO:tool_registry:✅ Tool registry validation passed for 4 tools\n"
     ]
    },
    {
     "name": "stdout",
     "output_type": "stream",
     "text": [
      "🛠️  Tool Registry Validation:\n",
      "Status: ✅ Passed\n",
      "\n",
      "📋 Available Tools:\n",
      "   • check_order_status: Check the current status and details of a customer order.\n",
      "   • search_knowledge_base: Search the company knowledge base for policies, procedures, and product information.\n",
      "   • create_support_ticket: Create a new support ticket for customer issues that require follow-up or investigation.\n",
      "   • escalate_to_human: Escalate a customer issue to a human support agent for immediate personal assistance.\n"
     ]
    }
   ],
   "source": [
    "from samples.hello_world.foundryagents.tool_store import tool_registry\n",
    "\n",
    "# Validate tool registry\n",
    "print(\"🛠️  Tool Registry Validation:\")\n",
    "validation_result = tool_registry.validate_tool_registry()\n",
    "print(f\"Status: {'✅ Passed' if validation_result else '❌ Failed'}\")\n",
    "\n",
    "# Show available tools\n",
    "print(\"\\n📋 Available Tools:\")\n",
    "for tool_name in tool_registry.TOOL_REGISTRY.keys():\n",
    "    tool_func = tool_registry.get_tool_function(tool_name)\n",
    "    # Extract first line of docstring for summary\n",
    "    doc_summary = tool_func.__doc__.split('\\n')[1].strip() if tool_func.__doc__ else \"No description\"\n",
    "    print(f\"   • {tool_name}: {doc_summary}\")"
   ]
  },
  {
   "cell_type": "markdown",
   "id": "9a4a7dce",
   "metadata": {},
   "source": [
    "## Test Individual Tools\n",
    "\n",
    "Let's test each tool to see their enhanced outputs with proper type hints and detailed descriptions."
   ]
  },
  {
   "cell_type": "code",
   "execution_count": 5,
   "id": "b54b712c",
   "metadata": {},
   "outputs": [
    {
     "name": "stderr",
     "output_type": "stream",
     "text": [
      "INFO:customer_support_tools:Checking order status for order ID: ORD-DEMO-123\n",
      "INFO:customer_support_tools:Searching knowledge base for: return policy\n",
      "INFO:customer_support_tools:Searching knowledge base for: return policy\n"
     ]
    },
    {
     "name": "stdout",
     "output_type": "stream",
     "text": [
      "🧪 Testing check_order_status:\n",
      "{\n",
      "  \"order_id\": \"ORD-DEMO-123\",\n",
      "  \"status\": \"In Transit\",\n",
      "  \"estimated_delivery\": \"2025-09-05\",\n",
      "  \"tracking_number\": \"TRKORD-DEMO-1232025\",\n",
      "  \"items\": [\n",
      "    \"Wireless Headphones\",\n",
      "    \"Phone Case\"\n",
      "  ],\n",
      "  \"total\": \"$89.99\",\n",
      "  \"shipping_carrier\": \"FedEx\",\n",
      "  \"last_update\": \"Package left distribution center\"\n",
      "}\n",
      "\n",
      "==================================================\n",
      "🧪 Testing search_knowledge_base:\n",
      "{\n",
      "  \"query\": \"return policy\",\n",
      "  \"topic\": \"Return\",\n",
      "  \"information\": \"You can return items within 30 days of purchase. Items must be in original condition with tags attached. Refunds processed within 5-7 business days.\",\n",
      "  \"confidence\": 0.95,\n",
      "  \"source\": \"Company Knowledge Base\"\n",
      "}\n"
     ]
    }
   ],
   "source": [
    "import json\n",
    "\n",
    "# Test check_order_status\n",
    "print(\"🧪 Testing check_order_status:\")\n",
    "order_tool = tool_registry.get_tool_function('check_order_status')\n",
    "order_result = order_tool('ORD-DEMO-123')\n",
    "print(json.dumps(order_result, indent=2))\n",
    "\n",
    "print(\"\\n\" + \"=\"*50)\n",
    "\n",
    "# Test search_knowledge_base  \n",
    "print(\"🧪 Testing search_knowledge_base:\")\n",
    "kb_tool = tool_registry.get_tool_function('search_knowledge_base')\n",
    "kb_result = kb_tool('return policy')\n",
    "print(json.dumps(kb_result, indent=2))"
   ]
  },
  {
   "cell_type": "code",
   "execution_count": 6,
   "id": "03434003",
   "metadata": {},
   "outputs": [
    {
     "name": "stderr",
     "output_type": "stream",
     "text": [
      "INFO:customer_support_tools:Creating support ticket for: customer@example.com\n",
      "INFO:customer_support_tools:Escalating ticket TKT-123456 to human agent\n",
      "INFO:customer_support_tools:Escalating ticket TKT-123456 to human agent\n"
     ]
    },
    {
     "name": "stdout",
     "output_type": "stream",
     "text": [
      "🧪 Testing create_support_ticket:\n",
      "{\n",
      "  \"ticket_id\": \"TKT-173513\",\n",
      "  \"customer_email\": \"customer@example.com\",\n",
      "  \"issue_description\": \"My order arrived damaged\",\n",
      "  \"priority\": \"high\",\n",
      "  \"status\": \"Open\",\n",
      "  \"created_date\": \"2025-09-02\",\n",
      "  \"estimated_response\": \"4 hours\",\n",
      "  \"assigned_team\": \"Customer Support\",\n",
      "  \"next_steps\": \"Our support team will review and respond via email with detailed assistance\"\n",
      "}\n",
      "\n",
      "==================================================\n",
      "🧪 Testing escalate_to_human:\n",
      "{\n",
      "  \"ticket_id\": \"TKT-123456\",\n",
      "  \"escalation_reason\": \"Customer is frustrated and wants to speak to a manager\",\n",
      "  \"escalated_to\": \"Senior Customer Support Manager\",\n",
      "  \"escalation_time\": \"2025-09-02 10:30:00\",\n",
      "  \"priority\": \"High\",\n",
      "  \"expected_response\": \"Within 2 hours\",\n",
      "  \"status\": \"Escalated - Human Agent Assigned\",\n",
      "  \"contact_method\": \"Phone call priority, then email\",\n",
      "  \"queue_position\": 1,\n",
      "  \"message\": \"A senior human agent will contact you personally within 2 hours to resolve this issue with the attention it deserves.\"\n",
      "}\n"
     ]
    }
   ],
   "source": [
    "# Test create_support_ticket\n",
    "print(\"🧪 Testing create_support_ticket:\")\n",
    "ticket_tool = tool_registry.get_tool_function('create_support_ticket')\n",
    "ticket_result = ticket_tool('customer@example.com', 'My order arrived damaged', 'high')\n",
    "print(json.dumps(ticket_result, indent=2))\n",
    "\n",
    "print(\"\\n\" + \"=\"*50)\n",
    "\n",
    "# Test escalate_to_human\n",
    "print(\"🧪 Testing escalate_to_human:\")\n",
    "escalate_tool = tool_registry.get_tool_function('escalate_to_human')\n",
    "escalate_result = escalate_tool('TKT-123456', 'Customer is frustrated and wants to speak to a manager')\n",
    "print(json.dumps(escalate_result, indent=2))"
   ]
  },
  {
   "cell_type": "markdown",
   "id": "ae99f8c9",
   "metadata": {},
   "source": [
    "## Agent Configuration Preview\n",
    "\n",
    "Let's examine our agent configuration to see the enhanced instructions following Azure AI Foundry best practices."
   ]
  },
  {
   "cell_type": "code",
   "execution_count": 7,
   "id": "4604bd9a",
   "metadata": {},
   "outputs": [
    {
     "name": "stdout",
     "output_type": "stream",
     "text": [
      "🤖 Agent Configuration:\n",
      "   Name: CustomerServiceAgent\n",
      "   Model: gpt-4o\n",
      "   Tools: 4 configured\n",
      "   Tools: check_order_status, search_knowledge_base, create_support_ticket, escalate_to_human\n",
      "\n",
      "📝 Instructions Preview:\n",
      "   You are a professional customer service agent for an e-commerce company. Your primary objective is to help customers resolve their inquiries quickly, accurately, and with a positive experience.\n",
      "   ## Your Responsibilities:\n",
      "   - Assist customers with order-related questions using real-time order data\n",
      "   - Provide accurate information from the company knowledge base\n",
      "   - Create support tickets for complex issues requiring follow-up\n",
      "   - Escalate frustrated customers or complex issues to human agents\n",
      "   - Always be friendly, professional, and empathetic\n",
      "   ## Available Tools and When to Use Them:\n",
      "   **check_order_status tool**\n",
      "   - Use: Get real-time order information including status, tracking, and delivery estimates\n",
      "   - Trigger: When customers ask about order status, tracking, delivery dates, or order details\n",
      "   - Examples: \"Where is my order?\", \"Track order ORD-12345\", \"When will my order arrive?\"\n",
      "   ... (and more)\n"
     ]
    }
   ],
   "source": [
    "import yaml\n",
    "\n",
    "# Load and display agent configuration\n",
    "yaml_path = \"samples/hello_world/foundryagents/agent_store/customer_service_agent.yaml\"\n",
    "with open(yaml_path, 'r') as f:\n",
    "    config = yaml.safe_load(f)\n",
    "\n",
    "print(\"🤖 Agent Configuration:\")\n",
    "print(f\"   Name: {config['agent']['name']}\")\n",
    "print(f\"   Model: {config['model']['deployment_id']}\")\n",
    "print(f\"   Tools: {len(config['tools'])} configured\")\n",
    "print(f\"   Tools: {', '.join(config['tools'])}\")\n",
    "\n",
    "print(\"\\n📝 Instructions Preview:\")\n",
    "instructions = config['agent']['instructions']\n",
    "lines = instructions.split('\\n')\n",
    "for i, line in enumerate(lines[:15]):  # Show first 15 lines\n",
    "    if line.strip():\n",
    "        print(f\"   {line}\")\n",
    "if len(lines) > 15:\n",
    "    print(\"   ... (and more)\")"
   ]
  },
  {
   "cell_type": "markdown",
   "id": "c062cf6a",
   "metadata": {},
   "source": [
    "## Create Agent with Azure AI Foundry Builder\n",
    "\n",
    "Now let's create the agent using our builder that follows the exact Azure AI Foundry patterns."
   ]
  },
  {
   "cell_type": "code",
   "execution_count": 11,
   "id": "f0c90786",
   "metadata": {},
   "outputs": [
    {
     "name": "stdout",
     "output_type": "stream",
     "text": [
      "✅ Azure AI Foundry credentials detected - creating real agent\n",
      "\n"
     ]
    },
    {
     "name": "stderr",
     "output_type": "stream",
     "text": [
      "INFO:azure.identity._credentials.environment:No environment configuration found.\n",
      "INFO:azure.identity._credentials.managed_identity:ManagedIdentityCredential will use IMDS\n",
      "[2025-09-02 19:45:12,331] INFO - foundry_agent_builder: 🔗 Foundry Agent Builder connecting to: https://poc-ai-agents-voice-resource.services.ai.azure.com/api/projects/poc-ai-agents-voice\n",
      "INFO:azure.identity._credentials.managed_identity:ManagedIdentityCredential will use IMDS\n",
      "[2025-09-02 19:45:12,331] INFO - foundry_agent_builder: 🔗 Foundry Agent Builder connecting to: https://poc-ai-agents-voice-resource.services.ai.azure.com/api/projects/poc-ai-agents-voice\n",
      "INFO:foundry_agent_builder:🔗 Foundry Agent Builder connecting to: https://poc-ai-agents-voice-resource.services.ai.azure.com/api/projects/poc-ai-agents-voice\n",
      "[2025-09-02 19:45:12,343]INFO:foundry_agent_builder:🔗 Foundry Agent Builder connecting to: https://poc-ai-agents-voice-resource.services.ai.azure.com/api/projects/poc-ai-agents-voice\n",
      "[2025-09-02 19:45:12,343] INFO - foundry_agent_builder: 🛠️ Loaded 4 tools for CustomerServiceAgent: ['check_order_status', 'search_knowledge_base', 'create_support_ticket', 'escalate_to_human']\n",
      "INFO:foundry_agent_builder:🛠️ Loaded 4 tools for CustomerServiceAgent: ['check_order_status', 'search_knowledge_base', 'create_support_ticket', 'escalate_to_human']\n",
      "INFO:azure.core.pipeline.policies.http_logging_policy:Request URL: 'http://169.254.169.254/metadata/identity/oauth2/token?api-version=REDACTED&resource=REDACTED'\n",
      "Request method: 'GET'\n",
      "Request headers:\n",
      "    'User-Agent': 'azsdk-python-identity/1.19.0 Python/3.11.11 (Windows-10-10.0.26100-SP0)'\n",
      "No body was attached to the request\n",
      " INFO - foundry_agent_builder: 🛠️ Loaded 4 tools for CustomerServiceAgent: ['check_order_status', 'search_knowledge_base', 'create_support_ticket', 'escalate_to_human']\n",
      "INFO:foundry_agent_builder:🛠️ Loaded 4 tools for CustomerServiceAgent: ['check_order_status', 'search_knowledge_base', 'create_support_ticket', 'escalate_to_human']\n",
      "INFO:azure.core.pipeline.policies.http_logging_policy:Request URL: 'http://169.254.169.254/metadata/identity/oauth2/token?api-version=REDACTED&resource=REDACTED'\n",
      "Request method: 'GET'\n",
      "Request headers:\n",
      "    'User-Agent': 'azsdk-python-identity/1.19.0 Python/3.11.11 (Windows-10-10.0.26100-SP0)'\n",
      "No body was attached to the request\n",
      "INFO:azure.identity._credentials.chained:DefaultAzureCredential acquired a token from AzureCliCredential\n",
      "INFO:azure.core.pipeline.policies.http_logging_policy:Request URL: 'https://poc-ai-agents-voice-resource.services.ai.azure.com/api/projects/poc-ai-agents-voice/assistants?api-version=REDACTED'\n",
      "Request method: 'POST'\n",
      "Request headers:\n",
      "    'Content-Type': 'application/json'\n",
      "    'Content-Length': '3799'\n",
      "    'Accept': 'application/json'\n",
      "    'x-ms-client-request-id': '3fe1fbc6-885f-11f0-a777-f43bd8cfe843'\n",
      "    'User-Agent': 'azsdk-python-ai-agents/1.1.0 Python/3.11.11 (Windows-10-10.0.26100-SP0)'\n",
      "    'Authorization': 'REDACTED'\n",
      "A body is sent with the request\n",
      "INFO:azure.identity._credentials.chained:DefaultAzureCredential acquired a token from AzureCliCredential\n",
      "INFO:azure.core.pipeline.policies.http_logging_policy:Request URL: 'https://poc-ai-agents-voice-resource.services.ai.azure.com/api/projects/poc-ai-agents-voice/assistants?api-version=REDACTED'\n",
      "Request method: 'POST'\n",
      "Request headers:\n",
      "    'Content-Type': 'application/json'\n",
      "    'Content-Length': '3799'\n",
      "    'Accept': 'application/json'\n",
      "    'x-ms-client-request-id': '3fe1fbc6-885f-11f0-a777-f43bd8cfe843'\n",
      "    'User-Agent': 'azsdk-python-ai-agents/1.1.0 Python/3.11.11 (Windows-10-10.0.26100-SP0)'\n",
      "    'Authorization': 'REDACTED'\n",
      "A body is sent with the request\n",
      "INFO:azure.core.pipeline.policies.http_logging_policy:Response status: 200\n",
      "Response headers:\n",
      "    'Transfer-Encoding': 'chunked'\n",
      "    'Content-Type': 'application/json'\n",
      "    'Content-Encoding': 'REDACTED'\n",
      "    'Vary': 'REDACTED'\n",
      "    'Request-Context': 'REDACTED'\n",
      "    'x-ms-response-type': 'REDACTED'\n",
      "    'x-ms-middleware-request-id': 'REDACTED'\n",
      "    'openai-version': 'REDACTED'\n",
      "    'openai-organization': 'REDACTED'\n",
      "    'X-Request-ID': 'REDACTED'\n",
      "    'openai-processing-ms': 'REDACTED'\n",
      "    'Strict-Transport-Security': 'REDACTED'\n",
      "    'apim-request-id': 'REDACTED'\n",
      "    'X-Content-Type-Options': 'REDACTED'\n",
      "    'x-ms-region': 'REDACTED'\n",
      "    'azureml-served-by-cluster': 'REDACTED'\n",
      "    'x-request-time': 'REDACTED'\n",
      "    'Date': 'Wed, 03 Sep 2025 00:45:15 GMT'\n",
      "[2025-09-02 19:45:15,933] INFO - foundry_agent_builder: ✅ Agent created: asst_Kp4exd80NINFuraHyWOftsuR\n",
      "INFO:foundry_agent_builder:✅ Agent created: asst_Kp4exd80NINFuraHyWOftsuR\n",
      "INFO:azure.core.pipeline.policies.http_logging_policy:Response status: 200\n",
      "Response headers:\n",
      "    'Transfer-Encoding': 'chunked'\n",
      "    'Content-Type': 'application/json'\n",
      "    'Content-Encoding': 'REDACTED'\n",
      "    'Vary': 'REDACTED'\n",
      "    'Request-Context': 'REDACTED'\n",
      "    'x-ms-response-type': 'REDACTED'\n",
      "    'x-ms-middleware-request-id': 'REDACTED'\n",
      "    'openai-version': 'REDACTED'\n",
      "    'openai-organization': 'REDACTED'\n",
      "    'X-Request-ID': 'REDACTED'\n",
      "    'openai-processing-ms': 'REDACTED'\n",
      "    'Strict-Transport-Security': 'REDACTED'\n",
      "    'apim-request-id': 'REDACTED'\n",
      "    'X-Content-Type-Options': 'REDACTED'\n",
      "    'x-ms-region': 'REDACTED'\n",
      "    'azureml-served-by-cluster': 'REDACTED'\n",
      "    'x-request-time': 'REDACTED'\n",
      "    'Date': 'Wed, 03 Sep 2025 00:45:15 GMT'\n",
      "[2025-09-02 19:45:15,933] INFO - foundry_agent_builder: ✅ Agent created: asst_Kp4exd80NINFuraHyWOftsuR\n",
      "INFO:foundry_agent_builder:✅ Agent created: asst_Kp4exd80NINFuraHyWOftsuR\n"
     ]
    },
    {
     "name": "stdout",
     "output_type": "stream",
     "text": [
      "\n",
      "🎉 Agent created successfully!\n",
      "Agent ID: asst_Kp4exd80NINFuraHyWOftsuR\n",
      "\n",
      "Agent ID: asst_Kp4exd80NINFuraHyWOftsuR\n",
      "Agent Name: CustomerServiceAgent\n",
      "Tools Available: 4\n",
      "Agent Name: CustomerServiceAgent\n",
      "Tools Available: 4\n"
     ]
    }
   ],
   "source": [
    "# Import the agent builder\n",
    "from samples.hello_world.foundryagents.agent_builder import AzureFoundryAgentBuilder\n",
    "\n",
    "# Check if we have Azure credentials\n",
    "has_azure_creds = bool(os.getenv(\"AZURE_AI_FOUNDRY_ENDPOINT\"))\n",
    "\n",
    "if has_azure_creds:\n",
    "    print(\"✅ Azure AI Foundry credentials detected - creating real agent\")\n",
    "    try:\n",
    "        # Initialize the builder\n",
    "        builder = AzureFoundryAgentBuilder()\n",
    "        \n",
    "        # Create agent from YAML\n",
    "        agent_id = builder.create_agent_from_yaml(yaml_path)\n",
    "        \n",
    "        print(f\"\\n🎉 Agent created successfully!\")\n",
    "        print(f\"Agent ID: {agent_id}\")\n",
    "        print(f\"Agent Name: {config['agent']['name']}\")\n",
    "        print(f\"Tools Available: {len(config['tools'])}\")\n",
    "        \n",
    "    except Exception as e:\n",
    "        print(f\"❌ Agent creation failed: {e}\")\n",
    "        print(\"\\n💡 Make sure you have:\")\n",
    "        print(\"   - Valid Azure AI Foundry endpoint\")\n",
    "        print(\"   - Proper authentication (az login or service principal)\")\n",
    "        print(\"   - Required permissions on the Azure AI Foundry project\")\n",
    "else:\n",
    "    print(\"ℹ️  Simulating agent creation (no Azure credentials)\")\n",
    "    print(\"\\n📋 Agent Would Be Created With:\")\n",
    "    print(f\"   Name: {config['agent']['name']}\")\n",
    "    print(f\"   Model: {config['model']['deployment_id']}\")\n",
    "    print(f\"   Tools: {len(config['tools'])} JSON-safe wrapped functions\")\n",
    "    print(\"   Schema Generation: Automatic from type hints and docstrings\")\n",
    "    print(\"   Instructions: Enhanced with tool triggers and examples\")\n",
    "    \n",
    "    # Show what the function signatures look like\n",
    "    print(\"\\n🔍 Tool Signatures (Auto-Schema Generation):\")\n",
    "    for tool_name in config['tools']:\n",
    "        tool_func = tool_registry.get_tool_function(tool_name)\n",
    "        import inspect\n",
    "        sig = inspect.signature(tool_func)\n",
    "        print(f\"   {tool_name}{sig} -> {tool_func.__annotations__.get('return', 'Any')}\")"
   ]
  },
  {
   "cell_type": "markdown",
   "id": "409caf67",
   "metadata": {},
   "source": [
    "## JSON-Safe Wrapper Demonstration\n",
    "\n",
    "Azure AI Foundry requires all tool outputs to be JSON strings. Let's see how our `json_safe_wrapper` works."
   ]
  },
  {
   "cell_type": "code",
   "execution_count": 12,
   "id": "cfc27bb8",
   "metadata": {},
   "outputs": [
    {
     "name": "stdout",
     "output_type": "stream",
     "text": [
      "🔧 Raw Tool Output:\n",
      "\n"
     ]
    },
    {
     "name": "stderr",
     "output_type": "stream",
     "text": [
      "INFO:customer_support_tools:Checking order status for order ID: ORD-12345\n"
     ]
    },
    {
     "name": "stdout",
     "output_type": "stream",
     "text": [
      "Type: <class 'dict'>\n",
      "Content: {'order_id': 'ORD-12345', 'status': 'In Transit', 'estimated_delivery': '2025-09-05', 'tracking_number': 'TRKORD-123452025', 'items': ['Wireless Headphones', 'Phone Case'], 'total': '$89.99', 'shipping_carrier': 'FedEx', 'last_update': 'Package left distribution center'}\n",
      "\n",
      "🎁 JSON-Safe Wrapped Output:\n",
      "\n",
      "Content: {'order_id': 'ORD-12345', 'status': 'In Transit', 'estimated_delivery': '2025-09-05', 'tracking_number': 'TRKORD-123452025', 'items': ['Wireless Headphones', 'Phone Case'], 'total': '$89.99', 'shipping_carrier': 'FedEx', 'last_update': 'Package left distribution center'}\n",
      "\n",
      "🎁 JSON-Safe Wrapped Output:\n"
     ]
    },
    {
     "name": "stderr",
     "output_type": "stream",
     "text": [
      "INFO:customer_support_tools:Checking order status for order ID: ORD-12345\n"
     ]
    },
    {
     "name": "stdout",
     "output_type": "stream",
     "text": [
      "Type: <class 'str'>\n",
      "\n",
      "Content: {\"order_id\": \"ORD-12345\", \"status\": \"In Transit\", \"estimated_delivery\": \"2025-09-05\", \"tracking_number\": \"TRKORD-123452025\", \"items\": [\"Wireless Headphones\", \"Phone Case\"], \"total\": \"$89.99\", \"shipping_carrier\": \"FedEx\", \"last_update\": \"Package left distribution center\"}\n",
      "\n",
      "✅ This JSON string is what Azure AI Foundry receives and can parse properly!\n",
      "Content: {\"order_id\": \"ORD-12345\", \"status\": \"In Transit\", \"estimated_delivery\": \"2025-09-05\", \"tracking_number\": \"TRKORD-123452025\", \"items\": [\"Wireless Headphones\", \"Phone Case\"], \"total\": \"$89.99\", \"shipping_carrier\": \"FedEx\", \"last_update\": \"Package left distribution center\"}\n",
      "\n",
      "✅ This JSON string is what Azure AI Foundry receives and can parse properly!\n"
     ]
    }
   ],
   "source": [
    "from samples.hello_world.foundryagents.agent_builder import json_safe_wrapper\n",
    "\n",
    "# Get a raw tool function\n",
    "raw_tool = tool_registry.get_tool_function('check_order_status')\n",
    "\n",
    "# Wrap it for Azure AI Foundry\n",
    "wrapped_tool = json_safe_wrapper(raw_tool)\n",
    "\n",
    "print(\"🔧 Raw Tool Output:\")\n",
    "raw_result = raw_tool('ORD-12345')\n",
    "print(f\"Type: {type(raw_result)}\")\n",
    "print(f\"Content: {raw_result}\")\n",
    "\n",
    "print(\"\\n🎁 JSON-Safe Wrapped Output:\")\n",
    "wrapped_result = wrapped_tool('ORD-12345')\n",
    "print(f\"Type: {type(wrapped_result)}\")\n",
    "print(f\"Content: {wrapped_result}\")\n",
    "\n",
    "print(\"\\n✅ This JSON string is what Azure AI Foundry receives and can parse properly!\")"
   ]
  }
 ],
 "metadata": {
  "kernelspec": {
   "display_name": "audioagent",
   "language": "python",
   "name": "python3"
  },
  "language_info": {
   "codemirror_mode": {
    "name": "ipython",
    "version": 3
   },
   "file_extension": ".py",
   "mimetype": "text/x-python",
   "name": "python",
   "nbconvert_exporter": "python",
   "pygments_lexer": "ipython3",
   "version": "3.11.11"
  }
 },
 "nbformat": 4,
 "nbformat_minor": 5
}
