{
 "cells": [
  {
   "cell_type": "code",
   "execution_count": 1,
   "id": "343b4d5f",
   "metadata": {},
   "outputs": [
    {
     "name": "stdout",
     "output_type": "stream",
     "text": [
      "Changed directory to: c:\\Users\\pablosal\\Desktop\\gbb-ai-audio-agent\n"
     ]
    }
   ],
   "source": [
    "import logging\n",
    "import os\n",
    "\n",
    "# set the directory to the location of the script\n",
    "try:\n",
    "    os.chdir(\"../..\")\n",
    "    target_directory = os.getenv(\n",
    "        \"TARGET_DIRECTORY\", os.getcwd()\n",
    "    )  # Use environment variable if available\n",
    "    if os.path.exists(target_directory):\n",
    "        os.chdir(target_directory)\n",
    "        print(f\"Changed directory to: {os.getcwd()}\")\n",
    "        logging.info(f\"Successfully changed directory to: {os.getcwd()}\")\n",
    "    else:\n",
    "        logging.error(f\"Directory does not exist: {target_directory}\")\n",
    "except Exception as e:\n",
    "    logging.exception(f\"An error occurred while changing directory: {e}\")"
   ]
  },
  {
   "cell_type": "code",
   "execution_count": 3,
   "id": "930a1a0c",
   "metadata": {},
   "outputs": [
    {
     "name": "stderr",
     "output_type": "stream",
     "text": [
      "[2025-08-07 01:32:32,875] INFO - micro: Azure Monitor tracing initialized for speech synthesizer\n",
      "INFO:micro:Azure Monitor tracing initialized for speech synthesizer\n",
      "[2025-08-07 01:32:32,897]  INFO - micro: Azure Monitor tracing initialized for speech synthesizer\n",
      "INFO:micro:Azure Monitor tracing initialized for speech synthesizer\n",
      "[2025-08-07 01:32:32,897] INFO - micro: Creating SpeechConfig with API key authentication\n",
      "INFO:micro:Creating SpeechConfig with API key authentication\n",
      "[2025-08-07 01:32:32,912]INFO - micro: Creating SpeechConfig with API key authentication\n",
      "INFO:micro:Creating SpeechConfig with API key authentication\n",
      "[2025-08-07 01:32:32,912] INFO - micro: Speech synthesizer initialized successfully\n",
      "INFO:micro:Speech synthesizer initialized successfully\n",
      " INFO - micro: Speech synthesizer initialized successfully\n",
      "INFO:micro:Speech synthesizer initialized successfully\n"
     ]
    }
   ],
   "source": [
    "from src.speech.text_to_speech import SpeechSynthesizer\n",
    "from src.speech.conversation_recognizer import StreamingConversationTranscriberFromBytes\n",
    "from openai import AzureOpenAI\n",
    "\n",
    "if \"az_speech_recognizer_stream_client\" not in locals():\n",
    "    az_speech_recognizer_stream_client = StreamingConversationTranscriberFromBytes(\n",
    "        audio_format=\"pcm\",\n",
    "        candidate_languages=[\"en-US\", \"fr-FR\", \"de-DE\", \"es-ES\", \"it-IT\"],\n",
    "        enable_diarisation=True,\n",
    "    )\n",
    "\n",
    "if \"az_speach_synthesizer_client\" not in locals():\n",
    "    az_speach_synthesizer_client = SpeechSynthesizer(\n",
    "        voice=\"en-US-Ava:DragonHDLatestNeural\"\n",
    "    )\n",
    "\n",
    "# Ensure Azure OpenAI client is initialized only if not already defined\n",
    "if \"client\" not in locals():\n",
    "    client = AzureOpenAI(\n",
    "        api_version=\"2025-02-01-preview\",\n",
    "        azure_endpoint=os.getenv(\"AZURE_OPENAI_ENDPOINT\"),\n",
    "        api_key=os.getenv(\"AZURE_OPENAI_KEY\"),\n",
    "    )"
   ]
  },
  {
   "cell_type": "code",
   "execution_count": 4,
   "id": "2d74aee5",
   "metadata": {},
   "outputs": [],
   "source": [
    "# Define end-of-sentence markers for TTS\n",
    "TTS_ENDS = {\".\", \"!\", \"?\", \";\", \"\\n\"}\n",
    "\n",
    "# Flags and buffers\n",
    "is_synthesizing = False\n",
    "user_buffer = \"\"\n",
    "assistant_buffer = \"\"\n",
    "tts_thread = None"
   ]
  },
  {
   "cell_type": "code",
   "execution_count": null,
   "id": "c369a3a3",
   "metadata": {},
   "outputs": [
    {
     "name": "stdout",
     "output_type": "stream",
     "text": [
      "🎙️ Speak now...\n",
      "\n",
      "🧾 User ['Unknown'] (final) in en-US: \n",
      "🧾 User ['Unknown'] (final) in en-US: \n",
      "Hello!Hi there, I am a assistant_speak callback!Hello!Hi there, I am a assistant_speak callback!\n",
      "Syntetixing: True\n",
      "Syntetixing: True\n",
      "\n"
     ]
    },
    {
     "name": "stderr",
     "output_type": "stream",
     "text": [
      "[2025-08-07 01:32:55,361] INFO INFO - micro - micro: [🔊] Starting streaming speech synthesis for text: Hello!...\n",
      "INFO:micro:[🔊] Starting streaming speech synthesis for text: Hello!...\n",
      ": [🔊] Starting streaming speech synthesis for text: Hello!...\n",
      "INFO:micro:[🔊] Starting streaming speech synthesis for text: Hello!...\n"
     ]
    },
    {
     "name": "stdout",
     "output_type": "stream",
     "text": [
      " It looks looks like like your message is your message is empty empty.Hi there, I am a assistant_speak callback!\n",
      ".Hi there, I am a assistant_speak callback!\n",
      "Syntetixing: True\n",
      "Syntetixing: True\n"
     ]
    },
    {
     "name": "stderr",
     "output_type": "stream",
     "text": [
      "[2025-08-07 01:32:55,419] INFO - micro: [🔊] Starting streaming speech synthesis for text: It looks like your message is empty....\n",
      "INFO:micro:[🔊] Starting streaming speech synthesis for text: It looks like your message is empty....\n",
      " INFO - micro: [🔊] Starting streaming speech synthesis for text: It looks like your message is empty....\n",
      "INFO:micro:[🔊] Starting streaming speech synthesis for text: It looks like your message is empty....\n"
     ]
    },
    {
     "name": "stdout",
     "output_type": "stream",
     "text": [
      " How can I assist you can I assist you today? today?Hi there, I am a assistant_speak callback!\n",
      "Syntetixing: Hi there, I am a assistant_speak callback!\n",
      "Syntetixing: True\n",
      "True\n"
     ]
    },
    {
     "name": "stderr",
     "output_type": "stream",
     "text": [
      "[2025-08-07 01:32:55,480] INFO - micro INFO - micro: [🔊] Starting streaming speech synthesis for text: How can I assist you today?...\n",
      "INFO:micro:[🔊] Starting streaming speech synthesis for text: How can I assist you today?...\n",
      ": [🔊] Starting streaming speech synthesis for text: How can I assist you today?...\n",
      "INFO:micro:[🔊] Starting streaming speech synthesis for text: How can I assist you today?...\n"
     ]
    },
    {
     "name": "stdout",
     "output_type": "stream",
     "text": [
      "\n",
      "🗣️ User ['Unknown'] (partial) in en-US: here's your complete\n",
      "🗣️ User ['Unknown'] (partial) in en-US: here's your complete\n",
      "🗣️ User ['Unknown'] (partial) in en-US: here's your complete fix\n",
      "🗣️ User ['Unknown'] (partial) in en-US: here's your complete fix\n",
      "🗣️ User ['Unknown'] (partial) in en-US: here's your complete fixed and\n",
      "🗣️ User ['Unknown'] (partial) in en-US: here's your complete fixed and\n",
      "🗣️ User ['Guest-1'] (partial) in en-US: here's your complete fixed and production\n",
      "🗣️ User ['Guest-1'] (partial) in en-US: here's your complete fixed and production\n",
      "🗣️ User ['Guest-1'] (partial) in en-US: here's your complete fixed and production ready\n",
      "🗣️ User ['Guest-1'] (partial) in en-US: here's your complete fixed and production ready\n",
      "🗣️ User ['Guest-1'] (partial) in en-US: here's your complete fixed and production ready class\n",
      "🗣️ User ['Guest-1'] (partial) in en-US: here's your complete fixed and production ready class\n",
      "🗣️ User ['Guest-1'] (partial) in en-US: here's your complete fixed and production ready class with\n",
      "🗣️ User ['Guest-1'] (partial) in en-US: here's your complete fixed and production ready class with\n",
      "🗣️ User ['Guest-1'] (partial) in en-US: here's your complete fixed and production ready class with correct\n",
      "🗣️ User ['Guest-1'] (partial) in en-US: here's your complete fixed and production ready class with correct\n",
      "🗣️ User ['Guest-1'] (partial) in en-US: here's your complete fixed and production ready class with correct solero\n",
      "🗣️ User ['Guest-1'] (partial) in en-US: here's your complete fixed and production ready class with correct solero\n",
      "🗣️ User ['Guest-1'] (partial) in en-US: here's your complete fixed and production ready class with correct solero vad stream\n",
      "🗣️ User ['Guest-1'] (partial) in en-US: here's your complete fixed and production ready class with correct solero vad stream\n",
      "🗣️ User ['Guest-1'] (partial) in en-US: here's your complete fixed and production ready class with correct solero vad streaming\n",
      "🗣️ User ['Guest-1'] (partial) in en-US: here's your complete fixed and production ready class with correct solero vad streaming\n",
      "🗣️ User ['Guest-1'] (partial) in en-US: here's your complete fixed and production ready class with correct solero vad streaming usage\n",
      "🗣️ User ['Guest-1'] (partial) in en-US: here's your complete fixed and production ready class with correct solero vad streaming usage\n",
      "🗣️ User ['Guest-1'] (partial) in en-US: here's your complete fixed and production ready class with correct solero vad streaming usage no\n",
      "🗣️ User ['Guest-1'] (partial) in en-US: here's your complete fixed and production ready class with correct solero vad streaming usage no\n",
      "🗣️ User ['Guest-1'] (partial) in en-US: here's your complete fixed and production ready class with correct solero vad streaming usage no chunk\n",
      "🗣️ User ['Guest-1'] (partial) in en-US: here's your complete fixed and production ready class with correct solero vad streaming usage no chunk\n",
      "🗣️ User ['Guest-1'] (partial) in en-US: here's your complete fixed and production ready class with correct solero vad streaming usage no chunk error\n",
      "🗣️ User ['Guest-1'] (partial) in en-US: here's your complete fixed and production ready class with correct solero vad streaming usage no chunk error\n",
      "🗣️ User ['Guest-1'] (partial) in en-US: here's your complete fixed and production ready class with correct solero vad streaming usage no chunk error OK\n",
      "🗣️ User ['Guest-1'] (partial) in en-US: here's your complete fixed and production ready class with correct solero vad streaming usage no chunk error OK\n",
      "🗣️ User ['Unknown'] (partial) in en-US: OK yes but\n",
      "🗣️ User ['Unknown'] (partial) in en-US: OK yes but\n",
      "🗣️ User ['Unknown'] (partial) in en-US: OK yes but i\n",
      "🗣️ User ['Unknown'] (partial) in en-US: OK yes but i\n",
      "🗣️ User ['Guest-2'] (partial) in en-US: OK yes but i what i'm trying to\n",
      "🗣️ User ['Guest-2'] (partial) in en-US: OK yes but i what i'm trying to\n",
      "🗣️ User ['Guest-2'] (partial) in en-US: OK yes but i what i'm trying to say\n",
      "🗣️ User ['Guest-2'] (partial) in en-US: OK yes but i what i'm trying to say\n",
      "🗣️ User ['Guest-2'] (partial) in en-US: OK yes but i what i'm trying to say is\n",
      "🗣️ User ['Guest-2'] (partial) in en-US: OK yes but i what i'm trying to say is\n",
      "🗣️ User ['Guest-2'] (partial) in en-US: OK yes but i what i'm trying to say is that not\n",
      "🗣️ User ['Guest-2'] (partial) in en-US: OK yes but i what i'm trying to say is that not\n",
      "🗣️ User ['Guest-2'] (partial) in en-US: OK yes but i what i'm trying to say is that not every\n",
      "🗣️ User ['Guest-2'] (partial) in en-US: OK yes but i what i'm trying to say is that not every\n",
      "🗣️ User ['Guest-2'] (partial) in en-US: OK yes but i what i'm trying to say is that not everybody\n",
      "🗣️ User ['Guest-2'] (partial) in en-US: OK yes but i what i'm trying to say is that not everybody\n",
      "🗣️ User ['Guest-2'] (partial) in en-US: OK yes but i what i'm trying to say is that not everybody has\n",
      "🗣️ User ['Guest-2'] (partial) in en-US: OK yes but i what i'm trying to say is that not everybody has\n",
      "🗣️ User ['Guest-2'] (partial) in en-US: OK yes but i what i'm trying to say is that not everybody has the\n",
      "🗣️ User ['Guest-2'] (partial) in en-US: OK yes but i what i'm trying to say is that not everybody has the\n",
      "🗣️ User ['Guest-2'] (partial) in en-US: OK yes but i what i'm trying to say is that not everybody has the same\n",
      "🗣️ User ['Guest-2'] (partial) in en-US: OK yes but i what i'm trying to say is that not everybody has the same\n",
      "🗣️ User ['Guest-2'] (partial) in en-US: OK yes but i what i'm trying to say is that not everybody has the same thing\n",
      "🗣️ User ['Guest-2'] (partial) in en-US: OK yes but i what i'm trying to say is that not everybody has the same thing\n",
      "🗣️ User ['Guest-2'] (partial) in en-US: OK yes but i what i'm trying to say is that not everybody has the same thing so\n",
      "🗣️ User ['Guest-2'] (partial) in en-US: OK yes but i what i'm trying to say is that not everybody has the same thing so\n",
      "🗣️ User ['Guest-2'] (partial) in en-US: OK yes but i what i'm trying to say is that not everybody has the same thing so i\n",
      "🗣️ User ['Guest-2'] (partial) in en-US: OK yes but i what i'm trying to say is that not everybody has the same thing so i\n",
      "🗣️ User ['Guest-2'] (partial) in en-US: OK yes but i what i'm trying to say is that not everybody has the same thing so i just don't\n",
      "🗣️ User ['Guest-2'] (partial) in en-US: OK yes but i what i'm trying to say is that not everybody has the same thing so i just don't\n",
      "🗣️ User ['Unknown'] (partial) in en-US: just don't want to\n",
      "🗣️ User ['Unknown'] (partial) in en-US: just don't want to\n",
      "🗣️ User ['Unknown'] (partial) in en-US: just don't want to say\n",
      "🗣️ User ['Unknown'] (partial) in en-US: just don't want to say\n",
      "🗣️ User ['Unknown'] (partial) in en-US: just don't want to say that\n",
      "🗣️ User ['Unknown'] (partial) in en-US: just don't want to say that\n",
      "🗣️ User ['Guest-2'] (partial) in en-US: OK yes but i what i'm trying to say is that not everybody has the same thing so i just don't want to say that OK\n",
      "🗣️ User ['Guest-2'] (partial) in en-US: OK yes but i what i'm trying to say is that not everybody has the same thing so i just don't want to say that OK\n"
     ]
    },
    {
     "ename": "KeyboardInterrupt",
     "evalue": "",
     "output_type": "error",
     "traceback": [
      "\u001b[31m---------------------------------------------------------------------------\u001b[39m",
      "\u001b[31mKeyboardInterrupt\u001b[39m                         Traceback (most recent call last)",
      "\u001b[36mCell\u001b[39m\u001b[36m \u001b[39m\u001b[32mIn[5]\u001b[39m\u001b[32m, line 90\u001b[39m\n\u001b[32m     87\u001b[39m                     collected_messages.clear()\n\u001b[32m     88\u001b[39m     \u001b[38;5;28mprint\u001b[39m()  \u001b[38;5;66;03m# finish line after streaming LLM response\u001b[39;00m\n\u001b[32m---> \u001b[39m\u001b[32m90\u001b[39m time.sleep(\u001b[32m0.1\u001b[39m)\n",
      "\u001b[31mKeyboardInterrupt\u001b[39m: "
     ]
    },
    {
     "name": "stdout",
     "output_type": "stream",
     "text": [
      "🗣️ User ['Guest-2'] (partial) in en-US: OK yes but i what i'm trying to say is that not everybody has the same thing so i just don't want to say that OK clear code\n",
      "\n",
      "🗣️ User ['Unknown'] (partial) in en-US: clear code struct🗣️ User ['Unknown'] (partial) in en-US: clear code struct\n",
      "\n",
      "🗣️ User ['Unknown'] (partial) in en-US: clear code structure🗣️ User ['Unknown'] (partial) in en-US: clear code structure\n",
      "\n",
      "🧾 User ['Guest-1'] (final) in en-US: Here's your complete fixed and production ready class with correct Solero VAD streaming usage. No chunk error.🧾 User ['Guest-1'] (final) in en-US: Here's your complete fixed and production ready class with correct Solero VAD streaming usage. No chunk error.\n",
      "\n",
      "🧾 User ['Guest-2'] (final) in en-US: OK, yes, but I what I'm trying to say is that not everybody has the same thing. So I.🧾 User ['Guest-2'] (final) in en-US: OK, yes, but I what I'm trying to say is that not everybody has the same thing. So I.\n",
      "\n",
      "🧾 User ['Guest-2'] (final) in en-US: Just don't want to say that.🧾 User ['Guest-2'] (final) in en-US: Just don't want to say that.\n",
      "\n",
      "🧾 User ['Guest-1'] (final) in en-US: OK.🧾 User ['Guest-1'] (final) in en-US: OK.\n",
      "\n",
      "🗣️ User ['Unknown'] (partial) in en-US: streaming🗣️ User ['Unknown'] (partial) in en-US: streaming\n",
      "\n",
      "🗣️ User ['Unknown'] (partial) in en-US: streaming convers🗣️ User ['Unknown'] (partial) in en-US: streaming convers\n",
      "\n",
      "🗣️ User ['Unknown'] (partial) in en-US: streaming conversation🗣️ User ['Unknown'] (partial) in en-US: streaming conversation\n",
      "\n",
      "🗣️ User ['Guest-1'] (partial) in en-US: streaming conversation trans🗣️ User ['Guest-1'] (partial) in en-US: streaming conversation trans\n",
      "\n",
      "🗣️ User ['Guest-1'] (partial) in en-US: streaming conversation transcriber🗣️ User ['Guest-1'] (partial) in en-US: streaming conversation transcriber\n",
      "\n",
      "🗣️ User ['Guest-1'] (partial) in en-US: streaming conversation transcriber from🗣️ User ['Guest-1'] (partial) in en-US: streaming conversation transcriber from\n",
      "\n",
      "🗣️ User ['Guest-1'] (partial) in en-US: streaming conversation transcriber from by🗣️ User ['Guest-1'] (partial) in en-US: streaming conversation transcriber from by\n",
      "\n",
      "🗣️ User ['Guest-1'] (partial) in en-US: streaming conversation transcriber from bytes🗣️ User ['Guest-1'] (partial) in en-US: streaming conversation transcriber from bytes\n",
      "\n",
      "🧾 User ['Guest-1'] (final) in en-US: Streaming conversation transcriber from bytes.🧾 User ['Guest-1'] (final) in en-US: Streaming conversation transcriber from bytes.\n",
      "\n",
      "🗣️ User ['Unknown'] (partial) in en-US: you can see the🗣️ User ['Unknown'] (partial) in en-US: you can see the\n",
      "\n",
      "🗣️ User ['Unknown'] (partial) in en-US: you can see the code🗣️ User ['Unknown'] (partial) in en-US: you can see the code\n",
      "\n",
      "🗣️ User ['Unknown'] (partial) in en-US: you can see the code in our convers🗣️ User ['Unknown'] (partial) in en-US: you can see the code in our convers\n",
      "\n",
      "🗣️ User ['Guest-1'] (partial) in en-US: you can see the code in our conversation🗣️ User ['Guest-1'] (partial) in en-US: you can see the code in our conversation\n",
      "\n",
      "🗣️ User ['Guest-1'] (partial) in en-US: you can see the code in our conversation history🗣️ User ['Guest-1'] (partial) in en-US: you can see the code in our conversation history\n",
      "\n",
      "🧾 User ['Guest-1'] (final) in en-US: You can see the code in our conversation history.🧾 User ['Guest-1'] (final) in en-US: You can see the code in our conversation history.\n",
      "\n"
     ]
    }
   ],
   "source": [
    "import os, time, threading\n",
    "\n",
    "\n",
    "def on_final(text, lang, speaker_id):\n",
    "    global user_buffer\n",
    "    user_buffer += text.strip() + \"\\n\"\n",
    "    print(f\"🧾 User {[speaker_id]} (final) in {lang}: {text}\")\n",
    "\n",
    "\n",
    "def assistant_speak(text):\n",
    "    global is_synthesizing\n",
    "    print(\"Hi there, I am a assistant_speak callback!\")\n",
    "    is_synthesizing = True\n",
    "    print(\"Syntetixing:\", is_synthesizing)\n",
    "    az_speach_synthesizer_client.start_speaking_text(text)\n",
    "\n",
    "\n",
    "def on_partial(text, lang, speaker_id):\n",
    "    global is_synthesizing\n",
    "    if is_synthesizing:\n",
    "        # az_speach_synthesizer_client.stop_speaking()\n",
    "        is_synthesizing = False\n",
    "    print(f\"🗣️ User {[speaker_id]} (partial) in {lang}: {text}\")\n",
    "\n",
    "\n",
    "az_speech_recognizer_stream_client.set_partial_result_callback(on_partial)\n",
    "az_speech_recognizer_stream_client.set_final_result_callback(on_final)\n",
    "\n",
    "# Start recognition\n",
    "az_speech_recognizer_stream_client.start()\n",
    "print(\"🎙️ Speak now...\")\n",
    "\n",
    "# Start mic streaming thread\n",
    "import pyaudio\n",
    "\n",
    "RATE, CHANNELS, CHUNK = 16000, 1, 1024\n",
    "audio = pyaudio.PyAudio()\n",
    "stream = audio.open(\n",
    "    format=pyaudio.paInt16,\n",
    "    channels=CHANNELS,\n",
    "    rate=RATE,\n",
    "    input=True,\n",
    "    frames_per_buffer=CHUNK,\n",
    ")\n",
    "\n",
    "\n",
    "def mic_loop():\n",
    "    while True:\n",
    "        data = stream.read(CHUNK, exception_on_overflow=False)\n",
    "        az_speech_recognizer_stream_client.write_bytes(data)\n",
    "\n",
    "\n",
    "threading.Thread(target=mic_loop, daemon=True).start()\n",
    "\n",
    "messages = [{\"role\": \"system\", \"content\": \"You are a helpful assistant.\"}]\n",
    "\n",
    "user_buffer = \"\"  # This should be filled in by your STT callback as before\n",
    "\n",
    "while True:\n",
    "    if user_buffer:\n",
    "        full_conversation = (\n",
    "            \"\\n\".join([f\"{m['role'].capitalize()}: {m['content']}\" for m in messages])\n",
    "            + f\"\\nUser: {user_buffer}\"\n",
    "        )\n",
    "        messages.append({\"role\": \"user\", \"content\": user_buffer})\n",
    "        user_buffer = \"\"  # clear after using\n",
    "\n",
    "        completion = client.chat.completions.create(\n",
    "            stream=True,\n",
    "            messages=messages,\n",
    "            max_tokens=4096,\n",
    "            temperature=1.0,\n",
    "            top_p=1.0,\n",
    "            model=os.getenv(\"AZURE_OPENAI_CHAT_DEPLOYMENT_ID\"),\n",
    "        )\n",
    "\n",
    "        collected_messages = []\n",
    "        last_tts_request = None\n",
    "\n",
    "        for chunk in completion:\n",
    "            if chunk.choices and hasattr(chunk.choices[0].delta, \"content\"):\n",
    "                chunk_text = chunk.choices[0].delta.content\n",
    "                if chunk_text:\n",
    "                    collected_messages.append(chunk_text)\n",
    "                    print(chunk_text, end=\"\", flush=True)\n",
    "                    # Check for sentence end to stream to TTS\n",
    "                    if chunk_text in TTS_ENDS:\n",
    "                        text = \"\".join(collected_messages).strip()\n",
    "                        last_tts_request = assistant_speak(text)\n",
    "                        collected_messages.clear()\n",
    "        print()  # finish line after streaming LLM response\n",
    "\n",
    "    time.sleep(0.1)"
   ]
  },
  {
   "cell_type": "code",
   "execution_count": null,
   "id": "3f1cddbd",
   "metadata": {},
   "outputs": [
    {
     "name": "stderr",
     "output_type": "stream",
     "text": [
      "[2025-08-07 01:33:24,074] INFO -  INFO - micro: [🛑] Stopping speech synthesis...\n",
      "INFO:micro:[🛑] Stopping speech synthesis...\n",
      "micro: [🛑] Stopping speech synthesis...\n",
      "INFO:micro:[🛑] Stopping speech synthesis...\n"
     ]
    },
    {
     "name": "stdout",
     "output_type": "stream",
     "text": [
      "🗣️ User ['Unknown'] (partial) in en-US: optional next\n",
      "\n",
      "🧾 User ['Guest-1'] (final) in en-US: Optional Next.🧾 User ['Guest-1'] (final) in en-US: Optional Next.\n",
      "\n"
     ]
    },
    {
     "name": "stderr",
     "output_type": "stream",
     "text": [
      "[2025-08-07 01:33:24,715]  WARNINGWARNING -  - micromicro: Conversation canceled: ConversationTranscriptionCanceledEventArgs(session_id=13c14e2aa58d444b90b193d66e46efed, result=ConversationTranscriptionResult(result_id=6c6ed35fba55462eb4f7c67f068849dd, speaker_id=, text=, reason=ResultReason.Canceled))\n",
      ": Conversation canceled: ConversationTranscriptionCanceledEventArgs(session_id=13c14e2aa58d444b90b193d66e46efed, result=ConversationTranscriptionResult(result_id=6c6ed35fba55462eb4f7c67f068849dd, speaker_id=, text=, reason=ResultReason.Canceled))\n",
      "WARNING:micro:Conversation canceled: ConversationTranscriptionCanceledEventArgs(session_id=13c14e2aa58d444b90b193d66e46efed, result=ConversationTranscriptionResult(result_id=6c6ed35fba55462eb4f7c67f068849dd, speaker_id=, text=, reason=ResultReason.Canceled))\n",
      "WARNING:micro:Conversation canceled: ConversationTranscriptionCanceledEventArgs(session_id=13c14e2aa58d444b90b193d66e46efed, result=ConversationTranscriptionResult(result_id=6c6ed35fba55462eb4f7c67f068849dd, speaker_id=, text=, reason=ResultReason.Canceled))\n",
      "[2025-08-07 01:33:24,736][2025-08-07 01:33:24,736]  INFOINFO -  - micromicro: Conversation session stopped.\n",
      ": Conversation session stopped.\n",
      "INFO:micro:Conversation session stopped.\n",
      "INFO:micro:Conversation session stopped.\n",
      "[2025-08-07 04:33:53,992][2025-08-07 04:33:53,992]  WARNINGWARNING -  - micromicro: Conversation canceled: ConversationTranscriptionCanceledEventArgs(session_id=13c14e2aa58d444b90b193d66e46efed, result=ConversationTranscriptionResult(result_id=b64c6e3ee0ed4886bc3ba626bcdb0b11, speaker_id=, text=, reason=ResultReason.Canceled))\n",
      ": Conversation canceled: ConversationTranscriptionCanceledEventArgs(session_id=13c14e2aa58d444b90b193d66e46efed, result=ConversationTranscriptionResult(result_id=b64c6e3ee0ed4886bc3ba626bcdb0b11, speaker_id=, text=, reason=ResultReason.Canceled))\n",
      "WARNING:micro:Conversation canceled: ConversationTranscriptionCanceledEventArgs(session_id=13c14e2aa58d444b90b193d66e46efed, result=ConversationTranscriptionResult(result_id=b64c6e3ee0ed4886bc3ba626bcdb0b11, speaker_id=, text=, reason=ResultReason.Canceled))\n",
      "WARNING:micro:Conversation canceled: ConversationTranscriptionCanceledEventArgs(session_id=13c14e2aa58d444b90b193d66e46efed, result=ConversationTranscriptionResult(result_id=b64c6e3ee0ed4886bc3ba626bcdb0b11, speaker_id=, text=, reason=ResultReason.Canceled))\n"
     ]
    }
   ],
   "source": [
    "az_speech_recognizer_stream_client.close_stream()\n",
    "az_speach_synthesizer_client.stop_speaking()"
   ]
  }
 ],
 "metadata": {
  "kernelspec": {
   "display_name": "audioagent",
   "language": "python",
   "name": "python3"
  },
  "language_info": {
   "codemirror_mode": {
    "name": "ipython",
    "version": 3
   },
   "file_extension": ".py",
   "mimetype": "text/x-python",
   "name": "python",
   "nbconvert_exporter": "python",
   "pygments_lexer": "ipython3",
   "version": "3.11.11"
  }
 },
 "nbformat": 4,
 "nbformat_minor": 5
}
