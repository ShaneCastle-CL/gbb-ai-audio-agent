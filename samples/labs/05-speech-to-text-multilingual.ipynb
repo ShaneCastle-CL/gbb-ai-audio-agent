{
 "cells": [
  {
   "cell_type": "code",
   "execution_count": 1,
   "id": "343b4d5f",
   "metadata": {},
   "outputs": [
    {
     "name": "stdout",
     "output_type": "stream",
     "text": [
      "Changed directory to: c:\\Users\\pablosal\\Desktop\\gbb-ai-audio-agent\n"
     ]
    }
   ],
   "source": [
    "import logging\n",
    "import os\n",
    "\n",
    "# set the directory to the location of the script\n",
    "try:\n",
    "    os.chdir(\"../..\")\n",
    "    target_directory = os.getenv(\n",
    "        \"TARGET_DIRECTORY\", os.getcwd()\n",
    "    )  # Use environment variable if available\n",
    "    if os.path.exists(target_directory):\n",
    "        os.chdir(target_directory)\n",
    "        print(f\"Changed directory to: {os.getcwd()}\")\n",
    "        logging.info(f\"Successfully changed directory to: {os.getcwd()}\")\n",
    "    else:\n",
    "        logging.error(f\"Directory does not exist: {target_directory}\")\n",
    "except Exception as e:\n",
    "    logging.exception(f\"An error occurred while changing directory: {e}\")"
   ]
  },
  {
   "cell_type": "code",
   "execution_count": 2,
   "id": "930a1a0c",
   "metadata": {},
   "outputs": [
    {
     "name": "stderr",
     "output_type": "stream",
     "text": [
      "[2025-08-06 10:44:02,823] INFO - micro: Azure Monitor tracing initialized for speech recognizer\n",
      "INFO:micro:Azure Monitor tracing initialized for speech recognizer\n",
      "[2025-08-06 10:44:02,835] INFO - micro: Creating SpeechConfig with API key authentication\n",
      "INFO:micro:Creating SpeechConfig with API key authentication\n",
      "[2025-08-06 10:44:02,850] INFO - micro: Azure Monitor tracing initialized for speech synthesizer\n",
      "INFO:micro:Azure Monitor tracing initialized for speech synthesizer\n",
      "[2025-08-06 10:44:02,862] INFO - micro: Creating SpeechConfig with API key authentication\n",
      "INFO:micro:Creating SpeechConfig with API key authentication\n",
      "[2025-08-06 10:44:02,878] INFO - micro: Speech synthesizer initialized successfully\n",
      "INFO:micro:Speech synthesizer initialized successfully\n"
     ]
    }
   ],
   "source": [
    "from src.speech.text_to_speech import SpeechSynthesizer\n",
    "from src.speech.speech_recognizer import StreamingSpeechRecognizerFromBytes\n",
    "from openai import AzureOpenAI\n",
    "\n",
    "if \"az_speech_recognizer_stream_client\" not in locals():\n",
    "    az_speech_recognizer_stream_client = StreamingSpeechRecognizerFromBytes(\n",
    "        vad_silence_timeout_ms=800,\n",
    "        use_semantic_segmentation=False,\n",
    "        audio_format=\"pcm\",\n",
    "        candidate_languages=[\"en-US\", \"fr-FR\", \"de-DE\", \"es-ES\", \"it-IT\"],\n",
    "        enable_diarisation=True,\n",
    "        speaker_count_hint=2,\n",
    "        enable_neural_fe=False,\n",
    "    )\n",
    "\n",
    "if \"az_speach_synthesizer_client\" not in locals():\n",
    "    az_speach_synthesizer_client = SpeechSynthesizer()\n",
    "\n",
    "# Ensure Azure OpenAI client is initialized only if not already defined\n",
    "if \"client\" not in locals():\n",
    "    client = AzureOpenAI(\n",
    "        api_version=\"2025-02-01-preview\",\n",
    "        azure_endpoint=os.getenv(\"AZURE_OPENAI_ENDPOINT\"),\n",
    "        api_key=os.getenv(\"AZURE_OPENAI_KEY\"),\n",
    "    )"
   ]
  },
  {
   "cell_type": "code",
   "execution_count": 3,
   "id": "2d74aee5",
   "metadata": {},
   "outputs": [],
   "source": [
    "# Define end-of-sentence markers for TTS\n",
    "TTS_ENDS = {\".\", \"!\", \"?\", \";\", \"\\n\"}\n",
    "\n",
    "# Flags and buffers\n",
    "is_synthesizing = False\n",
    "user_buffer = \"\"\n",
    "assistant_buffer = \"\"\n",
    "tts_thread = None"
   ]
  },
  {
   "cell_type": "code",
   "execution_count": null,
   "id": "4c00c034",
   "metadata": {},
   "outputs": [
    {
     "name": "stderr",
     "output_type": "stream",
     "text": [
      "[2025-08-06 10:44:07,077] INFO - micro: Starting recognition from byte stream...\n",
      "INFO:micro:Starting recognition from byte stream...\n",
      "[2025-08-06 10:44:07,094] INFO - micro: Recognition started.\n",
      "INFO:micro:Recognition started.\n"
     ]
    },
    {
     "name": "stdout",
     "output_type": "stream",
     "text": [
      "🎙️ Speak now...\n",
      "🗣️ User (partial) in en-US: yes i understand that\n",
      "🗣️ User (partial) in en-US: yes i understand that and\n",
      "🗣️ User (partial) in en-US: yes i understand that and i\n",
      "🗣️ User (partial) in en-US: yes i understand that and i agree\n",
      "🗣️ User (partial) in en-US: yes i understand that and i agree with\n",
      "🗣️ User (partial) in en-US: yes i understand that and i agree with that\n",
      "🗣️ User (partial) in es-ES: grande stan\n",
      "🗣️ User (partial) in es-ES: grande standard\n",
      "🗣️ User (partial) in es-ES: sean standard and i\n",
      "🗣️ User (partial) in es-ES: sean standard and i greewichet\n",
      "🗣️ User (partial) in es-ES: sean standard and i greewichet an\n",
      "🗣️ User (partial) in es-ES: sean standard and i greewichet **** just in\n",
      "🗣️ User (partial) in es-ES: sean standard and i greewichet **** just in to the\n",
      "🗣️ User (partial) in es-ES: sean standard and i greewichet **** just in to the re\n",
      "🗣️ User (partial) in es-ES: sean standard and i greewichet **** just in to the really things\n",
      "🗣️ User (partial) in es-ES: sean standard and i greewichet\n",
      "🧾 User (final) in es-ES: Sean standard and I Greewichet.\n",
      "🗣️ User (partial) in en-US: reset and i just need to\n",
      "🗣️ User (partial) in en-US: reset and i just need to like\n",
      "🗣️ User (partial) in en-US: reset and i just need to like really think about it\n",
      "🗣️ User (partial) in en-US: reset and i just need to like really think about it but i mean\n",
      "🗣️ User (partial) in en-US: reset and i just need to like really think about it but i mean that\n",
      "🗣️ User (partial) in en-US: reset and i just need to like really think about it but i mean that's\n",
      "🗣️ User (partial) in en-US: reset and i just need to like really think about it but i mean that's it\n",
      "It seems like your input may be incomplete or unclear.Hi there, I am a assistant_speak callback!🧾 User (final) in en-US: And I just need to like, really think about it. But I mean, that's it.\n",
      "\n",
      "Syntetixing: True\n"
     ]
    },
    {
     "name": "stderr",
     "output_type": "stream",
     "text": [
      "[2025-08-06 10:44:18,128] INFO - micro: [🔊] Starting streaming speech synthesis for text: It seems like your input may be incomplete or uncl...\n",
      "INFO:micro:[🔊] Starting streaming speech synthesis for text: It seems like your input may be incomplete or uncl...\n"
     ]
    },
    {
     "name": "stdout",
     "output_type": "stream",
     "text": [
      " Are you looking for information about Sean Standard and Greenwich?Hi there, I am a assistant_speak callback!\n",
      "Syntetixing: True\n"
     ]
    },
    {
     "name": "stderr",
     "output_type": "stream",
     "text": [
      "[2025-08-06 10:44:18,210] INFO - micro: [🔊] Starting streaming speech synthesis for text: Are you looking for information about Sean Standar...\n",
      "INFO:micro:[🔊] Starting streaming speech synthesis for text: Are you looking for information about Sean Standar...\n"
     ]
    },
    {
     "name": "stdout",
     "output_type": "stream",
     "text": [
      " If you could provide more context or clarify your question, I would be happy to help!Hi there, I am a assistant_speak callback!\n",
      "Syntetixing: True\n"
     ]
    },
    {
     "name": "stderr",
     "output_type": "stream",
     "text": [
      "[2025-08-06 10:44:18,404] INFO - micro: [🔊] Starting streaming speech synthesis for text: If you could provide more context or clarify your ...\n",
      "INFO:micro:[🔊] Starting streaming speech synthesis for text: If you could provide more context or clarify your ...\n"
     ]
    },
    {
     "name": "stdout",
     "output_type": "stream",
     "text": [
      "\n",
      "It sounds like you're in the process of considering something important or trying to make a decision.Hi there, I am a assistant_speak callback!\n",
      "Syntetixing: True\n"
     ]
    },
    {
     "name": "stderr",
     "output_type": "stream",
     "text": [
      "[2025-08-06 10:44:19,425] INFO - micro: [🔊] Starting streaming speech synthesis for text: It sounds like you're in the process of considerin...\n",
      "INFO:micro:[🔊] Starting streaming speech synthesis for text: It sounds like you're in the process of considerin...\n"
     ]
    },
    {
     "name": "stdout",
     "output_type": "stream",
     "text": [
      " If you'd like to share more details or if there's a specific topic you're pondering, feel free to elaborate.Hi there, I am a assistant_speak callback!\n",
      "Syntetixing: True\n"
     ]
    },
    {
     "name": "stderr",
     "output_type": "stream",
     "text": [
      "[2025-08-06 10:44:19,703] INFO - micro: [🔊] Starting streaming speech synthesis for text: If you'd like to share more details or if there's ...\n",
      "INFO:micro:[🔊] Starting streaming speech synthesis for text: If you'd like to share more details or if there's ...\n"
     ]
    },
    {
     "name": "stdout",
     "output_type": "stream",
     "text": [
      " I'm here to help you think it through!Hi there, I am a assistant_speak callback!\n",
      "Syntetixing: True\n"
     ]
    },
    {
     "name": "stderr",
     "output_type": "stream",
     "text": [
      "[2025-08-06 10:44:19,764] INFO - micro: [🔊] Starting streaming speech synthesis for text: I'm here to help you think it through!...\n",
      "INFO:micro:[🔊] Starting streaming speech synthesis for text: I'm here to help you think it through!...\n"
     ]
    },
    {
     "name": "stdout",
     "output_type": "stream",
     "text": [
      "\n"
     ]
    },
    {
     "ename": "KeyboardInterrupt",
     "evalue": "",
     "output_type": "error",
     "traceback": [
      "\u001b[31m---------------------------------------------------------------------------\u001b[39m",
      "\u001b[31mKeyboardInterrupt\u001b[39m                         Traceback (most recent call last)",
      "\u001b[36mCell\u001b[39m\u001b[36m \u001b[39m\u001b[32mIn[4]\u001b[39m\u001b[32m, line 93\u001b[39m\n\u001b[32m     90\u001b[39m                     collected_messages.clear()\n\u001b[32m     91\u001b[39m     \u001b[38;5;28mprint\u001b[39m()  \u001b[38;5;66;03m# finish line after streaming LLM response\u001b[39;00m\n\u001b[32m---> \u001b[39m\u001b[32m93\u001b[39m time.sleep(\u001b[32m0.1\u001b[39m)\n",
      "\u001b[31mKeyboardInterrupt\u001b[39m: "
     ]
    },
    {
     "name": "stdout",
     "output_type": "stream",
     "text": [
      "🗣️ User (partial) in en-US: OK\n",
      "🗣️ User (partial) in en-US: OK so but the\n",
      "🗣️ User (partial) in en-US: OK so but the problem that\n",
      "🗣️ User (partial) in en-US: OK so but the problem that i'm trying\n",
      "🗣️ User (partial) in en-US: OK so but the problem that i'm trying to\n",
      "🗣️ User (partial) in en-US: OK so but the problem that i'm trying to set is\n",
      "🗣️ User (partial) in en-US: OK so but the problem that i'm trying to set is that\n",
      "🗣️ User (partial) in en-US: OK so but the problem that i'm trying to set is that is not\n",
      "🗣️ User (partial) in en-US: OK so but the problem that i'm trying to set is that is not as\n",
      "🗣️ User (partial) in en-US: OK so but the problem that i'm trying to set is that is not as easy\n",
      "🗣️ User (partial) in en-US: OK so but the problem that i'm trying to set is that is not as easy you know\n",
      "🗣️ User (partial) in en-US: OK so but the problem that i'm trying to set is that is not as easy you know like\n",
      "🗣️ User (partial) in en-US: OK so but the problem that i'm trying to set is that is not as easy you know like i mean\n",
      "🗣️ User (partial) in en-US: OK so but the problem that i'm trying to set is that is not as easy you know like i mean when\n",
      "🗣️ User (partial) in en-US: OK so but the problem that i'm trying to set is that is not as easy you know like i mean when i'm\n",
      "🗣️ User (partial) in en-US: OK so but the problem that i'm trying to set is that is not as easy you know like i mean when i'm trying to do\n",
      "🗣️ User (partial) in en-US: OK so but the problem that i'm trying to set is that is not as easy you know like i mean when i'm trying to do this\n",
      "🗣️ User (partial) in en-US: OK so but the problem that i'm trying to set is that is not as easy you know like i mean when i'm trying to do this i don't know\n",
      "🗣️ User (partial) in en-US: OK so but the problem that i'm trying to set is that is not as easy you know like i mean when i'm trying to do this i don't know if\n",
      "🗣️ User (partial) in en-US: OK so but the problem that i'm trying to set is that is not as easy you know like i mean when i'm trying to do this i don't know if it's\n",
      "🗣️ User (partial) in en-US: OK so but the problem that i'm trying to set is that is not as easy you know like i mean when i'm trying to do this i don't know if it's that possible\n",
      "🗣️ User (partial) in en-US: OK so but the problem that i'm trying to set is that is not as easy you know like i mean when i'm trying to do this i don't know if it's that possible because\n",
      "🗣️ User (partial) in en-US: OK so but the problem that i'm trying to set is that is not as easy you know like i mean when i'm trying to do this i don't know if it's that possible because i mean\n",
      "🗣️ User (partial) in en-US: OK so but the problem that i'm trying to set is that is not as easy you know like i mean when i'm trying to do this i don't know if it's that possible because i mean i\n",
      "🗣️ User (partial) in en-US: OK so but the problem that i'm trying to set is that is not as easy you know like i mean when i'm trying to do this i don't know if it's that possible because i mean i understand\n",
      "🗣️ User (partial) in en-US: OK so but the problem that i'm trying to set is that is not as easy you know like i mean when i'm trying to do this i don't know if it's that possible because i mean i understand that\n",
      "🗣️ User (partial) in en-US: OK so but the problem that i'm trying to set is that is not as easy you know like i mean when i'm trying to do this i don't know if it's that possible because i mean i understand that it is\n",
      "🗣️ User (partial) in en-US: OK so but the problem that i'm trying to set is that is not as easy you know like i mean when i'm trying to do this i don't know if it's that possible because i mean i understand that it is hard to\n",
      "🗣️ User (partial) in en-US: OK so but the problem that i'm trying to set is that is not as easy you know like i mean when i'm trying to do this i don't know if it's that possible because i mean i understand that it is hard to like\n",
      "🗣️ User (partial) in en-US: OK so but the problem that i'm trying to set is that is not as easy you know like i mean when i'm trying to do this i don't know if it's that possible because i mean i understand that it is hard to like all good\n",
      "🗣️ User (partial) in en-US: OK so but the problem that i'm trying to set is that is not as easy you know like i mean when i'm trying to do this i don't know if it's that possible because i mean i understand that it is hard to like all good but\n",
      "🗣️ User (partial) in en-US: OK so but the problem that i'm trying to set is that is not as easy you know like i mean when i'm trying to do this i don't know if it's that possible because i mean i understand that it is hard to like all good but i mean\n",
      "🗣️ User (partial) in en-US: OK so but the problem that i'm trying to set is that is not as easy you know like i mean when i'm trying to do this i don't know if it's that possible because i mean i understand that it is hard to like all good but i mean i don't know\n",
      "🗣️ User (partial) in en-US: OK so but the problem that i'm trying to set is that is not as easy you know like i mean when i'm trying to do this i don't know if it's that possible because i mean i understand that it is hard to like all good but i mean i don't know if\n",
      "🗣️ User (partial) in en-US: OK so but the problem that i'm trying to set is that is not as easy you know like i mean when i'm trying to do this i don't know if it's that possible because i mean i understand that it is hard to like all good but i mean i don't know if it's\n",
      "🗣️ User (partial) in en-US: OK so but the problem that i'm trying to set is that is not as easy you know like i mean when i'm trying to do this i don't know if it's that possible because i mean i understand that it is hard to like all good but i mean i don't know if it's it's like\n",
      "🗣️ User (partial) in en-US: OK so but the problem that i'm trying to set is that is not as easy you know like i mean when i'm trying to do this i don't know if it's that possible because i mean i understand that it is hard to like all good but i mean i don't know if it's it's like perfect\n",
      "🗣️ User (partial) in en-US: OK so but the problem that i'm trying to set is that is not as easy you know like i mean when i'm trying to do this i don't know if it's that possible because i mean i understand that it is hard to like all good but i mean i don't know if it's it's like perfect you know what i mean\n",
      "🗣️ User (partial) in en-US: OK so but the problem that i'm trying to set is that is not as easy you know like i mean when i'm trying to do this i don't know if it's that possible because i mean i understand that it is hard to like all good but i mean i don't know if it's it's like perfect you know what i mean elegant architecture and lively\n",
      "🗣️ User (partial) in en-US: OK so but the problem that i'm trying to set is that is not as easy you know like i mean when i'm trying to do this i don't know if it's that possible because i mean i understand that it is hard to like all good but i mean i don't know if it's it's like perfect you know what i mean elegant architecture and lively atmosphere\n",
      "🧾 User (final) in en-US: OK, so, but the problem that I'm trying to set is that is not as easy, you know, like I mean, when I'm trying to do this, I don't know if it's that possible because I mean, I understand that it is hard to like all good. But I mean, I don't know if it's, it's like perfect, you know what I mean? Elegant architecture and lively atmosphere.\n",
      "🗣️ User (partial) in en-US: offer something\n",
      "🗣️ User (partial) in en-US: offer something for everyone\n",
      "🧾 User (final) in en-US: Offer something for everyone.\n",
      "🗣️ User (partial) in en-US: search can explore\n",
      "🗣️ User (partial) in en-US: search can explore world\n",
      "🗣️ User (partial) in en-US: search can explore world class\n",
      "🗣️ User (partial) in en-US: search can explore world class museums\n",
      "🗣️ User (partial) in en-US: search can explore world class museums like\n",
      "🗣️ User (partial) in en-US: search can explore world class museums like the\n",
      "🗣️ User (partial) in en-US: search can explore world class museums like the proverb\n",
      "🧾 User (final) in en-US: Search can explore world class museums like the proverbial.\n",
      "🗣️ User (partial) in en-US: CS go\n",
      "🧾 User (final) in en-US: CS go through the beautiful.\n",
      "🗣️ User (partial) in en-US: hey cortana\n",
      "🗣️ User (partial) in en-US: or secret tapas ugly\n",
      "🗣️ User (partial) in en-US: or secret tapas ugly neighborhood\n",
      "🗣️ User (partial) in en-US: or secret tapas ugly neighborhoods like\n",
      "🗣️ User (partial) in en-US: or secret tapas ugly neighborhoods like la latina\n",
      "🧾 User (final) in en-US: Hey Cortana. Mostly neighborhoods like La Latina.\n",
      "🗣️ User (partial) in en-US: energy causes day and night\n",
      "🧾 User (final) in en-US: Energy causes day and night.\n",
      "🗣️ User (partial) in en-US: OK\n",
      "🗣️ User (partial) in en-US: OK but i\n",
      "🗣️ User (partial) in en-US: OK but i mean\n",
      "🗣️ User (partial) in en-US: OK but i mean the thing is\n",
      "🗣️ User (partial) in en-US: OK but i mean the thing is that\n",
      "🗣️ User (partial) in en-US: OK but i mean the thing is that i\n",
      "🗣️ User (partial) in en-US: OK but i mean the thing is that i don't know\n",
      "🗣️ User (partial) in en-US: OK but i mean the thing is that i don't know if\n",
      "🗣️ User (partial) in en-US: OK but i mean the thing is that i don't know if you tattoo\n",
      "🗣️ User (partial) in en-US: OK but i mean the thing is that i don't know if you tattoo going to be\n",
      "🗣️ User (partial) in en-US: OK but i mean the thing is that i don't know if you tattoo going to be good on\n",
      "🗣️ User (partial) in en-US: OK but i mean the thing is that i don't know if you tattoo going to be good on it\n",
      "🧾 User (final) in en-US: OK, but I mean The thing is that I don't know if.\n"
     ]
    }
   ],
   "source": [
    "import os, time, threading\n",
    "\n",
    "\n",
    "def on_final(text, lang):\n",
    "    global user_buffer\n",
    "    user_buffer += text.strip() + \"\\n\"\n",
    "    print(f\"🧾 User (final) in {lang}: {text}\")\n",
    "\n",
    "\n",
    "def assistant_speak(text):\n",
    "    global is_synthesizing\n",
    "    print(\"Hi there, I am a assistant_speak callback!\")\n",
    "    is_synthesizing = True\n",
    "    print(\"Syntetixing:\", is_synthesizing)\n",
    "    az_speach_synthesizer_client.start_speaking_text(text)\n",
    "\n",
    "\n",
    "def on_partial(text, lang):\n",
    "    global is_synthesizing\n",
    "    if is_synthesizing:\n",
    "        # az_speach_synthesizer_client.stop_speaking()\n",
    "        is_synthesizing = False\n",
    "    print(f\"🗣️ User (partial) in {lang}: {text}\")\n",
    "\n",
    "\n",
    "az_speech_recognizer_stream_client.set_partial_result_callback(on_partial)\n",
    "az_speech_recognizer_stream_client.set_final_result_callback(on_final)\n",
    "\n",
    "# Start recognition\n",
    "az_speech_recognizer_stream_client.start()\n",
    "print(\"🎙️ Speak now...\")\n",
    "\n",
    "# Start mic streaming thread\n",
    "import pyaudio\n",
    "\n",
    "RATE, CHANNELS, CHUNK = 16000, 1, 1024\n",
    "audio = pyaudio.PyAudio()\n",
    "stream = audio.open(\n",
    "    format=pyaudio.paInt16,\n",
    "    channels=CHANNELS,\n",
    "    rate=RATE,\n",
    "    input=True,\n",
    "    frames_per_buffer=CHUNK,\n",
    ")\n",
    "\n",
    "\n",
    "def mic_loop():\n",
    "    while True:\n",
    "        data = stream.read(CHUNK, exception_on_overflow=False)\n",
    "        az_speech_recognizer_stream_client.write_bytes(data)\n",
    "\n",
    "\n",
    "threading.Thread(target=mic_loop, daemon=True).start()\n",
    "\n",
    "messages = [{\"role\": \"system\", \"content\": \"You are a helpful assistant.\"}]\n",
    "\n",
    "user_buffer = \"\"  # This should be filled in by your STT callback as before\n",
    "\n",
    "while True:\n",
    "    if user_buffer:\n",
    "        full_conversation = (\n",
    "            \"\\n\".join([f\"{m['role'].capitalize()}: {m['content']}\" for m in messages])\n",
    "            + f\"\\nUser: {user_buffer}\"\n",
    "        )\n",
    "        messages.append({\"role\": \"user\", \"content\": user_buffer})\n",
    "        user_buffer = \"\"  # clear after using\n",
    "\n",
    "        completion = client.chat.completions.create(\n",
    "            stream=True,\n",
    "            messages=messages,\n",
    "            max_tokens=4096,\n",
    "            temperature=1.0,\n",
    "            top_p=1.0,\n",
    "            model=os.getenv(\"AZURE_OPENAI_CHAT_DEPLOYMENT_ID\"),\n",
    "        )\n",
    "\n",
    "        collected_messages = []\n",
    "        last_tts_request = None\n",
    "\n",
    "        for chunk in completion:\n",
    "            if chunk.choices and hasattr(chunk.choices[0].delta, \"content\"):\n",
    "                chunk_text = chunk.choices[0].delta.content\n",
    "                if chunk_text:\n",
    "                    collected_messages.append(chunk_text)\n",
    "                    print(chunk_text, end=\"\", flush=True)\n",
    "                    # Check for sentence end to stream to TTS\n",
    "                    if chunk_text in TTS_ENDS:\n",
    "                        text = \"\".join(collected_messages).strip()\n",
    "                        last_tts_request = assistant_speak(text)\n",
    "                        collected_messages.clear()\n",
    "        print()  # finish line after streaming LLM response\n",
    "\n",
    "    time.sleep(0.1)"
   ]
  },
  {
   "cell_type": "code",
   "execution_count": null,
   "id": "8dfa1d5f",
   "metadata": {},
   "outputs": [
    {
     "name": "stderr",
     "output_type": "stream",
     "text": [
      "[2025-08-06 10:45:58,878] INFO - micro: [🛑] Stopping speech synthesis...\n",
      "INFO:micro:[🛑] Stopping speech synthesis...\n"
     ]
    },
    {
     "name": "stderr",
     "output_type": "stream",
     "text": [
      "[2025-08-06 10:45:59,049] WARNING - micro: Recognition canceled: SpeechRecognitionCanceledEventArgs(session_id=9993690b4d444f6e96612b9f9d8e3a57, result=SpeechRecognitionResult(result_id=dcace2598fb847c484b5fe936d86722d, text=\"\", reason=ResultReason.Canceled))\n",
      "WARNING:micro:Recognition canceled: SpeechRecognitionCanceledEventArgs(session_id=9993690b4d444f6e96612b9f9d8e3a57, result=SpeechRecognitionResult(result_id=dcace2598fb847c484b5fe936d86722d, text=\"\", reason=ResultReason.Canceled))\n",
      "[2025-08-06 10:45:59,067] WARNING - micro: Reason: CancellationReason.EndOfStream, Error: \n",
      "WARNING:micro:Reason: CancellationReason.EndOfStream, Error: \n",
      "[2025-08-06 10:45:59,080] INFO - micro: Session stopped.\n",
      "INFO:micro:Session stopped.\n"
     ]
    }
   ],
   "source": [
    "az_speech_recognizer_stream_client.close_stream()\n",
    "az_speach_synthesizer_client.stop_speaking()"
   ]
  }
 ],
 "metadata": {
  "kernelspec": {
   "display_name": "audioagent",
   "language": "python",
   "name": "python3"
  },
  "language_info": {
   "codemirror_mode": {
    "name": "ipython",
    "version": 3
   },
   "file_extension": ".py",
   "mimetype": "text/x-python",
   "name": "python",
   "nbconvert_exporter": "python",
   "pygments_lexer": "ipython3",
   "version": "3.11.11"
  }
 },
 "nbformat": 4,
 "nbformat_minor": 5
}
