{
 "cells": [
  {
   "cell_type": "code",
   "execution_count": 1,
   "id": "2e24e206",
   "metadata": {},
   "outputs": [],
   "source": [
    "import logging\n",
    "import os\n",
    "\n",
    "# set the directory to the location of the script\n",
    "try:\n",
    "    target_directory = os.getenv(\n",
    "        \"TARGET_DIRECTORY\", os.getcwd()\n",
    "    )  # Use environment variable if available\n",
    "    if os.path.exists(target_directory):\n",
    "        os.chdir(target_directory)\n",
    "        logging.info(f\"Successfully changed directory to: {os.getcwd()}\")\n",
    "    else:\n",
    "        logging.error(f\"Directory does not exist: {target_directory}\")\n",
    "except Exception as e:\n",
    "    logging.exception(f\"An error occurred while changing directory: {e}\")"
   ]
  },
  {
   "cell_type": "code",
   "execution_count": 2,
   "id": "bc0813d8",
   "metadata": {},
   "outputs": [],
   "source": [
    "from src.redis.redis_client import AzureRedisManager"
   ]
  },
  {
   "cell_type": "code",
   "execution_count": 3,
   "id": "7740ed0c",
   "metadata": {},
   "outputs": [
    {
     "name": "stderr",
     "output_type": "stream",
     "text": [
      "2025-05-19 22:57:55,442 - micro - MainProcess - INFO     Azure Redis connection initialized. (redis_client.py:__init__:42)\n",
      "INFO:micro:Azure Redis connection initialized.\n"
     ]
    },
    {
     "name": "stdout",
     "output_type": "stream",
     "text": [
      "{'user': 'Pablo', 'authenticated': 'True'}\n"
     ]
    }
   ],
   "source": [
    "redis_manager = AzureRedisManager()\n",
    "\n",
    "redis_manager.ping()  # Check connectivity\n",
    "redis_manager.store_session_data(\n",
    "    \"session123\", {\"user\": \"Pablo\", \"authenticated\": \"True\"}\n",
    ")\n",
    "print(redis_manager.get_session_data(\"session123\"))"
   ]
  }
 ],
 "metadata": {
  "kernelspec": {
   "display_name": "audioagent",
   "language": "python",
   "name": "python3"
  },
  "language_info": {
   "codemirror_mode": {
    "name": "ipython",
    "version": 3
   },
   "file_extension": ".py",
   "mimetype": "text/x-python",
   "name": "python",
   "nbconvert_exporter": "python",
   "pygments_lexer": "ipython3",
   "version": "3.11.11"
  }
 },
 "nbformat": 4,
 "nbformat_minor": 5
}
