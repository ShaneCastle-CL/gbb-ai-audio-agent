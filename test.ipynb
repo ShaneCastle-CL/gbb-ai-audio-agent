{
 "cells": [
  {
   "cell_type": "code",
   "execution_count": 2,
   "metadata": {},
   "outputs": [
    {
     "name": "stdout",
     "output_type": "stream",
     "text": [
      "Available audio devices:\n",
      "0: Microsoft Sound Mapper - Input\n",
      "1: Microphone (Lumina Camera - Raw\n",
      "2: Surface Stereo Microphones (Sur\n",
      "3: Microsoft Sound Mapper - Output\n",
      "4: Surface Omnisonic Speakers (Sur\n",
      "5: Speakers (Dell USB Audio)\n",
      "6: Primary Sound Capture Driver\n",
      "7: Microphone (Lumina Camera - Raw)\n",
      "8: Surface Stereo Microphones (Surface High Definition Audio)\n",
      "9: Primary Sound Driver\n",
      "10: Surface Omnisonic Speakers (Surface High Definition Audio)\n",
      "11: Speakers (Dell USB Audio)\n",
      "12: Speakers (Dell USB Audio)\n",
      "13: Surface Omnisonic Speakers (Surface High Definition Audio)\n",
      "14: Surface Stereo Microphones (Surface High Definition Audio)\n",
      "15: Microphone (Lumina Camera - Raw)\n",
      "16: Headphones ()\n",
      "17: Speakers (Dell USB Audio)\n",
      "18: Microphone (Dell USB Audio)\n",
      "19: Headset (@System32\\drivers\\bthhfenum.sys,#2;%1 Hands-Free%0\n",
      ";(Shiva’s AirPods Pro #2 - Find My))\n",
      "20: Headset (@System32\\drivers\\bthhfenum.sys,#2;%1 Hands-Free%0\n",
      ";(Shiva’s AirPods Pro #2 - Find My))\n",
      "21: Headphones 1 (Realtek HD Audio 2nd output with SST)\n",
      "22: Headphones 2 (Realtek HD Audio 2nd output with SST)\n",
      "23: PC Speaker (Realtek HD Audio 2nd output with SST)\n",
      "24: Speakers 1 (Realtek HD Audio output with SST)\n",
      "25: Speakers 2 (Realtek HD Audio output with SST)\n",
      "26: PC Speaker (Realtek HD Audio output with SST)\n",
      "27: Microphone Array (Realtek HD Audio Mic input)\n",
      "28: Headset Microphone (Headset Microphone)\n",
      "29: Headset (@System32\\drivers\\bthhfenum.sys,#2;%1 Hands-Free%0\n",
      ";(Pablo’s AirPods #3))\n",
      "30: Headset (@System32\\drivers\\bthhfenum.sys,#2;%1 Hands-Free%0\n",
      ";(Pablo’s AirPods #3))\n",
      "31: Headphones ()\n",
      "32: Headphones ()\n",
      "33: Microphone (Lumina Camera - Raw)\n",
      "34: Headset (@System32\\drivers\\bthhfenum.sys,#2;%1 Hands-Free%0\n",
      ";(Pablo’s AirPods Pro - Find My))\n",
      "35: Headset (@System32\\drivers\\bthhfenum.sys,#2;%1 Hands-Free%0\n",
      ";(Pablo’s AirPods Pro - Find My))\n",
      "36: Headset (@System32\\drivers\\bthhfenum.sys,#2;%1 Hands-Free%0\n",
      ";(Pablo’s AirPods #4 - Find My))\n",
      "37: Headset (@System32\\drivers\\bthhfenum.sys,#2;%1 Hands-Free%0\n",
      ";(Pablo’s AirPods #4 - Find My))\n",
      "38: Headphones ()\n"
     ]
    }
   ],
   "source": [
    "import pyaudio\n",
    "\n",
    "def list_audio_devices():\n",
    "    \"\"\"\n",
    "    List all available audio devices using PyAudio.\n",
    "\n",
    "    This function initializes PyAudio, retrieves the list of audio devices,\n",
    "    and prints their names. It also includes error handling to ensure proper\n",
    "    cleanup of resources.\n",
    "    \"\"\"\n",
    "    try:\n",
    "        p = pyaudio.PyAudio()\n",
    "        print(\"Available audio devices:\")\n",
    "        for ii in range(p.get_device_count()):\n",
    "            device_name = p.get_device_info_by_index(ii).get('name')\n",
    "            print(f\"{ii}: {device_name}\")\n",
    "    except Exception as e:\n",
    "        print(f\"An error occurred while listing audio devices: {e}\")\n",
    "    finally:\n",
    "        # Ensure PyAudio resources are released\n",
    "        if 'p' in locals():\n",
    "            p.terminate()\n",
    "\n",
    "# Call the function to list audio devices\n",
    "list_audio_devices()"
   ]
  },
  {
   "cell_type": "code",
   "execution_count": 5,
   "id": "9e9ade96",
   "metadata": {},
   "outputs": [
    {
     "name": "stdout",
     "output_type": "stream",
     "text": [
      "Recording...\n",
      "Recording complete. Saving audio...\n",
      "Audio saved to test_audio.wav. Playing back...\n",
      "Playback complete.\n"
     ]
    }
   ],
   "source": [
    "import pyaudio\n",
    "import wave\n",
    "\n",
    "def test_microphone():\n",
    "    \"\"\"\n",
    "    Test the microphone by recording audio and playing it back.\n",
    "\n",
    "    This function captures audio from the default input device (microphone),\n",
    "    saves it to a temporary WAV file, and plays it back to ensure the microphone\n",
    "    is working correctly.\n",
    "    \"\"\"\n",
    "    # Audio configuration\n",
    "    chunk = 1024  # Number of frames per buffer\n",
    "    format = pyaudio.paInt16  # 16-bit audio format\n",
    "    channels = 1  # Mono audio\n",
    "    rate = 44100  # Sampling rate (44.1 kHz)\n",
    "    record_seconds = 5  # Duration of the recording\n",
    "    output_filename = \"test_audio.wav\"\n",
    "\n",
    "    # Initialize PyAudio\n",
    "    p = pyaudio.PyAudio()\n",
    "\n",
    "    try:\n",
    "        # Open the microphone stream\n",
    "        print(\"Recording...\")\n",
    "        stream = p.open(format=format,\n",
    "                        channels=channels,\n",
    "                        rate=rate,\n",
    "                        input=True,\n",
    "                        frames_per_buffer=chunk)\n",
    "\n",
    "        frames = []\n",
    "\n",
    "        # Record audio in chunks\n",
    "        for _ in range(0, int(rate / chunk * record_seconds)):\n",
    "            data = stream.read(chunk)\n",
    "            frames.append(data)\n",
    "\n",
    "        print(\"Recording complete. Saving audio...\")\n",
    "\n",
    "        # Save the recorded audio to a WAV file\n",
    "        with wave.open(output_filename, 'wb') as wf:\n",
    "            wf.setnchannels(channels)\n",
    "            wf.setsampwidth(p.get_sample_size(format))\n",
    "            wf.setframerate(rate)\n",
    "            wf.writeframes(b''.join(frames))\n",
    "\n",
    "        print(f\"Audio saved to {output_filename}. Playing back...\")\n",
    "\n",
    "        # Play back the recorded audio\n",
    "        stream.stop_stream()\n",
    "        stream.close()\n",
    "\n",
    "        # Open the WAV file for playback\n",
    "        wf = wave.open(output_filename, 'rb')\n",
    "        playback_stream = p.open(format=p.get_format_from_width(wf.getsampwidth()),\n",
    "                                 channels=wf.getnchannels(),\n",
    "                                 rate=wf.getframerate(),\n",
    "                                 output=True)\n",
    "\n",
    "        # Read and play audio data\n",
    "        data = wf.readframes(chunk)\n",
    "        while data:\n",
    "            playback_stream.write(data)\n",
    "            data = wf.readframes(chunk)\n",
    "\n",
    "        playback_stream.stop_stream()\n",
    "        playback_stream.close()\n",
    "\n",
    "        print(\"Playback complete.\")\n",
    "\n",
    "    except Exception as e:\n",
    "        print(f\"An error occurred: {e}\")\n",
    "\n",
    "    finally:\n",
    "        # Terminate PyAudio\n",
    "        p.terminate()\n",
    "\n",
    "# Run the microphone test\n",
    "test_microphone()"
   ]
  },
  {
   "cell_type": "code",
   "execution_count": 6,
   "id": "9c3f52ee",
   "metadata": {},
   "outputs": [],
   "source": [
    "import logging \n",
    "import os\n",
    "# set the directory to the location of the script\n",
    "try:\n",
    "    target_directory = os.getenv(\"TARGET_DIRECTORY\", os.getcwd())  # Use environment variable if available\n",
    "    if os.path.exists(target_directory):\n",
    "        os.chdir(target_directory)\n",
    "        logging.info(f\"Successfully changed directory to: {os.getcwd()}\")\n",
    "    else:\n",
    "        logging.error(f\"Directory does not exist: {target_directory}\")\n",
    "except Exception as e:\n",
    "    logging.exception(f\"An error occurred while changing directory: {e}\")"
   ]
  },
  {
   "cell_type": "code",
   "execution_count": 7,
   "id": "9d1a792b",
   "metadata": {},
   "outputs": [],
   "source": [
    "from src.realtime_agent.ws_manager import WSManager"
   ]
  },
  {
   "cell_type": "code",
   "execution_count": null,
   "id": "c7ce7c35",
   "metadata": {},
   "outputs": [
    {
     "name": "stdout",
     "output_type": "stream",
     "text": [
      "Connecting to wss://aoai-ai-factory-eus2-dev.openai.azure.com/openai/realtime?api-version=2024-10-01-preview&deployment=gpt-4o-realtime-preview-2022-12-17&api-key=c7201c31982f45bfbc25d93acfdcdd3e\n"
     ]
    },
    {
     "name": "stdout",
     "output_type": "stream",
     "text": [
      "🎙️ Mic Input: █                                                 "
     ]
    }
   ],
   "source": [
    "system_prompt = \"You are a helpful AI assistant. You always answer immediately to anything you hear.\"\n",
    "\n",
    "manager = WSManager(system_prompt=system_prompt)\n",
    "manager.start()"
   ]
  }
 ],
 "metadata": {
  "kernelspec": {
   "display_name": "audioagent",
   "language": "python",
   "name": "python3"
  },
  "language_info": {
   "codemirror_mode": {
    "name": "ipython",
    "version": 3
   },
   "file_extension": ".py",
   "mimetype": "text/x-python",
   "name": "python",
   "nbconvert_exporter": "python",
   "pygments_lexer": "ipython3",
   "version": "3.11.11"
  }
 },
 "nbformat": 4,
 "nbformat_minor": 5
}
