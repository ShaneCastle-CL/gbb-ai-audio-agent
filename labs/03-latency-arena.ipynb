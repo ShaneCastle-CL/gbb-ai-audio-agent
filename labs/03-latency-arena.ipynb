{
 "cells": [
  {
   "cell_type": "code",
   "execution_count": 1,
   "id": "2e24e206",
   "metadata": {},
   "outputs": [],
   "source": [
    "import logging\n",
    "import os\n",
    "\n",
    "# set the directory to the location of the script\n",
    "try:\n",
    "    os.chdir(\"..\")\n",
    "    target_directory = os.getenv(\n",
    "        \"TARGET_DIRECTORY\", os.getcwd()\n",
    "    )  # Use environment variable if available\n",
    "    if os.path.exists(target_directory):\n",
    "        os.chdir(target_directory)\n",
    "        logging.info(f\"Successfully changed directory to: {os.getcwd()}\")\n",
    "    else:\n",
    "        logging.error(f\"Directory does not exist: {target_directory}\")\n",
    "except Exception as e:\n",
    "    logging.exception(f\"An error occurred while changing directory: {e}\")"
   ]
  },
  {
   "cell_type": "markdown",
   "id": "b9893f8b",
   "metadata": {},
   "source": [
    "### Access Operational DB (Post Analyics) -> CosmosDB"
   ]
  },
  {
   "cell_type": "code",
   "execution_count": 6,
   "id": "a7c46fd3",
   "metadata": {},
   "outputs": [],
   "source": [
    "from src.cosmosdb.manager import CosmosDBMongoCoreManager\n",
    "\n",
    "cosmos_manager = CosmosDBMongoCoreManager(\n",
    "    connection_string=os.getenv(\"AZURE_COSMOS_CONNECTION_STRING\"),\n",
    "    database_name=os.getenv(\"AZURE_COSMOS_DB_DATABASE_NAME\"),\n",
    "    collection_name=os.getenv(\"AZURE_COSMOS_DB_COLLECTION_NAME\"),\n",
    ")"
   ]
  },
  {
   "cell_type": "code",
   "execution_count": 7,
   "id": "daf32b36",
   "metadata": {},
   "outputs": [
    {
     "name": "stdout",
     "output_type": "stream",
     "text": [
      "Found session: {'_id': 'b40e326e', 'session_id': 'b40e326e', 'timestamp': '2025-05-26T22:18:15Z', 'history': [{'role': 'system', 'content': '\\n\\n\"\"\"ROLE & CONTEXT\"\"\"\\nYou are RTMedAgent, a HIPAA‑compliant, real‑time healthcare voice assistant\\nserving patients of XYZ Health Clinic after multi‑factor authentication.\\n\\n\"\"\"CALL METADATA\"\"\"\\n• patient_id: P54321\\n• patient_name: Alice Brown\\n• patient_dob: 1987-04-12\\n• patient_phone_number: 5552971078\\n\\n\"\"\"DATA VALIDATION\"\"\"\\nIf any CALL METADATA field above (patient_name, patient_dob, or patient_phone_number) is missing, politely ask the patient to provide or confirm the missing information before proceeding.\\n\\n\"\"\"INTENT ONTOLOGY (MUST CHOOSE ONE)\"\"\"\\n1. schedule_appointment\\n2. change_appointment\\n3. cancel_appointment\\n4. refill_prescription\\n5. fill_new_prescription\\n6. get_current_prescriptions\\n7. lookup_medication_info\\n8. lookup_side_effects\\n9. check_drug_interactions\\n10. evaluate_prior_authorization\\n11. transfer_medication_pharmacy\\n12. insurance_billing_question\\n13. escalate_emergency\\n14. general_health_question\\n15. unknown / needs_clarification\\n\\n\"\"\"REQUIRED SLOT MAP\"\"\"\\nIntent → Mandatory Slots\\nschedule_appointment ........ date, time_range, provider_type\\nchange_appointment ........... confirmation_existing_appt_id, new_date, new_time\\ncancel_appointment ........... confirmation_existing_appt_id\\nrefill_prescription .......... drug_name, dosage, pharmacy\\nfill_new_prescription ........ drug_name, dosage, quantity, pharmacy\\nget_current_prescriptions .... none\\nlookup_medication_info ....... drug_name\\nlookup_side_effects .......... drug_name\\ncheck_drug_interactions ...... drug_list[]\\nevaluate_prior_authorization . drug_name OR procedure_code, insurance_provider\\ntransfer_medication_pharmacy . drug_name, from_pharmacy, to_pharmacy\\ninsurance_billing_question ... question_summary\\nescalate_emergency ........... immediate_transfer_reason\\ngeneral_health_question ...... question_summary\\nunknown / needs_clarification  original_query\\n\\n\\n\"\"\"DIALOGUE FLOW\"\"\"\\n1. Greet the patient by authenticated name.\\n2. Confirm understanding of initial request using reflective listening.\\n3. Identify intent from ontology; if unknown, ask an open clarifying question.\\n4. Iteratively collect any missing mandatory slots:\\n   • Ask one slot‑specific question at a time.\\n   • Use short, jargon‑free phrasing.\\n5. Confirm all gathered info in one concise statement; obtain yes/no.\\n6. Emit tool JSON (see BACKEND TOOL SPEC) and await response.\\n7. Summarize backend result clearly:\\n   • Repeat names, dates, drug names, numbers (group long numbers 3‑3‑4).\\n   • Offer follow‑up assistance.\\n8. If patient indicates emergency symptoms (chest pain, trouble breathing, etc.),\\n   invoke escalate_emergency immediately.\\n9. Close politely:\\n   “Thank you for calling XYZ Health Clinic. Take care and have a great day!”\\n\\n\"\"\"STYLE & SAFETY GUIDELINES\"\"\"\\n• Maintain warm, professional tone; keep responses under 2 sentences where possible.\\n• NEVER fabricate medical data, dosages, or advice.\\n• Use SSML <break time=\"300ms\"/> between numeric groups if TTS engine supports SSML.\\n• Log ONLY minimal necessary PHI required for task completion.\\n• If uncertain or error occurs twice, escalate to live agent.\\n\\n\"\"\"EXAMPLES (DO NOT READ ALOUD)\"\"\"\\nPatient: “I need to refill my Lipitor.”\\nAgent:\\n  – Intent: refill_prescription\\n  – Required slots missing: dosage, pharmacy\\n  – Next question: “Sure. What dosage of Lipitor are you taking?”\\n-----------------------------------------------------------------------\\nPatient: “I’m having severe chest pain!”\\nAgent:\\n  – Intent: escalate_emergency\\n  – Immediate action: “I’m connecting you to emergency services right away.” <invoke transfer>\\n-----------------------------------------------------------------------'}, {'role': 'assistant', 'content': 'Hello from XMYX Healthcare Company! Before I can assist you, let’s verify your identity. How may I address you?'}, {'role': 'user', 'content': 'Hi there, how are you doing?'}, {'role': 'assistant', 'content': \"I'm here to help you with any healthcare-related questions or tasks you may have. How can I assist you today?\"}, {'role': 'user', 'content': 'Sounds very good. Umm, very nice to meet you. Uh, my name is, uh, Alice Brown and my phone number is 555-297-1078.'}, {'role': 'assistant', 'content': None, 'tool_calls': [{'id': 'call_bX7wbLTYxBeCNYi9hmnngj3U', 'type': 'function', 'function': {'name': 'authenticate_user', 'arguments': '{\"first_name\":\"Alice\",\"last_name\":\"Brown\",\"phone_number\":\"5552971078\"}'}}]}, {'tool_call_id': 'call_bX7wbLTYxBeCNYi9hmnngj3U', 'role': 'tool', 'name': 'authenticate_user', 'content': '{\"authenticated\": true, \"message\": \"Authenticated Alice Brown.\", \"patient_id\": \"P54321\", \"first_name\": \"Alice\", \"last_name\": \"Brown\", \"phone_number\": \"5552971078\"}'}, {'role': 'user', 'content': ''}, {'role': 'assistant', 'content': 'Nice to meet you, Alice! How can I assist you today?'}, {'role': 'user', 'content': 'I would like to umm, well first of all, what is my uh, phone number and what is my patient ID?'}, {'role': 'assistant', 'content': 'Your phone number is 555-297-1078, and your patient ID is P54321. How else can I assist you today?'}, {'role': 'user', 'content': 'Awesome.'}, {'role': 'assistant', 'content': \"Great! Is there anything else you'd like to do today?\"}, {'role': 'user', 'content': \"Great. Can you tell me if I'm actually like authenticated or not?\"}, {'role': 'assistant', 'content': 'Yes, you are authenticated, Alice. How can I assist you further today?'}], 'context': {'authenticated': True}, 'latency_summary': {'tts': {'count': 12, 'avg': 0.00115146666939836, 'min': 0.000522000016644597, 'max': 0.002782299998216331}, 'processing': {'count': 5, 'avg': 1.475906639988534, 'min': 0.7369864000356756, 'max': 2.0435757999657653}}}\n"
     ]
    }
   ],
   "source": [
    "query = {\"session_id\": \"b40e326e\"}\n",
    "document = cosmos_manager.read_document(query)\n",
    "\n",
    "if document:\n",
    "    print(\"Found session:\", document)\n",
    "else:\n",
    "    print(\"No session found.\")"
   ]
  },
  {
   "cell_type": "markdown",
   "id": "255d21d2",
   "metadata": {},
   "source": [
    "## Access Cache (redis) "
   ]
  },
  {
   "cell_type": "code",
   "execution_count": 12,
   "id": "bc0813d8",
   "metadata": {},
   "outputs": [
    {
     "name": "stderr",
     "output_type": "stream",
     "text": [
      "2025-05-26 17:24:43,671 - micro - MainProcess - INFO     Azure Redis connection initialized. (manager.py:__init__:41)\n",
      "INFO:micro:Azure Redis connection initialized.\n"
     ]
    }
   ],
   "source": [
    "from usecases.RTMedAgent.backend.orchestration.conversation_state import ConversationManager\n",
    "from src.redis.manager import AzureRedisManager\n",
    "redis_manager = AzureRedisManager()"
   ]
  },
  {
   "cell_type": "code",
   "execution_count": 13,
   "id": "c6c14848",
   "metadata": {},
   "outputs": [
    {
     "name": "stderr",
     "output_type": "stream",
     "text": [
      "2025-05-26 17:24:49,415 - micro - MainProcess - INFO     Restored session b40e326e: 15 msgs, ctx keys=['authenticated', 'latency_roundtrip'] (conversation_state.py:from_redis:41)\n",
      "INFO:micro:Restored session b40e326e: 15 msgs, ctx keys=['authenticated', 'latency_roundtrip']\n"
     ]
    },
    {
     "name": "stdout",
     "output_type": "stream",
     "text": [
      "Templates found: ['voice_agent_authentication.jinja', 'voice_agent_system.jinja']\n"
     ]
    }
   ],
   "source": [
    "cm = ConversationManager.from_redis(\"b40e326e\", redis_manager)"
   ]
  },
  {
   "cell_type": "code",
   "execution_count": 16,
   "id": "dda03815",
   "metadata": {},
   "outputs": [
    {
     "data": {
      "text/plain": [
       "[{'role': 'system',\n",
       "  'content': '\\n\\n\"\"\"ROLE & CONTEXT\"\"\"\\nYou are RTMedAgent, a HIPAA‑compliant, real‑time healthcare voice assistant\\nserving patients of XYZ Health Clinic after multi‑factor authentication.\\n\\n\"\"\"CALL METADATA\"\"\"\\n• patient_id: P54321\\n• patient_name: Alice Brown\\n• patient_dob: 1987-04-12\\n• patient_phone_number: 5552971078\\n\\n\"\"\"DATA VALIDATION\"\"\"\\nIf any CALL METADATA field above (patient_name, patient_dob, or patient_phone_number) is missing, politely ask the patient to provide or confirm the missing information before proceeding.\\n\\n\"\"\"INTENT ONTOLOGY (MUST CHOOSE ONE)\"\"\"\\n1. schedule_appointment\\n2. change_appointment\\n3. cancel_appointment\\n4. refill_prescription\\n5. fill_new_prescription\\n6. get_current_prescriptions\\n7. lookup_medication_info\\n8. lookup_side_effects\\n9. check_drug_interactions\\n10. evaluate_prior_authorization\\n11. transfer_medication_pharmacy\\n12. insurance_billing_question\\n13. escalate_emergency\\n14. general_health_question\\n15. unknown / needs_clarification\\n\\n\"\"\"REQUIRED SLOT MAP\"\"\"\\nIntent → Mandatory Slots\\nschedule_appointment ........ date, time_range, provider_type\\nchange_appointment ........... confirmation_existing_appt_id, new_date, new_time\\ncancel_appointment ........... confirmation_existing_appt_id\\nrefill_prescription .......... drug_name, dosage, pharmacy\\nfill_new_prescription ........ drug_name, dosage, quantity, pharmacy\\nget_current_prescriptions .... none\\nlookup_medication_info ....... drug_name\\nlookup_side_effects .......... drug_name\\ncheck_drug_interactions ...... drug_list[]\\nevaluate_prior_authorization . drug_name OR procedure_code, insurance_provider\\ntransfer_medication_pharmacy . drug_name, from_pharmacy, to_pharmacy\\ninsurance_billing_question ... question_summary\\nescalate_emergency ........... immediate_transfer_reason\\ngeneral_health_question ...... question_summary\\nunknown / needs_clarification  original_query\\n\\n\\n\"\"\"DIALOGUE FLOW\"\"\"\\n1. Greet the patient by authenticated name.\\n2. Confirm understanding of initial request using reflective listening.\\n3. Identify intent from ontology; if unknown, ask an open clarifying question.\\n4. Iteratively collect any missing mandatory slots:\\n   • Ask one slot‑specific question at a time.\\n   • Use short, jargon‑free phrasing.\\n5. Confirm all gathered info in one concise statement; obtain yes/no.\\n6. Emit tool JSON (see BACKEND TOOL SPEC) and await response.\\n7. Summarize backend result clearly:\\n   • Repeat names, dates, drug names, numbers (group long numbers 3‑3‑4).\\n   • Offer follow‑up assistance.\\n8. If patient indicates emergency symptoms (chest pain, trouble breathing, etc.),\\n   invoke escalate_emergency immediately.\\n9. Close politely:\\n   “Thank you for calling XYZ Health Clinic. Take care and have a great day!”\\n\\n\"\"\"STYLE & SAFETY GUIDELINES\"\"\"\\n• Maintain warm, professional tone; keep responses under 2 sentences where possible.\\n• NEVER fabricate medical data, dosages, or advice.\\n• Use SSML <break time=\"300ms\"/> between numeric groups if TTS engine supports SSML.\\n• Log ONLY minimal necessary PHI required for task completion.\\n• If uncertain or error occurs twice, escalate to live agent.\\n\\n\"\"\"EXAMPLES (DO NOT READ ALOUD)\"\"\"\\nPatient: “I need to refill my Lipitor.”\\nAgent:\\n  – Intent: refill_prescription\\n  – Required slots missing: dosage, pharmacy\\n  – Next question: “Sure. What dosage of Lipitor are you taking?”\\n-----------------------------------------------------------------------\\nPatient: “I’m having severe chest pain!”\\nAgent:\\n  – Intent: escalate_emergency\\n  – Immediate action: “I’m connecting you to emergency services right away.” <invoke transfer>\\n-----------------------------------------------------------------------'},\n",
       " {'role': 'assistant',\n",
       "  'content': 'Hello from XMYX Healthcare Company! Before I can assist you, let’s verify your identity. How may I address you?'},\n",
       " {'role': 'user', 'content': 'Hi there, how are you doing?'},\n",
       " {'role': 'assistant',\n",
       "  'content': \"I'm here to help you with any healthcare-related questions or tasks you may have. How can I assist you today?\"},\n",
       " {'role': 'user',\n",
       "  'content': 'Sounds very good. Umm, very nice to meet you. Uh, my name is, uh, Alice Brown and my phone number is 555-297-1078.'},\n",
       " {'role': 'assistant',\n",
       "  'content': None,\n",
       "  'tool_calls': [{'id': 'call_bX7wbLTYxBeCNYi9hmnngj3U',\n",
       "    'type': 'function',\n",
       "    'function': {'name': 'authenticate_user',\n",
       "     'arguments': '{\"first_name\":\"Alice\",\"last_name\":\"Brown\",\"phone_number\":\"5552971078\"}'}}]},\n",
       " {'tool_call_id': 'call_bX7wbLTYxBeCNYi9hmnngj3U',\n",
       "  'role': 'tool',\n",
       "  'name': 'authenticate_user',\n",
       "  'content': '{\"authenticated\": true, \"message\": \"Authenticated Alice Brown.\", \"patient_id\": \"P54321\", \"first_name\": \"Alice\", \"last_name\": \"Brown\", \"phone_number\": \"5552971078\"}'},\n",
       " {'role': 'user', 'content': ''},\n",
       " {'role': 'assistant',\n",
       "  'content': 'Nice to meet you, Alice! How can I assist you today?'},\n",
       " {'role': 'user',\n",
       "  'content': 'I would like to umm, well first of all, what is my uh, phone number and what is my patient ID?'},\n",
       " {'role': 'assistant',\n",
       "  'content': 'Your phone number is 555-297-1078, and your patient ID is P54321. How else can I assist you today?'},\n",
       " {'role': 'user', 'content': 'Awesome.'},\n",
       " {'role': 'assistant',\n",
       "  'content': \"Great! Is there anything else you'd like to do today?\"},\n",
       " {'role': 'user',\n",
       "  'content': \"Great. Can you tell me if I'm actually like authenticated or not?\"},\n",
       " {'role': 'assistant',\n",
       "  'content': 'Yes, you are authenticated, Alice. How can I assist you further today?'}]"
      ]
     },
     "execution_count": 16,
     "metadata": {},
     "output_type": "execute_result"
    }
   ],
   "source": [
    "cm.hist[:100]"
   ]
  },
  {
   "cell_type": "code",
   "execution_count": 14,
   "id": "2a09c2b4",
   "metadata": {},
   "outputs": [
    {
     "name": "stdout",
     "output_type": "stream",
     "text": [
      "⏱️ Stage “tts” — calls: 12, avg: 0.001s, min: 0.001s, max: 0.003s\n",
      "⏱️ Stage “processing” — calls: 5, avg: 1.476s, min: 0.737s, max: 2.044s\n"
     ]
    }
   ],
   "source": [
    "lat = cm.get_context(\"latency_roundtrip\", {})\n",
    "\n",
    "for stage, entries in lat.items():\n",
    "    # extract all the durations\n",
    "    durations = [e[\"dur\"] for e in entries]\n",
    "\n",
    "    # compute summary stats\n",
    "    count   = len(durations)\n",
    "    average = sum(durations) / count if count else 0\n",
    "    minimum = min(durations) if count else 0\n",
    "    maximum = max(durations) if count else 0\n",
    "\n",
    "    # pretty-print\n",
    "    print(f\"⏱️ Stage “{stage}” — \"\n",
    "          f\"calls: {count}, \"\n",
    "          f\"avg: {average:.3f}s, \"\n",
    "          f\"min: {minimum:.3f}s, \"\n",
    "          f\"max: {maximum:.3f}s\")"
   ]
  }
 ],
 "metadata": {
  "kernelspec": {
   "display_name": "audioagent",
   "language": "python",
   "name": "python3"
  },
  "language_info": {
   "codemirror_mode": {
    "name": "ipython",
    "version": 3
   },
   "file_extension": ".py",
   "mimetype": "text/x-python",
   "name": "python",
   "nbconvert_exporter": "python",
   "pygments_lexer": "ipython3",
   "version": "3.11.11"
  }
 },
 "nbformat": 4,
 "nbformat_minor": 5
}
