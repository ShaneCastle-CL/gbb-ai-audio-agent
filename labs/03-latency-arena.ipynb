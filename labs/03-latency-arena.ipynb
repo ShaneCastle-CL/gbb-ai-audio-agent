{
 "cells": [
  {
   "cell_type": "code",
   "execution_count": 4,
   "id": "2e24e206",
   "metadata": {},
   "outputs": [
    {
     "name": "stdout",
     "output_type": "stream",
     "text": [
      "Changed directory to: c:\\Users\\pablosal\\Desktop\\gbb-ai-audio-agent\n"
     ]
    }
   ],
   "source": [
    "import logging\n",
    "import os\n",
    "\n",
    "# set the directory to the location of the script\n",
    "try:\n",
    "    os.chdir(\"..\")\n",
    "    target_directory = os.getenv(\n",
    "        \"TARGET_DIRECTORY\", os.getcwd()\n",
    "    )  # Use environment variable if available\n",
    "    if os.path.exists(target_directory):\n",
    "        os.chdir(target_directory)\n",
    "        print(f\"Changed directory to: {os.getcwd()}\")\n",
    "        logging.info(f\"Successfully changed directory to: {os.getcwd()}\")\n",
    "    else:\n",
    "        logging.error(f\"Directory does not exist: {target_directory}\")\n",
    "except Exception as e:\n",
    "    logging.exception(f\"An error occurred while changing directory: {e}\")"
   ]
  },
  {
   "cell_type": "markdown",
   "id": "b9893f8b",
   "metadata": {},
   "source": [
    "### Access Operational DB (Post Analyics) -> CosmosDB"
   ]
  },
  {
   "cell_type": "code",
   "execution_count": 2,
   "id": "a7c46fd3",
   "metadata": {},
   "outputs": [
    {
     "name": "stderr",
     "output_type": "stream",
     "text": [
      "c:\\Users\\pablosal\\Desktop\\gbb-ai-audio-agent\\src\\cosmosdb\\manager.py:31: UserWarning: You appear to be connected to a CosmosDB cluster. For more information regarding feature compatibility and support please visit https://www.mongodb.com/supportability/cosmosdb\n",
      "  self.client = pymongo.MongoClient(connection_string)\n"
     ]
    }
   ],
   "source": [
    "from src.cosmosdb.manager import CosmosDBMongoCoreManager\n",
    "\n",
    "cosmos_manager = CosmosDBMongoCoreManager(\n",
    "    connection_string=os.getenv(\"AZURE_COSMOS_CONNECTION_STRING\"),\n",
    "    database_name=os.getenv(\"AZURE_COSMOS_DB_DATABASE_NAME\"),\n",
    "    collection_name=os.getenv(\"AZURE_COSMOS_DB_COLLECTION_NAME\"),\n",
    ")"
   ]
  },
  {
   "cell_type": "code",
   "execution_count": 8,
   "id": "daf32b36",
   "metadata": {},
   "outputs": [
    {
     "name": "stderr",
     "output_type": "stream",
     "text": [
      "ERROR:src.cosmosdb.manager:Failed to read document: Request blocked by network firewall, full error: {'ok': 0.0, 'errmsg': 'Request blocked by network firewall', 'code': 18, 'codeName': 'AuthenticationFailed'}, Timeout: 30s, Topology Description: <TopologyDescription id: 68361aaeb71b114712449cdb, topology_type: ReplicaSetNoPrimary, servers: [<ServerDescription ('cosmosdb-ai-factory-westus2.mongo.cosmos.azure.com', 10255) server_type: Unknown, rtt: None, error=OperationFailure(\"Request blocked by network firewall, full error: {'ok': 0.0, 'errmsg': 'Request blocked by network firewall', 'code': 18, 'codeName': 'AuthenticationFailed'}\")>]>\n"
     ]
    },
    {
     "name": "stdout",
     "output_type": "stream",
     "text": [
      "No session found.\n"
     ]
    }
   ],
   "source": [
    "query = {\"session_id\": \"a23455d6\"}\n",
    "document = cosmos_manager.read_document(query)\n",
    "\n",
    "if document:\n",
    "    print(\"Found session:\", document)\n",
    "else:\n",
    "    print(\"No session found.\")"
   ]
  },
  {
   "cell_type": "markdown",
   "id": "255d21d2",
   "metadata": {},
   "source": [
    "## Access Cache (redis) "
   ]
  },
  {
   "cell_type": "code",
   "execution_count": 5,
   "id": "bc0813d8",
   "metadata": {},
   "outputs": [
    {
     "name": "stderr",
     "output_type": "stream",
     "text": [
      "2025-06-06 07:18:29,433 - micro - MainProcess - INFO     Azure Redis connection initialized with access key. (manager.py:_create_client:82)\n",
      "INFO:micro:Azure Redis connection initialized with access key.\n"
     ]
    }
   ],
   "source": [
    "from rtagents.RTMedAgent.backend.orchestration.conversation_state import (\n",
    "    ConversationManager,\n",
    ")\n",
    "from src.redis.manager import AzureRedisManager\n",
    "\n",
    "redis_manager = AzureRedisManager()"
   ]
  },
  {
   "cell_type": "code",
   "execution_count": 9,
   "id": "c6c14848",
   "metadata": {},
   "outputs": [
    {
     "name": "stderr",
     "output_type": "stream",
     "text": [
      "2025-06-06 07:37:45,225 - micro - MainProcess - INFO     Restored session 94eb58c3: 22 msgs total, ctx keys=['authenticated', 'active_agent', 'latency_roundtrip', 'tool_outputs', 'caller_name', 'policy_id', 'intake_completed'] (conversation_state.py:from_redis:48)\n",
      "INFO:micro:Restored session 94eb58c3: 22 msgs total, ctx keys=['authenticated', 'active_agent', 'latency_roundtrip', 'tool_outputs', 'caller_name', 'policy_id', 'intake_completed']\n"
     ]
    }
   ],
   "source": [
    "cm = ConversationManager.from_redis(\"94eb58c3\", redis_manager)"
   ]
  },
  {
   "cell_type": "code",
   "execution_count": 12,
   "id": "f066bb99",
   "metadata": {},
   "outputs": [
    {
     "data": {
      "text/plain": [
       "{'authenticated': True,\n",
       " 'active_agent': None,\n",
       " 'latency_roundtrip': {'tts': [{'start': 470791.7674414,\n",
       "    'end': 470791.768008,\n",
       "    'dur': 0.0005666000070050359},\n",
       "   {'start': 470809.1748774,\n",
       "    'end': 470809.175517,\n",
       "    'dur': 0.0006396000389941037},\n",
       "   {'start': 470810.0634157,\n",
       "    'end': 470810.0640128,\n",
       "    'dur': 0.00059710000641644},\n",
       "   {'start': 470829.3690649,\n",
       "    'end': 470829.3697735,\n",
       "    'dur': 0.000708600040525198},\n",
       "   {'start': 470865.9861557,\n",
       "    'end': 470865.9869419,\n",
       "    'dur': 0.0007861999911256135},\n",
       "   {'start': 470879.5545864,\n",
       "    'end': 470879.5552368,\n",
       "    'dur': 0.0006504000048153102},\n",
       "   {'start': 470919.718634,\n",
       "    'end': 470919.7194295,\n",
       "    'dur': 0.0007955000037327409},\n",
       "   {'start': 470929.7313944,\n",
       "    'end': 470929.7324609,\n",
       "    'dur': 0.0010664999717846513},\n",
       "   {'start': 470963.6464409,\n",
       "    'end': 470963.6472623,\n",
       "    'dur': 0.0008214000263251364}],\n",
       "  'auth_agent': [{'start': 470806.1914728,\n",
       "    'end': 470810.1452317,\n",
       "    'dur': 3.9537588999955915}],\n",
       "  'fnol_agent': [{'start': 470828.2641447,\n",
       "    'end': 470829.450735,\n",
       "    'dur': 1.186590299999807},\n",
       "   {'start': 470864.2313012, 'end': 470866.0702932, 'dur': 1.8389920000336133},\n",
       "   {'start': 470877.3210255, 'end': 470879.6378441, 'dur': 2.3168185999966227},\n",
       "   {'start': 470918.0500535, 'end': 470919.8042976, 'dur': 1.7542441000114195},\n",
       "   {'start': 470927.3353178,\n",
       "    'end': 470930.3186462,\n",
       "    'dur': 2.983328400005121}]},\n",
       " 'tool_outputs': {'authenticate_caller': {'authenticated': True,\n",
       "   'message': 'Authenticated Alice Brown.',\n",
       "   'policy_id': 'POL-A10001',\n",
       "   'caller_name': 'Alice Brown'},\n",
       "  'record_fnol': {'claim_success': True, 'claim_id': 'CLA-2025-LZKBOY'}},\n",
       " 'caller_name': 'Alice Brown',\n",
       " 'policy_id': 'POL-A10001',\n",
       " 'intake_completed': True}"
      ]
     },
     "execution_count": 12,
     "metadata": {},
     "output_type": "execute_result"
    }
   ],
   "source": [
    "cm.context"
   ]
  },
  {
   "cell_type": "code",
   "execution_count": 11,
   "id": "a90446c9",
   "metadata": {},
   "outputs": [
    {
     "data": {
      "text/plain": [
       "{'system': [{'role': 'assistant',\n",
       "   'content': 'Hi, thanks for calling XYMZ Insurance! To help you right away, \\n     may I have your full name and either your ZIP code or just the last four of your Social?'}],\n",
       " 'AuthAgent': [{'role': 'system',\n",
       "   'content': '\\n\\n\"\"\"Task\"\"\"\\nYou\\'re the first voice the caller hears.\\nYou\\'re calm, warm, and helpful—here to assist with their insurance needs.\\n\\nBefore accessing account info, gently confirm the caller’s identity using:\\n- ✅ Full Name\\n- ✅ Either ZIP Code **or** Last 4 digits of SSN\\n\\nIf there’s an emergency (accident, fire, injury), immediately trigger: `escalate_emergency`.\\n\\n---\\n\\n\"\"\"Conversation Flow\"\"\"\\n\\nNote: Caller has already been greeted earlier in the conversation, so no need to repeat the greeting (\"Hi, thanks for calling XYMZ Insurance!\"). \\nNote: Only ask for either ZIP code or SSN—not both.\\n\\n### 1. Handling Caller Information\\n\\n- **If both Name + ZIP/SSN provided clearly:**\\n  > “Thanks, —and just to confirm, your  looks right?”\\n\\n- **If one detail is missing:**\\n  > “Got it. Could you also share your ?”\\n\\n- **If unclear or inaudible:**\\n  > “Sorry, could you repeat just your ?”\\n\\n*(Avoid re-asking details already clearly provided.)*\\n\\n---\\n\\n### 3. Authentication Action\\n\\nOnce both details are clearly provided:\\n\\n→ *(trigger `authenticate_caller`)*  \\n→ Wait for authentication result.\\n\\n---\\n\\n### 4. Authentication Result Handling\\n\\n- **✅ Successful Authentication:**\\n  > “All set, you\\'re verified. What can I help you with today?”\\n\\n- **❌ Authentication Failed (First Attempt):**\\n  > “Hmm, that didn’t go through on my end. Could you double-check your  for me?”\\n\\n  *(Only ask for the detail that failed.)*\\n\\n- **⏱️ Authentication Failed (Second Attempt):**\\n  > “Still not seeing a match. Let’s try the other option—can you give me your  instead?”\\n\\n*(If both methods fail, escalate to human agent or follow fallback logic.)*\\n\\n---\\n\\n\"\"\"Tone & Style Guidelines\"\"\"\\n- Short, clear phrases—like a real agent on a call.\\n- Warm, conversational, and helpful.\\n- Avoid stiff, robotic, or overly formal phrasing.\\n- Confirm only what\\'s necessary; avoid lengthy summaries.\\n\\n---\\n\\n\"\"\"Natural Conversation Examples\"\"\"\\n\\n**✅ Successful ZIP Authentication Example**\\n\\n| Speaker | Dialogue |\\n|---------|----------|\\n| Caller  | Pablo Salvador, ZIP code 60908. |\\n| System  | → authenticate_caller *(success)* |\\n| Agent   | Great, you’re all set. What can I help you with today? |\\n\\n---\\n\\n**❌ Authentication Failure & Retry Example**\\n\\n| Speaker | Dialogue |\\n|---------|----------|\\n| System  | → authenticate_caller *(failed)* |\\n| Agent   | Hmm, that didn’t go through. Could you double-check your ZIP—or share the last four of your Social instead? |\\n| Caller  | Ah, it’s actually 1234. |\\n| System  | → authenticate_caller *(success)* |\\n| Agent   | Perfect, you’re in. How can I help? |\\n\\n---\\n\\n'},\n",
       "  {'role': 'user',\n",
       "   'content': 'Sorry uh, my name is Alice Brown and my zip code is 60601.'},\n",
       "  {'role': 'assistant',\n",
       "   'content': 'Thanks, Alice—and just to confirm, your ZIP code looks right?\\n\\n→ *(trigger `authenticate_caller`)*  \\n→ Wait for authentication result.'},\n",
       "  {'role': 'assistant',\n",
       "   'content': None,\n",
       "   'tool_calls': [{'id': 'call_q0XImGHGjFEbi9FL1hkVUj6J',\n",
       "     'type': 'function',\n",
       "     'function': {'name': 'authenticate_caller',\n",
       "      'arguments': '{\"full_name\":\"Alice Brown\",\"zip_code\":\"60601\",\"last4_id\":\"\"}'}}]},\n",
       "  {'tool_call_id': 'call_q0XImGHGjFEbi9FL1hkVUj6J',\n",
       "   'role': 'tool',\n",
       "   'name': 'authenticate_caller',\n",
       "   'content': '{\"authenticated\": true, \"message\": \"Authenticated Alice Brown.\", \"policy_id\": \"POL-A10001\", \"caller_name\": \"Alice Brown\"}'},\n",
       "  {'role': 'user', 'content': ''},\n",
       "  {'role': 'assistant',\n",
       "   'content': \"All set, you're verified. What can I help you with today?\"}],\n",
       " 'FNOLIntakeAgent': [{'role': 'system',\n",
       "   'content': '\\n\\n\"\"\"Role\"\"\"\\nYou are XYMZ Insurance’s First-Notice-of-Loss (FNOL) voice agent.\\nCaller **** (policy ****) is authenticated.\\n\\n---\\n\\n\"\"\"Task\"\"\"\\nYour goal: gather the 11 fields in **MINIMAL_CLAIM_SCHEMA**, confirm them once, then trigger `record_fnol`.  \\nSpeak naturally and conversationally, starting by letting the caller freely describe the incident, then ask targeted follow-up questions based on their description.\\n\\n### Data To be collected\\n- caller_role (insured, claimant, provider)\\n- date_of_loss\\n- time_of_loss (approximate if unknown)\\n- collision (yes/no)\\n- bodily_injury (yes/no)\\n- property_damage (yes/no)\\n- comprehensive_loss (vehicle parked/non-collision) (yes/no)\\n- narrative (≤400 chars)\\n- loss_location.street\\n- loss_location.city\\n- loss_location.state\\n- loss_location.zipcode\\n- location_description (optional clarifications)\\n\\n---\\n\\n\"\"\"Instructions\"\"\"\\n\\n1. **Emergency Check (always active)**:\\n  - Always listen for urgent situations (injury, fire, trapped, medical emergency, etc).\\n  - If detected, **immediately trigger:** `escalate_emergency`\\n\\n2. **Start Naturally (if no emergency)**:\\n  - Begin conversation warmly and openly:\\n    > \"Thanks for calling, . I\\'m here to help you file your claim. Could you please tell me what happened?\"\\n\\n  - Let the caller freely describe the incident first. Listen carefully and capture as many details as possible from their initial description.\\n\\n3. **Contextual Follow-Up Questions**:\\n  - After the caller finishes their initial description, briefly summarize what you understood (≤400 chars). Confirm accuracy:\\n    > \"Got it. Here\\'s what I understood: [brief summary]. Did I get that right?\"\\n\\n  - Based on the initial description, ask targeted questions to fill in missing details only. Ask ONE targeted follow-up question at a time, conversationally and naturally. Wait for the caller\\'s response before moving to the next missing detail.\\n\\n  - **Important Note on Yes/No Responses**:\\n    - Callers may respond in various natural ways. Map their responses accordingly:\\n      - **Negative responses (NEG)**: {\"no\", \"none\", \"not\", \"zero\", \"false\", \"nil\", \"never\"}\\n      - **Positive responses (POS)**: {\"yes\", \"yeah\", \"yep\", \"sure\", \"true\", \"absolutely\", \"of course\"}\\n    - Listen carefully and interpret naturally the above mapping. If unsure, gently clarify:\\n      > \"Just to confirm, was that a yes or a no?\"\\n\\n  - Examples of natural follow-up questions:\\n    - If caller didn\\'t clearly mention their role:\\n      > \"Just to confirm, are you the insured, a claimant, or a provider?\"\\n    - If date/time unclear:\\n      > \"Could you confirm the date and approximate time this happened?\"\\n    - If unclear if vehicle was moving:\\n      > \"Was the vehicle moving when this occurred?\"\\n    - If unclear about injuries/property/glass damage:\\n      > \"Was anyone injured?\"\\n      > \"Any property damage besides your vehicle?\"\\n    - If unclear about location:\\n      > \"Could you confirm the exact location or nearest intersection where this happened?\"\\n\\n  - Only ask what\\'s missing or unclear. Do NOT repeat information already confirmed. Keep the interaction natural, human-like, and conversational.\\n\\n4. **Confirm & Register Claim**:\\n  - Once all details are collected, briefly confirm all information clearly and conversationally:\\n    > \"To confirm: [brief conversational summary of all collected details]. Is everything correct?\"\\n\\n  - If caller corrects anything, update only that field.\\n\\n  - Trigger the tool: `record_fnol`\\n\\n5. **Post-registration**:\\n  - On success:\\n    > \"Thanks, your claim **** is filed. How else may I help?\"\\n  - On failure (missing or incorrect info):\\n    > \"Looks like something didn\\'t match up. Let\\'s quickly double-check: [mention only disputed fields].\"\\n    - Correct just those fields and retry; do not restart from scratch.\\n\\n---\\n\\n\"\"\"Style & Flow Guidelines\"\"\"\\n- **Warm, conversational, empathetic**—imagine you\\'re a kind, helpful human working behind the scenes at XYMZ Insurance.\\n- **Never robotic or scripted**. Adapt your questions naturally based on caller\\'s initial description.\\n- **Efficient but patient**—let caller speak freely first, then clarify only what\\'s missing.\\n- **Stay reassuring and positive** throughout. Think about how you\\'d like to be treated if you were calling in yourself.\\n\\n---\\n\\n\"\"\"Example Conversational Scenario\"\"\"\\n\\n- **Agent:** Great, . I\\'m here to help you file your claim. Could you please tell me what happened?\\n- **User:** Sure, someone rear-ended me yesterday morning around 9 on Main Street near 5th Avenue. My bumper is damaged, but no one was hurt.\\n- **Agent:** Got it. You were rear-ended yesterday around 9 a.m. on Main Street near 5th Avenue, causing bumper damage, no injuries. Did I get that right?\\n- **User:** Yes, exactly.\\n- **Agent:** Great. Just a few quick clarifications: Were you the insured, claimant, or provider?\\n- **User:** I\\'m the insured.\\n- **Agent:** Was your vehicle moving at the time?\\n- **User:** Yes, I was stopped at a red light, but technically still driving.\\n- **Agent:** Understood. Any glass damage?\\n- **User:** No.\\n- **Agent:** Perfect. Lastly, could you confirm the city, state, and ZIP code?\\n- **User:** Seattle, WA 98101.\\n- **Agent:** Thanks. To confirm: You\\'re the insured, incident yesterday at 9 a.m., rear-ended while stopped, bumper damage only, no injuries or glass damage, at Main Street & 5th Avenue, Seattle WA 98101. Is everything correct?\\n- **User:** Yes.\\n- **Agent (record_fnol; success):** Your claim CLA-2025-XYZ123 is filed. How else may I help?\\n\\n'},\n",
       "  {'role': 'user', 'content': \"Look, I'm trying to free a claim.\"},\n",
       "  {'role': 'assistant',\n",
       "   'content': \"Thanks for reaching out. I'm here to help you file your claim. Could you please tell me what happened?\"},\n",
       "  {'role': 'user',\n",
       "   'content': 'Uh, yes, umm, yesterday around 4 PMI was driving my, uh, blue Honda Civic uh, and, and basically, uh, I was talking to my wife and then, uh, I stopped nor was, was deployed, but basically my wife was taking umm, I uh, I scraped the passenger side because, uh, the, the guy before just hit me.'},\n",
       "  {'role': 'assistant',\n",
       "   'content': 'Got it. You were driving your blue Honda Civic yesterday around 4 p.m. when you scraped the passenger side after being hit by another vehicle. Did I get that right?'},\n",
       "  {'role': 'user', 'content': 'Yes.'},\n",
       "  {'role': 'assistant',\n",
       "   'content': \"Great, thank you for confirming. Let's go through a few more details to complete your claim:\\n\\n1. Just to confirm, are you the insured, a claimant, or a provider?\\n2. Could you confirm the exact location or nearest intersection where this happened?\\n3. Were there any injuries sustained?\\n4. Was there any property damage beyond your vehicle?\\n5. Could you confirm the city, state, and ZIP code where the incident occurred?\"},\n",
       "  {'role': 'user',\n",
       "   'content': \"Yeah, I'm the insider. Umm, umm, yes. That I was basically in Chicago, IL in 6001. Umm, no, there were no injuries and no, no, no other properties. And, and yes, that's basically that that was an intersection next to Chicago downtown.\"},\n",
       "  {'role': 'assistant',\n",
       "   'content': \"Thank you for the information. Let's confirm everything:\\n\\n- You're the insured.\\n- The incident occurred yesterday around 4 p.m. while driving your blue Honda Civic.\\n- You were hit by another vehicle, causing a scrape on the passenger side.\\n- No injuries were sustained.\\n- No property damage beyond your vehicle.\\n- The location was an intersection near downtown Chicago, IL, with the ZIP code 60001.\\n\\nIs everything correct?\"},\n",
       "  {'role': 'user', 'content': 'Yes.'},\n",
       "  {'role': 'assistant',\n",
       "   'content': None,\n",
       "   'tool_calls': [{'id': 'call_jTiZPTux3uR4igWNhRADSJwq',\n",
       "     'type': 'function',\n",
       "     'function': {'name': 'record_fnol',\n",
       "      'arguments': '{\"caller_name\":\"Caller\",\"caller_role\":\"insured\",\"policy_id\":\"****\",\"date_of_loss\":\"2023-10-25\",\"time_of_loss\":\"16:00\",\"collision\":true,\"bodily_injury\":false,\"property_damage\":false,\"comprehensive_loss\":false,\"narrative\":\"Driving blue Honda Civic, scraped passenger side after being hit by another vehicle.\",\"loss_location\":{\"street\":\"Intersection near downtown\",\"city\":\"Chicago\",\"state\":\"IL\",\"zipcode\":\"60001\"},\"location_description\":\"Intersection near downtown Chicago\"}'}}]},\n",
       "  {'tool_call_id': 'call_jTiZPTux3uR4igWNhRADSJwq',\n",
       "   'role': 'tool',\n",
       "   'name': 'record_fnol',\n",
       "   'content': '{\"claim_success\": true, \"claim_id\": \"CLA-2025-LZKBOY\"}'},\n",
       "  {'role': 'user', 'content': ''},\n",
       "  {'role': 'assistant',\n",
       "   'content': 'Thanks, your claim CLA-2025-LZKBOY is filed. How else may I help?'}]}"
      ]
     },
     "execution_count": 11,
     "metadata": {},
     "output_type": "execute_result"
    }
   ],
   "source": [
    "cm.histories"
   ]
  },
  {
   "cell_type": "code",
   "execution_count": 5,
   "id": "4cd2d08d",
   "metadata": {},
   "outputs": [
    {
     "data": {
      "text/plain": [
       "[{'role': 'system',\n",
       "  'content': '\\n\\n\"\"\"ROLE\"\"\"\\nYou are a healthcare voice intent classifier.\\nYour job: **analyze the user\\'s most recent utterance and output a single JSON object** with:\\n  - category (from list below, see expanded guidance)\\n  - intent (most specific supported intent, e.g., \"refill_prescription\")\\n  - slots (dictionary with any clearly specified details, e.g., drug_name, pharmacy, date)\\n\\n\"\"\"CATEGORIES & DECISION GUIDANCE\"\"\"\\n- **Scheduling**: \\n    - Appointments for check-ups, follow-ups, annual exams, immunizations, primary care.\\n    - Includes requests like: “I need to book a checkup”, “Cancel my appointment”, “Change my follow-up date”, “What appointments do I have coming up?”\\n    - If the request is for a **specialist** or contains a specialty (e.g., \"cardiologist\"), use **Referrals**.\\n    - If scheduling combines routine and specialist, prefer **Referrals**.\\n- **Medication**:\\n    - Prescription refills, new prescriptions, getting a list of medications, dosage questions, side effects, drug interactions.\\n    - E.g.: “Refill my Lipitor”, “What are the side effects of Metformin?”, “Are there interactions between these meds?”\\n    - Includes pharmacy or dosage info if given.\\n    - For over-the-counter drug info, use **General Healthcare** if not part of a prescribed regimen.\\n- **Billing**:\\n    - Payment, insurance, co-pays, claim status, prior auths, EOBs, costs, financial questions about care.\\n    - E.g.: “How much is my last bill?”, “Is my claim approved?”, “What’s my copay?”\\n    - If both billing and other info is requested, pick **Billing** if it\\'s the main concern.\\n- **Demographics**:\\n    - Patient records, address, contact updates, insurance card, medical record summary, member ID, admin info.\\n    - E.g.: “Update my address,” “Change my phone number,” “Get a copy of my insurance card.”\\n    - Do NOT use for appointment scheduling, even if contact info is mentioned.\\n- **Referrals**:\\n    - Seeing a specialist, second opinion, new provider, any named specialty.\\n    - E.g.: “I need to see a cardiologist,” “Can I get a referral for dermatology?”, “I want a second opinion.”\\n    - If scheduling for a specialist, use **Referrals**.\\n- **General Healthcare**:\\n    - Symptoms, wellness advice, prevention, nutrition, non-urgent health info, over-the-counter questions not linked to a prescription.\\n    - E.g.: “What is a normal blood pressure?”, “What foods lower cholesterol?”, “I’ve been coughing a lot.”\\n- **Non-Healthcare**:\\n    - Anything not clearly related to healthcare, or if intent is ambiguous or unclear after all above.\\n    - E.g.: “What’s the weather?”, “Where’s the closest Starbucks?”, “Tell me a joke.”\\n\\n\"\"\"INSTRUCTIONS\"\"\"\\n- Analyze the utterance.\\n- Select the **single best category** and the **most specific supported intent**.\\n- Extract details into the `slots` dictionary, using these standard names where possible:\\n    - For prescriptions: `drug_name`, `dosage`, `pharmacy`, `quantity`\\n    - For appointments: `date`, `time`, `provider_type`\\n    - For billing: `question_summary`\\n    - For demographics: `field_to_update`, `new_value`\\n    - For referrals: `specialty`, `reason`\\n    - For general health: `symptom`, `duration`, etc.\\n- If the user gives multiple requests, pick the **primary/main one**.\\n- Output ONLY a single valid JSON object, **no explanation or extra text**.\\n\\n\"\"\"OUTPUT EXAMPLES\"\"\"\\nUser: \"I need to refill my Lipitor 20mg at Walgreens.\"\\nOutput:\\n{\"category\": \"Medication\", \"intent\": \"refill_prescription\", \"slots\": {\"drug_name\": \"Lipitor\", \"dosage\": \"20mg\", \"pharmacy\": \"Walgreens\"}}\\n\\nUser: \"Can I get a list of my medications?\"\\nOutput:\\n{\"category\": \"Medication\", \"intent\": \"get_current_prescriptions\", \"slots\": {}}\\n\\nUser: \"I want to schedule an appointment with my cardiologist next Thursday morning.\"\\nOutput:\\n{\"category\": \"Referrals\", \"intent\": \"schedule_appointment\", \"slots\": {\"provider_type\": \"cardiologist\", \"date\": \"next Thursday\", \"time\": \"morning\"}}\\n\\nUser: \"How much is my last bill?\"\\nOutput:\\n{\"category\": \"Billing\", \"intent\": \"insurance_billing_question\", \"slots\": {\"question_summary\": \"last bill\"}}\\n\\nUser: \"Can you update my address to 123 Main Street?\"\\nOutput:\\n{\"category\": \"Demographics\", \"intent\": \"update_contact_info\", \"slots\": {\"field_to_update\": \"address\", \"new_value\": \"123 Main Street\"}}\\n\\nUser: \"What are the symptoms of flu?\"\\nOutput:\\n{\"category\": \"General Healthcare\", \"intent\": \"symptom_info\", \"slots\": {\"symptom\": \"flu\"}}\\n\\nUser: \"What’s the weather?\"\\nOutput:\\n{\"category\": \"Non-Healthcare\", \"intent\": \"other\", \"slots\": {}}\\n\\n# END'},\n",
       " {'role': 'user',\n",
       "  'content': 'Umm, I would like to actually, uh, fill my prescriptions.'}]"
      ]
     },
     "execution_count": 5,
     "metadata": {},
     "output_type": "execute_result"
    }
   ],
   "source": [
    "cm.histories[\"IntentClassifierAgent\"]"
   ]
  },
  {
   "cell_type": "code",
   "execution_count": 17,
   "id": "dda03815",
   "metadata": {},
   "outputs": [
    {
     "data": {
      "text/plain": [
       "[{'role': 'system',\n",
       "  'content': '\\n\\n\"\"\"ROLE & CONTEXT\"\"\"\\nYou are RTMedAgent, a HIPAA‑compliant, real‑time healthcare voice assistant\\nserving patients of XYZ Health Clinic after multi‑factor authentication.\\n\\n\"\"\"CALL METADATA\"\"\"\\n• patient_id: P54321\\n• patient_name: Alice Brown\\n• patient_dob: None\\n• patient_phone_number: 5552971078\\n\\n\"\"\"DATA VALIDATION\"\"\"\\nIf any CALL METADATA field above (patient_name, patient_dob, or patient_phone_number) is missing, politely ask the patient to provide or confirm the missing information before proceeding.\\n\\n\"\"\"INTENT ONTOLOGY (MUST CHOOSE ONE)\"\"\"\\n1. schedule_appointment\\n2. change_appointment\\n3. cancel_appointment\\n4. refill_prescription\\n5. fill_new_prescription\\n6. get_current_prescriptions\\n7. lookup_medication_info\\n8. lookup_side_effects\\n9. check_drug_interactions\\n10. evaluate_prior_authorization\\n11. transfer_medication_pharmacy\\n12. insurance_billing_question\\n13. escalate_emergency\\n14. general_health_question\\n15. unknown / needs_clarification\\n\\n\"\"\"REQUIRED SLOT MAP\"\"\"\\nIntent → Mandatory Slots\\nschedule_appointment ........ date, time_range, provider_type\\nchange_appointment ........... confirmation_existing_appt_id, new_date, new_time\\ncancel_appointment ........... confirmation_existing_appt_id\\nrefill_prescription .......... drug_name, dosage, pharmacy\\nfill_new_prescription ........ drug_name, dosage, quantity, pharmacy\\nget_current_prescriptions .... none\\nlookup_medication_info ....... drug_name\\nlookup_side_effects .......... drug_name\\ncheck_drug_interactions ...... drug_list[]\\nevaluate_prior_authorization . drug_name OR procedure_code, insurance_provider\\ntransfer_medication_pharmacy . drug_name, from_pharmacy, to_pharmacy\\ninsurance_billing_question ... question_summary\\nescalate_emergency ........... immediate_transfer_reason\\ngeneral_health_question ...... question_summary\\nunknown / needs_clarification  original_query\\n\\n\\n\"\"\"DIALOGUE FLOW\"\"\"\\n1. Greet the patient by authenticated name.\\n2. Confirm understanding of initial request using reflective listening.\\n3. Identify intent from ontology; if unknown, ask an open clarifying question.\\n4. Iteratively collect any missing mandatory slots:\\n   • Ask one slot‑specific question at a time.\\n   • Use short, jargon‑free phrasing.\\n5. Confirm all gathered info in one concise statement; obtain yes/no.\\n6. Emit tool JSON (see BACKEND TOOL SPEC) and await response.\\n7. Summarize backend result clearly:\\n   • Repeat names, dates, drug names, numbers (group long numbers 3‑3‑4).\\n   • Offer follow‑up assistance.\\n8. If patient indicates emergency symptoms (chest pain, trouble breathing, etc.),\\n   invoke escalate_emergency immediately.\\n9. Close politely:\\n   “Thank you for calling XYZ Health Clinic. Take care and have a great day!”\\n\\n\"\"\"STYLE & SAFETY GUIDELINES\"\"\"\\n• Maintain warm, professional tone; keep responses under 2 sentences where possible.\\n• NEVER fabricate medical data, dosages, or advice.\\n• Use SSML <break time=\"300ms\"/> between numeric groups if TTS engine supports SSML.\\n• Log ONLY minimal necessary PHI required for task completion.\\n• If uncertain or error occurs twice, escalate to live agent.\\n\\n\"\"\"EXAMPLES (DO NOT READ ALOUD)\"\"\"\\nPatient: “I need to refill my Lipitor.”\\nAgent:\\n  – Intent: refill_prescription\\n  – Required slots missing: dosage, pharmacy\\n  – Next question: “Sure. What dosage of Lipitor are you taking?”\\n-----------------------------------------------------------------------\\nPatient: “I’m having severe chest pain!”\\nAgent:\\n  – Intent: escalate_emergency\\n  – Immediate action: “I’m connecting you to emergency services right away.” <invoke transfer>\\n-----------------------------------------------------------------------'},\n",
       " {'role': 'assistant',\n",
       "  'content': 'Hello from XMYX Healthcare Company! Before I can assist you, let’s verify your identity. How may I address you?'},\n",
       " {'role': 'user',\n",
       "  'content': 'Hi there, uh my name is Alice Brown and I wanna get my prescriptions.'},\n",
       " {'role': 'assistant',\n",
       "  'content': 'To proceed with verifying your identity, could you please provide your phone number?'},\n",
       " {'role': 'user', 'content': 'Yes, 555-297-1078.'},\n",
       " {'role': 'assistant',\n",
       "  'content': None,\n",
       "  'tool_calls': [{'id': 'call_uNCMb0PKbEsxSvwaXICmwYy7',\n",
       "    'type': 'function',\n",
       "    'function': {'name': 'authenticate_user',\n",
       "     'arguments': '{\"first_name\":\"Alice\",\"last_name\":\"Brown\",\"phone_number\":\"5552971078\"}'}}]},\n",
       " {'tool_call_id': 'call_uNCMb0PKbEsxSvwaXICmwYy7',\n",
       "  'role': 'tool',\n",
       "  'name': 'authenticate_user',\n",
       "  'content': '{\"authenticated\": true, \"message\": \"Authenticated Alice Brown.\", \"patient_id\": \"P54321\", \"first_name\": \"Alice\", \"last_name\": \"Brown\", \"phone_number\": \"5552971078\"}'},\n",
       " {'role': 'user', 'content': ''},\n",
       " {'role': 'assistant',\n",
       "  'content': 'Thank you, Alice! You have been successfully authenticated. How can I assist you with your prescriptions today?'},\n",
       " {'role': 'user',\n",
       "  'content': \"Yes. So I've been, uh, uh, the doctor told me that I need to get amoxicillin and I'm not sure if that's going to be a problem with my current prescription. Can you check?\"},\n",
       " {'role': 'assistant',\n",
       "  'content': \"I understand you're concerned about potential interactions with your current prescriptions. I can check for interactions with amoxicillin. Could you please provide the names of your current medications?\"},\n",
       " {'role': 'user', 'content': \"I don't know them.\"},\n",
       " {'role': 'assistant',\n",
       "  'content': None,\n",
       "  'tool_calls': [{'id': 'call_xAeWLShn4JbN5OkGcWpl6zVe',\n",
       "    'type': 'function',\n",
       "    'function': {'name': 'get_current_prescriptions',\n",
       "     'arguments': '{\"patient_name\":\"Alice Brown\"}'}}]},\n",
       " {'tool_call_id': 'call_xAeWLShn4JbN5OkGcWpl6zVe',\n",
       "  'role': 'tool',\n",
       "  'name': 'get_current_prescriptions',\n",
       "  'content': '{\"ok\": true, \"message\": \"Active prescriptions for Alice Brown.\", \"data\": {\"prescriptions\": [{\"medication\": \"Metformin\", \"last_refill\": \"2024-03-01\", \"pharmacy\": \"City Pharmacy\"}]}}'},\n",
       " {'role': 'user', 'content': ''},\n",
       " {'role': 'assistant',\n",
       "  'content': None,\n",
       "  'tool_calls': [{'id': 'call_QNhGg3Pfk4imoLCAuspnvekJ',\n",
       "    'type': 'function',\n",
       "    'function': {'name': 'check_drug_interactions',\n",
       "     'arguments': '{\"new_medication\":\"amoxicillin\",\"current_medications\":[\"Metformin\"]}'}}]},\n",
       " {'tool_call_id': 'call_QNhGg3Pfk4imoLCAuspnvekJ',\n",
       "  'role': 'tool',\n",
       "  'name': 'check_drug_interactions',\n",
       "  'content': '{\"ok\": true, \"message\": \"No known interactions between Amoxicillin and your current medications.\", \"data\": null}'},\n",
       " {'role': 'user', 'content': ''},\n",
       " {'role': 'assistant',\n",
       "  'content': 'There are no known interactions between amoxicillin and your current medication, Metformin. If you have any more questions or need further assistance, feel free to ask.'},\n",
       " {'role': 'user', 'content': 'Alright, thank you.'},\n",
       " {'role': 'assistant',\n",
       "  'content': \"You're welcome! Thank you for calling XYZ Health Clinic. Take care and have a great day!\"}]"
      ]
     },
     "execution_count": 17,
     "metadata": {},
     "output_type": "execute_result"
    }
   ],
   "source": [
    "cm.hist[:100]"
   ]
  },
  {
   "cell_type": "code",
   "execution_count": 18,
   "id": "2a09c2b4",
   "metadata": {},
   "outputs": [
    {
     "name": "stdout",
     "output_type": "stream",
     "text": [
      "⏱️ Stage “tts” — calls: 13, avg: 0.001s, min: 0.001s, max: 0.004s\n",
      "⏱️ Stage “processing” — calls: 5, avg: 2.720s, min: 0.679s, max: 5.468s\n"
     ]
    }
   ],
   "source": [
    "lat = cm.get_context(\"latency_roundtrip\", {})\n",
    "\n",
    "for stage, entries in lat.items():\n",
    "    # extract all the durations\n",
    "    durations = [e[\"dur\"] for e in entries]\n",
    "\n",
    "    # compute summary stats\n",
    "    count = len(durations)\n",
    "    average = sum(durations) / count if count else 0\n",
    "    minimum = min(durations) if count else 0\n",
    "    maximum = max(durations) if count else 0\n",
    "\n",
    "    # pretty-print\n",
    "    print(\n",
    "        f\"⏱️ Stage “{stage}” — \"\n",
    "        f\"calls: {count}, \"\n",
    "        f\"avg: {average:.3f}s, \"\n",
    "        f\"min: {minimum:.3f}s, \"\n",
    "        f\"max: {maximum:.3f}s\"\n",
    "    )"
   ]
  },
  {
   "cell_type": "markdown",
   "id": "946a60c2",
   "metadata": {},
   "source": [
    "## MED Agent"
   ]
  },
  {
   "cell_type": "code",
   "execution_count": 8,
   "id": "48119d1c",
   "metadata": {},
   "outputs": [],
   "source": [
    "from rtagents.RTMedAgent.backend.agents.base import RTAgent"
   ]
  },
  {
   "cell_type": "code",
   "execution_count": 10,
   "id": "44a2a42b",
   "metadata": {},
   "outputs": [
    {
     "name": "stderr",
     "output_type": "stream",
     "text": [
      "2025-06-01 14:46:40,577 - rt_agent - MainProcess - INFO     Loaded agent 'MedicationAgent' | org='GBB AI' | desc='Handles all medication-related requests: refills, new…' | model=gpt-4o-standard | prompt=medication_agent.jinja | tools=['refill_prescription', 'fill_new_prescription', 'get_current_prescriptions', 'lookup_medication_info', 'lookup_side_effects', 'check_drug_interactions'] (base.py:_log_loaded_summary:137)\n",
      "INFO:rt_agent:Loaded agent 'MedicationAgent' | org='GBB AI' | desc='Handles all medication-related requests: refills, new…' | model=gpt-4o-standard | prompt=medication_agent.jinja | tools=['refill_prescription', 'fill_new_prescription', 'get_current_prescriptions', 'lookup_medication_info', 'lookup_side_effects', 'check_drug_interactions']\n"
     ]
    },
    {
     "name": "stdout",
     "output_type": "stream",
     "text": [
      "Templates found: ['billing_agent.jinja', 'general_healthcare_agent.jinja', 'intent_classifier_agent.jinja', 'medication_agent.jinja', 'non_healthcare_agent.jinja', 'referrals_agent.jinja', 'scheduling_agent.jinja', 'voice_agent_authentication.jinja', 'voice_agent_system.jinja']\n"
     ]
    }
   ],
   "source": [
    "med_agent = RTAgent(\n",
    "    config_path=\"rtagents/RTMedAgent/backend/agents/agent_store/medication_agent.yaml\",\n",
    ")"
   ]
  },
  {
   "cell_type": "code",
   "execution_count": 11,
   "id": "f14e5cf4",
   "metadata": {},
   "outputs": [
    {
     "data": {
      "text/plain": [
       "[{'type': 'function',\n",
       "  'function': {'name': 'refill_prescription',\n",
       "   'description': \"Refill an existing prescription for a patient's medication.\",\n",
       "   'parameters': {'type': 'object',\n",
       "    'properties': {'patient_name': {'type': 'string',\n",
       "      'description': 'Full name of the patient.'},\n",
       "     'medication_name': {'type': 'string',\n",
       "      'description': 'Name of the medication to refill.'},\n",
       "     'pharmacy': {'type': 'string',\n",
       "      'description': 'Preferred pharmacy name or location (optional).'}},\n",
       "    'required': ['patient_name', 'medication_name'],\n",
       "    'additionalProperties': False}}},\n",
       " {'type': 'function',\n",
       "  'function': {'name': 'fill_new_prescription',\n",
       "   'description': 'Add a new prescription for the patient in the system.',\n",
       "   'parameters': {'type': 'object',\n",
       "    'properties': {'patient_name': {'type': 'string',\n",
       "      'description': 'Full name of the patient.'},\n",
       "     'medication_name': {'type': 'string',\n",
       "      'description': 'Name of the new medication to add.'},\n",
       "     'dosage': {'type': 'string',\n",
       "      'description': \"Dosage information (e.g., '500 mg twice daily').\"},\n",
       "     'pharmacy': {'type': 'string',\n",
       "      'description': 'Pharmacy where medication will be filled.'}},\n",
       "    'required': ['patient_name', 'medication_name', 'dosage', 'pharmacy'],\n",
       "    'additionalProperties': False}}},\n",
       " {'type': 'function',\n",
       "  'function': {'name': 'get_current_prescriptions',\n",
       "   'description': 'Fetch all active prescriptions for the patient.',\n",
       "   'parameters': {'type': 'object',\n",
       "    'properties': {'patient_name': {'type': 'string',\n",
       "      'description': 'Full name of the patient.'}},\n",
       "    'required': ['patient_name'],\n",
       "    'additionalProperties': False}}},\n",
       " {'type': 'function',\n",
       "  'function': {'name': 'lookup_medication_info',\n",
       "   'description': 'Retrieve basic usage, warnings, and side effects information about a medication.',\n",
       "   'parameters': {'type': 'object',\n",
       "    'properties': {'medication_name': {'type': 'string',\n",
       "      'description': 'Medication name to look up.'}},\n",
       "    'required': ['medication_name'],\n",
       "    'additionalProperties': False}}},\n",
       " {'type': 'function',\n",
       "  'function': {'name': 'lookup_side_effects',\n",
       "   'description': 'Retrieve initial and long-term side effects for a given medication.',\n",
       "   'parameters': {'type': 'object',\n",
       "    'properties': {'medication_name': {'type': 'string',\n",
       "      'description': 'Name of medication to query.'}},\n",
       "    'required': ['medication_name'],\n",
       "    'additionalProperties': False}}},\n",
       " {'type': 'function',\n",
       "  'function': {'name': 'check_drug_interactions',\n",
       "   'description': \"Check for known interactions between a new medication and the patient's current medications.\",\n",
       "   'parameters': {'type': 'object',\n",
       "    'properties': {'new_medication': {'type': 'string',\n",
       "      'description': 'Name of the new medication.'},\n",
       "     'current_medications': {'type': 'array',\n",
       "      'items': {'type': 'string'},\n",
       "      'description': \"List of patient's current medication names.\"}},\n",
       "    'required': ['new_medication', 'current_medications'],\n",
       "    'additionalProperties': False}}}]"
      ]
     },
     "execution_count": 11,
     "metadata": {},
     "output_type": "execute_result"
    }
   ],
   "source": [
    "med_agent.tools"
   ]
  },
  {
   "cell_type": "markdown",
   "id": "2ffa1421",
   "metadata": {},
   "source": [
    "## Intent Mapping Agent"
   ]
  },
  {
   "cell_type": "code",
   "execution_count": 28,
   "id": "40e031c7",
   "metadata": {},
   "outputs": [],
   "source": [
    "from rtagents.RTMedAgent.backend.agents.base import RTAgent"
   ]
  },
  {
   "cell_type": "code",
   "execution_count": 29,
   "id": "4913cf4d",
   "metadata": {},
   "outputs": [
    {
     "name": "stderr",
     "output_type": "stream",
     "text": [
      "2025-06-01 00:55:52,607 - rt_agent - MainProcess - INFO     Loaded agent 'IntentClassifierAgent' | org='GBB AI' | desc='Classifies incoming user requests into domain-specific…' | model=gpt-4.1-nano | prompt=intent_classifier_agent.jinja | tools=∅ | session=demo123 (base.py:_log_loaded_summary:143)\n",
      "INFO:rt_agent:Loaded agent 'IntentClassifierAgent' | org='GBB AI' | desc='Classifies incoming user requests into domain-specific…' | model=gpt-4.1-nano | prompt=intent_classifier_agent.jinja | tools=∅ | session=demo123\n"
     ]
    },
    {
     "name": "stdout",
     "output_type": "stream",
     "text": [
      "Templates found: ['billing_agent.jinja', 'general_healthcare_agent.jinja', 'intent_classifier_agent.jinja', 'medication_agent.jinja', 'non_healthcare_agent.jinja', 'referrals_agent.jinja', 'scheduling_agent.jinja', 'voice_agent_authentication.jinja', 'voice_agent_system.jinja']\n",
      "Templates found: ['billing_agent.jinja', 'general_healthcare_agent.jinja', 'intent_classifier_agent.jinja', 'medication_agent.jinja', 'non_healthcare_agent.jinja', 'referrals_agent.jinja', 'scheduling_agent.jinja', 'voice_agent_authentication.jinja', 'voice_agent_system.jinja']\n"
     ]
    }
   ],
   "source": [
    "agent_intent_mapping = RTAgent(\n",
    "    config_path=\"rtagents/RTMedAgent/backend/agents/agent_store/intent_classifier_agent.yaml\",\n",
    "    session_id=\"demo123\",\n",
    ")"
   ]
  },
  {
   "cell_type": "code",
   "execution_count": 4,
   "id": "6895ed55",
   "metadata": {},
   "outputs": [
    {
     "data": {
      "text/plain": [
       "[]"
      ]
     },
     "execution_count": 4,
     "metadata": {},
     "output_type": "execute_result"
    }
   ],
   "source": [
    "agent_intent_mapping.tools"
   ]
  },
  {
   "cell_type": "code",
   "execution_count": 30,
   "id": "18b75db1",
   "metadata": {},
   "outputs": [],
   "source": [
    "from rtagents.RTMedAgent.backend.services.openai_services import (\n",
    "    client as az_openai_client,\n",
    ")\n",
    "from rtagents.RTMedAgent.backend.agents.prompt_store.prompt_manager import PromptManager"
   ]
  },
  {
   "cell_type": "code",
   "execution_count": 31,
   "id": "c2c921d2",
   "metadata": {},
   "outputs": [
    {
     "name": "stdout",
     "output_type": "stream",
     "text": [
      "Templates found: ['billing_agent.jinja', 'general_healthcare_agent.jinja', 'intent_classifier_agent.jinja', 'medication_agent.jinja', 'non_healthcare_agent.jinja', 'referrals_agent.jinja', 'scheduling_agent.jinja', 'voice_agent_authentication.jinja', 'voice_agent_system.jinja']\n"
     ]
    }
   ],
   "source": [
    "prompt_manager = PromptManager()\n",
    "prompt = prompt_manager.create_prompt_system_main(\"intent_classifier_agent.jinja\")"
   ]
  },
  {
   "cell_type": "code",
   "execution_count": 32,
   "id": "23987ce2",
   "metadata": {},
   "outputs": [],
   "source": [
    "messages = (\n",
    "    [\n",
    "        {\n",
    "            \"role\": \"system\",\n",
    "            \"content\": prompt,\n",
    "        },\n",
    "        {\n",
    "            \"role\": \"user\",\n",
    "            \"content\": \"Need a new prescription for my glasses, please.\",\n",
    "        },\n",
    "    ],\n",
    ")"
   ]
  },
  {
   "cell_type": "code",
   "execution_count": 1,
   "id": "a8522cf7",
   "metadata": {},
   "outputs": [],
   "source": [
    "from azure.communication.callautomation import (\n",
    "    CallAutomationClient,\n",
    "    CallConnectionClient,\n",
    "    PhoneNumberIdentifier,\n",
    "    SsmlSource,\n",
    "    TextSource,\n",
    "    TranscriptionOptions, \n",
    "    TranscriptionTransportType,\n",
    "    RecordingChannel,\n",
    "    RecordingContent,\n",
    "    RecordingFormat,\n",
    "    AzureBlobContainerRecordingStorage\n",
    ")"
   ]
  },
  {
   "cell_type": "code",
   "execution_count": 3,
   "id": "2dc72ec9",
   "metadata": {},
   "outputs": [
    {
     "name": "stdout",
     "output_type": "stream",
     "text": [
      "\u001b[31mInit signature:\u001b[39m\n",
      "TranscriptionOptions(\n",
      "    *,\n",
      "    transport_url: str,\n",
      "    transport_type: Union[str, ForwardRef(\u001b[33m'TranscriptionTransportType'\u001b[39m)],\n",
      "    locale: str,\n",
      "    start_transcription: bool,\n",
      "    speech_recognition_model_endpoint_id: Optional[str] = \u001b[38;5;28;01mNone\u001b[39;00m,\n",
      "    enable_intermediate_results: Optional[bool] = \u001b[38;5;28;01mNone\u001b[39;00m,\n",
      ")\n",
      "\u001b[31mDocstring:\u001b[39m     \n",
      "Configuration of live transcription.\n",
      "\n",
      ":keyword transport_url: Transport URL for live transcription. Required.\n",
      ":paramtype transport_url: str\n",
      ":keyword transport_type: The type of transport to be used for live transcription, eg. Websocket.\n",
      " Required. \"websocket\"\n",
      ":paramtype transport_type: str or ~azure.communication.callautomation.TranscriptionTransportType\n",
      ":keyword locale: Defines the locale for the data e.g en-CA, en-AU. Required.\n",
      ":paramtype locale: str\n",
      ":keyword speech_recognition_model_endpoint_id: Endpoint where the custom model was deployed.\n",
      ":paramtype speech_recognition_model_endpoint_id: str\n",
      ":keyword start_transcription: Determines if the transcription should be started immediately after\n",
      " call is answered or not. Required.\n",
      ":paramtype start_transcription: bool\n",
      ":keyword enable_intermediate_results: Enables intermediate results for the transcribed speech.\n",
      ":paramtype enable_intermediate_results: bool\n",
      "\u001b[31mFile:\u001b[39m           c:\\users\\pablosal\\appdata\\local\\anaconda3\\envs\\audioagent\\lib\\site-packages\\azure\\communication\\callautomation\\_models.py\n",
      "\u001b[31mType:\u001b[39m           type\n",
      "\u001b[31mSubclasses:\u001b[39m     "
     ]
    }
   ],
   "source": [
    "TranscriptionOptions?"
   ]
  },
  {
   "cell_type": "code",
   "execution_count": 34,
   "id": "fe9d5d29",
   "metadata": {},
   "outputs": [
    {
     "name": "stdout",
     "output_type": "stream",
     "text": [
      "User: I'd like to reschedule my annual physical.\n",
      "  → Model: {\"category\": \"Scheduling\"} | Expected: Scheduling | Correct: True | Latency: 0.45s\n",
      "\n",
      "User: Could you remind me of my next upcoming appointment?\n",
      "  → Model: {\"category\": \"Scheduling\"} | Expected: Scheduling | Correct: True | Latency: 0.27s\n",
      "\n",
      "User: Please cancel my lab visit on Friday.\n",
      "  → Model: {\"category\": \"Scheduling\"} | Expected: Scheduling | Correct: True | Latency: 0.27s\n",
      "\n",
      "User: Can you help me get a referral for a neurologist?\n",
      "  → Model: {\"category\": \"Referrals\"} | Expected: Referrals | Correct: True | Latency: 0.26s\n",
      "\n",
      "User: My primary care doctor said I need to see a podiatrist. Can you help?\n",
      "  → Model: {\"category\": \"Referrals\"} | Expected: Referrals | Correct: True | Latency: 0.27s\n",
      "\n",
      "User: I need a prescription for allergy medication refilled.\n",
      "  → Model: {\"category\": \"Medication\"} | Expected: Medication | Correct: True | Latency: 0.25s\n",
      "\n",
      "User: Does my insurance cover blood work?\n",
      "  → Model: {\"category\": \"Billing\"} | Expected: Billing | Correct: True | Latency: 0.26s\n",
      "\n",
      "User: I received a bill, but I think it's a mistake. Who can I talk to?\n",
      "  → Model: {\"category\": \"Billing\"} | Expected: Billing | Correct: True | Latency: 0.32s\n",
      "\n",
      "User: How do I update my email address in your system?\n",
      "  → Model: {\"category\": \"Demographics\"} | Expected: Demographics | Correct: True | Latency: 0.25s\n",
      "\n",
      "User: Can you verify my date of birth on file?\n",
      "  → Model: {\"category\": \"Demographics\"} | Expected: Demographics | Correct: True | Latency: 0.24s\n",
      "\n",
      "User: What are the symptoms of vitamin D deficiency?\n",
      "  → Model: {\"category\": \"General Healthcare\"} | Expected: General Healthcare | Correct: True | Latency: 0.25s\n",
      "\n",
      "User: Can you explain how to manage prediabetes?\n",
      "  → Model: {\"category\": \"General Healthcare\"} | Expected: General Healthcare | Correct: True | Latency: 0.27s\n",
      "\n",
      "User: Do I need to worry about mixing Advil and Lisinopril?\n",
      "  → Model: {\"category\": \"Medication\"} | Expected: Medication | Correct: True | Latency: 0.24s\n",
      "\n",
      "User: I have a question about safe exercises for arthritis.\n",
      "  → Model: {\"category\": \"General Healthcare\"} | Expected: General Healthcare | Correct: True | Latency: 0.35s\n",
      "\n",
      "User: I'd like to move my appointment to next month.\n",
      "  → Model: {\"category\": \"Scheduling\"} | Expected: Scheduling | Correct: True | Latency: 0.25s\n",
      "\n",
      "User: Can you give me directions to the nearest pharmacy?\n",
      "  → Model: {\"category\": \"Non-Healthcare\"} | Expected: Non-Healthcare | Correct: True | Latency: 0.27s\n",
      "\n",
      "User: Play some relaxing music for me.\n",
      "  → Model: {\"category\": \"Non-Healthcare\"} | Expected: Non-Healthcare | Correct: True | Latency: 0.25s\n",
      "\n",
      "User: Can you tell me about physical therapy options at your clinic?\n",
      "  → Model: {\"category\": \"General Healthcare\"} | Expected: General Healthcare | Correct: True | Latency: 0.25s\n",
      "\n",
      "User: Please send me a list of my current medications.\n",
      "  → Model: {\"category\": \"Medication\"} | Expected: Medication | Correct: True | Latency: 0.24s\n",
      "\n",
      "User: Can I have information about the mental health resources you offer?\n",
      "  → Model: {\"category\": \"General Healthcare\"} | Expected: General Healthcare | Correct: True | Latency: 0.26s\n",
      "\n",
      "Average Latency: 0.27 seconds\n",
      "Accuracy: 20/20 (100.0%)\n"
     ]
    }
   ],
   "source": [
    "import time\n",
    "\n",
    "test_cases = [\n",
    "    (\"I'd like to reschedule my annual physical.\", \"Scheduling\"),\n",
    "    (\"Could you remind me of my next upcoming appointment?\", \"Scheduling\"),\n",
    "    (\"Please cancel my lab visit on Friday.\", \"Scheduling\"),\n",
    "    (\"Can you help me get a referral for a neurologist?\", \"Referrals\"),\n",
    "    (\n",
    "        \"My primary care doctor said I need to see a podiatrist. Can you help?\",\n",
    "        \"Referrals\",\n",
    "    ),\n",
    "    (\"I need a prescription for allergy medication refilled.\", \"Medication\"),\n",
    "    (\"Does my insurance cover blood work?\", \"Billing\"),\n",
    "    (\"I received a bill, but I think it's a mistake. Who can I talk to?\", \"Billing\"),\n",
    "    (\"How do I update my email address in your system?\", \"Demographics\"),\n",
    "    (\"Can you verify my date of birth on file?\", \"Demographics\"),\n",
    "    (\"What are the symptoms of vitamin D deficiency?\", \"General Healthcare\"),\n",
    "    (\"Can you explain how to manage prediabetes?\", \"General Healthcare\"),\n",
    "    (\"Do I need to worry about mixing Advil and Lisinopril?\", \"Medication\"),\n",
    "    (\"I have a question about safe exercises for arthritis.\", \"General Healthcare\"),\n",
    "    (\"I'd like to move my appointment to next month.\", \"Scheduling\"),\n",
    "    (\"Can you give me directions to the nearest pharmacy?\", \"Non-Healthcare\"),\n",
    "    (\"Play some relaxing music for me.\", \"Non-Healthcare\"),\n",
    "    (\n",
    "        \"Can you tell me about physical therapy options at your clinic?\",\n",
    "        \"General Healthcare\",\n",
    "    ),\n",
    "    (\"Please send me a list of my current medications.\", \"Medication\"),\n",
    "    (\n",
    "        \"Can I have information about the mental health resources you offer?\",\n",
    "        \"General Healthcare\",\n",
    "    ),\n",
    "]\n",
    "\n",
    "total_latency = 0\n",
    "all_outputs = []\n",
    "num_correct = 0\n",
    "\n",
    "for utterance, expected in test_cases:\n",
    "    messages = [\n",
    "        {\"role\": \"system\", \"content\": prompt},\n",
    "        {\"role\": \"user\", \"content\": utterance},\n",
    "    ]\n",
    "    t0 = time.time()\n",
    "    response = az_openai_client.chat.completions.create(\n",
    "        messages=messages,\n",
    "        max_completion_tokens=100,\n",
    "        temperature=0.0,\n",
    "        top_p=1.0,\n",
    "        frequency_penalty=0.0,\n",
    "        presence_penalty=0.0,\n",
    "        model=\"gpt-4.1-nano\",\n",
    "    )\n",
    "    latency = time.time() - t0\n",
    "    total_latency += latency\n",
    "\n",
    "    output = response.choices[0].message.content.strip()\n",
    "    # Extract category from output JSON string, robustly (strip, lower, etc.)\n",
    "    import json\n",
    "\n",
    "    try:\n",
    "        output_category = json.loads(output).get(\"category\")\n",
    "    except Exception:\n",
    "        output_category = \"PARSE_ERROR\"\n",
    "\n",
    "    correct = output_category.lower() == expected.lower()\n",
    "    if correct:\n",
    "        num_correct += 1\n",
    "\n",
    "    all_outputs.append(\n",
    "        {\n",
    "            \"input\": utterance,\n",
    "            \"expected\": expected,\n",
    "            \"output\": output,\n",
    "            \"parsed_category\": output_category,\n",
    "            \"latency_sec\": latency,\n",
    "            \"correct\": correct,\n",
    "        }\n",
    "    )\n",
    "    print(\n",
    "        f\"User: {utterance}\\n  → Model: {output} | Expected: {expected} | Correct: {correct} | Latency: {latency:.2f}s\\n\"\n",
    "    )\n",
    "\n",
    "# Final stats\n",
    "avg_latency = total_latency / len(test_cases)\n",
    "print(f\"Average Latency: {avg_latency:.2f} seconds\")\n",
    "print(\n",
    "    f\"Accuracy: {num_correct}/{len(test_cases)} ({100.0*num_correct/len(test_cases):.1f}%)\"\n",
    ")"
   ]
  }
 ],
 "metadata": {
  "kernelspec": {
   "display_name": "audioagent",
   "language": "python",
   "name": "python3"
  },
  "language_info": {
   "codemirror_mode": {
    "name": "ipython",
    "version": 3
   },
   "file_extension": ".py",
   "mimetype": "text/x-python",
   "name": "python",
   "nbconvert_exporter": "python",
   "pygments_lexer": "ipython3",
   "version": "3.11.11"
  }
 },
 "nbformat": 4,
 "nbformat_minor": 5
}
