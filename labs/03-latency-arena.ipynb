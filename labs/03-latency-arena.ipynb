{
 "cells": [
  {
   "cell_type": "code",
   "execution_count": 1,
   "id": "2e24e206",
   "metadata": {},
   "outputs": [
    {
     "name": "stdout",
     "output_type": "stream",
     "text": [
      "Changed directory to: c:\\Users\\pablosal\\Desktop\\gbb-ai-audio-agent\n"
     ]
    }
   ],
   "source": [
    "import logging\n",
    "import os\n",
    "\n",
    "# set the directory to the location of the script\n",
    "try:\n",
    "    os.chdir(\"..\")\n",
    "    target_directory = os.getenv(\n",
    "        \"TARGET_DIRECTORY\", os.getcwd()\n",
    "    )  # Use environment variable if available\n",
    "    if os.path.exists(target_directory):\n",
    "        os.chdir(target_directory)\n",
    "        print(f\"Changed directory to: {os.getcwd()}\")\n",
    "        logging.info(f\"Successfully changed directory to: {os.getcwd()}\")\n",
    "    else:\n",
    "        logging.error(f\"Directory does not exist: {target_directory}\")\n",
    "except Exception as e:\n",
    "    logging.exception(f\"An error occurred while changing directory: {e}\")"
   ]
  },
  {
   "cell_type": "markdown",
   "id": "b9893f8b",
   "metadata": {},
   "source": [
    "### Access Operational DB (Post Analyics) -> CosmosDB"
   ]
  },
  {
   "cell_type": "code",
   "execution_count": 2,
   "id": "a7c46fd3",
   "metadata": {},
   "outputs": [
    {
     "name": "stderr",
     "output_type": "stream",
     "text": [
      "c:\\Users\\pablosal\\Desktop\\gbb-ai-audio-agent\\src\\cosmosdb\\manager.py:31: UserWarning: You appear to be connected to a CosmosDB cluster. For more information regarding feature compatibility and support please visit https://www.mongodb.com/supportability/cosmosdb\n",
      "  self.client = pymongo.MongoClient(connection_string)\n"
     ]
    }
   ],
   "source": [
    "from src.cosmosdb.manager import CosmosDBMongoCoreManager\n",
    "\n",
    "cosmos_manager = CosmosDBMongoCoreManager(\n",
    "    connection_string=os.getenv(\"AZURE_COSMOS_CONNECTION_STRING\"),\n",
    "    database_name=os.getenv(\"AZURE_COSMOS_DB_DATABASE_NAME\"),\n",
    "    collection_name=os.getenv(\"AZURE_COSMOS_DB_COLLECTION_NAME\"),\n",
    ")"
   ]
  },
  {
   "cell_type": "code",
   "execution_count": 8,
   "id": "daf32b36",
   "metadata": {},
   "outputs": [
    {
     "name": "stderr",
     "output_type": "stream",
     "text": [
      "ERROR:src.cosmosdb.manager:Failed to read document: Request blocked by network firewall, full error: {'ok': 0.0, 'errmsg': 'Request blocked by network firewall', 'code': 18, 'codeName': 'AuthenticationFailed'}, Timeout: 30s, Topology Description: <TopologyDescription id: 68361aaeb71b114712449cdb, topology_type: ReplicaSetNoPrimary, servers: [<ServerDescription ('cosmosdb-ai-factory-westus2.mongo.cosmos.azure.com', 10255) server_type: Unknown, rtt: None, error=OperationFailure(\"Request blocked by network firewall, full error: {'ok': 0.0, 'errmsg': 'Request blocked by network firewall', 'code': 18, 'codeName': 'AuthenticationFailed'}\")>]>\n"
     ]
    },
    {
     "name": "stdout",
     "output_type": "stream",
     "text": [
      "No session found.\n"
     ]
    }
   ],
   "source": [
    "query = {\"session_id\": \"a23455d6\"}\n",
    "document = cosmos_manager.read_document(query)\n",
    "\n",
    "if document:\n",
    "    print(\"Found session:\", document)\n",
    "else:\n",
    "    print(\"No session found.\")"
   ]
  },
  {
   "cell_type": "markdown",
   "id": "255d21d2",
   "metadata": {},
   "source": [
    "## Access Cache (redis) "
   ]
  },
  {
   "cell_type": "code",
   "execution_count": null,
   "id": "bc0813d8",
   "metadata": {},
   "outputs": [
    {
     "name": "stderr",
     "output_type": "stream",
     "text": [
      "2025-05-27 15:05:31,931 - micro - MainProcess - INFO     Azure Redis connection initialized. (manager.py:__init__:41)\n",
      "INFO:micro:Azure Redis connection initialized.\n"
     ]
    }
   ],
   "source": [
    "from rtagents.RTMedAgent.backend.orchestration.conversation_state import (\n",
    "    ConversationManager,\n",
    ")\n",
    "from src.redis.manager import AzureRedisManager\n",
    "\n",
    "redis_manager = AzureRedisManager()"
   ]
  },
  {
   "cell_type": "code",
   "execution_count": 16,
   "id": "c6c14848",
   "metadata": {},
   "outputs": [
    {
     "name": "stderr",
     "output_type": "stream",
     "text": [
      "2025-05-27 15:06:15,372 - micro - MainProcess - INFO     Restored session a23455d6: 21 msgs, ctx keys=['authenticated', 'latency_roundtrip', 'phone_number', 'patient_dob', 'patient_id', 'patient_name'] (conversation_state.py:from_redis:41)\n",
      "INFO:micro:Restored session a23455d6: 21 msgs, ctx keys=['authenticated', 'latency_roundtrip', 'phone_number', 'patient_dob', 'patient_id', 'patient_name']\n"
     ]
    },
    {
     "name": "stdout",
     "output_type": "stream",
     "text": [
      "Templates found: ['voice_agent_authentication.jinja', 'voice_agent_system.jinja']\n"
     ]
    }
   ],
   "source": [
    "cm = ConversationManager.from_redis(\"a23455d6\", redis_manager)"
   ]
  },
  {
   "cell_type": "code",
   "execution_count": 17,
   "id": "dda03815",
   "metadata": {},
   "outputs": [
    {
     "data": {
      "text/plain": [
       "[{'role': 'system',\n",
       "  'content': '\\n\\n\"\"\"ROLE & CONTEXT\"\"\"\\nYou are RTMedAgent, a HIPAA‑compliant, real‑time healthcare voice assistant\\nserving patients of XYZ Health Clinic after multi‑factor authentication.\\n\\n\"\"\"CALL METADATA\"\"\"\\n• patient_id: P54321\\n• patient_name: Alice Brown\\n• patient_dob: None\\n• patient_phone_number: 5552971078\\n\\n\"\"\"DATA VALIDATION\"\"\"\\nIf any CALL METADATA field above (patient_name, patient_dob, or patient_phone_number) is missing, politely ask the patient to provide or confirm the missing information before proceeding.\\n\\n\"\"\"INTENT ONTOLOGY (MUST CHOOSE ONE)\"\"\"\\n1. schedule_appointment\\n2. change_appointment\\n3. cancel_appointment\\n4. refill_prescription\\n5. fill_new_prescription\\n6. get_current_prescriptions\\n7. lookup_medication_info\\n8. lookup_side_effects\\n9. check_drug_interactions\\n10. evaluate_prior_authorization\\n11. transfer_medication_pharmacy\\n12. insurance_billing_question\\n13. escalate_emergency\\n14. general_health_question\\n15. unknown / needs_clarification\\n\\n\"\"\"REQUIRED SLOT MAP\"\"\"\\nIntent → Mandatory Slots\\nschedule_appointment ........ date, time_range, provider_type\\nchange_appointment ........... confirmation_existing_appt_id, new_date, new_time\\ncancel_appointment ........... confirmation_existing_appt_id\\nrefill_prescription .......... drug_name, dosage, pharmacy\\nfill_new_prescription ........ drug_name, dosage, quantity, pharmacy\\nget_current_prescriptions .... none\\nlookup_medication_info ....... drug_name\\nlookup_side_effects .......... drug_name\\ncheck_drug_interactions ...... drug_list[]\\nevaluate_prior_authorization . drug_name OR procedure_code, insurance_provider\\ntransfer_medication_pharmacy . drug_name, from_pharmacy, to_pharmacy\\ninsurance_billing_question ... question_summary\\nescalate_emergency ........... immediate_transfer_reason\\ngeneral_health_question ...... question_summary\\nunknown / needs_clarification  original_query\\n\\n\\n\"\"\"DIALOGUE FLOW\"\"\"\\n1. Greet the patient by authenticated name.\\n2. Confirm understanding of initial request using reflective listening.\\n3. Identify intent from ontology; if unknown, ask an open clarifying question.\\n4. Iteratively collect any missing mandatory slots:\\n   • Ask one slot‑specific question at a time.\\n   • Use short, jargon‑free phrasing.\\n5. Confirm all gathered info in one concise statement; obtain yes/no.\\n6. Emit tool JSON (see BACKEND TOOL SPEC) and await response.\\n7. Summarize backend result clearly:\\n   • Repeat names, dates, drug names, numbers (group long numbers 3‑3‑4).\\n   • Offer follow‑up assistance.\\n8. If patient indicates emergency symptoms (chest pain, trouble breathing, etc.),\\n   invoke escalate_emergency immediately.\\n9. Close politely:\\n   “Thank you for calling XYZ Health Clinic. Take care and have a great day!”\\n\\n\"\"\"STYLE & SAFETY GUIDELINES\"\"\"\\n• Maintain warm, professional tone; keep responses under 2 sentences where possible.\\n• NEVER fabricate medical data, dosages, or advice.\\n• Use SSML <break time=\"300ms\"/> between numeric groups if TTS engine supports SSML.\\n• Log ONLY minimal necessary PHI required for task completion.\\n• If uncertain or error occurs twice, escalate to live agent.\\n\\n\"\"\"EXAMPLES (DO NOT READ ALOUD)\"\"\"\\nPatient: “I need to refill my Lipitor.”\\nAgent:\\n  – Intent: refill_prescription\\n  – Required slots missing: dosage, pharmacy\\n  – Next question: “Sure. What dosage of Lipitor are you taking?”\\n-----------------------------------------------------------------------\\nPatient: “I’m having severe chest pain!”\\nAgent:\\n  – Intent: escalate_emergency\\n  – Immediate action: “I’m connecting you to emergency services right away.” <invoke transfer>\\n-----------------------------------------------------------------------'},\n",
       " {'role': 'assistant',\n",
       "  'content': 'Hello from XMYX Healthcare Company! Before I can assist you, let’s verify your identity. How may I address you?'},\n",
       " {'role': 'user',\n",
       "  'content': 'Hi there, uh my name is Alice Brown and I wanna get my prescriptions.'},\n",
       " {'role': 'assistant',\n",
       "  'content': 'To proceed with verifying your identity, could you please provide your phone number?'},\n",
       " {'role': 'user', 'content': 'Yes, 555-297-1078.'},\n",
       " {'role': 'assistant',\n",
       "  'content': None,\n",
       "  'tool_calls': [{'id': 'call_uNCMb0PKbEsxSvwaXICmwYy7',\n",
       "    'type': 'function',\n",
       "    'function': {'name': 'authenticate_user',\n",
       "     'arguments': '{\"first_name\":\"Alice\",\"last_name\":\"Brown\",\"phone_number\":\"5552971078\"}'}}]},\n",
       " {'tool_call_id': 'call_uNCMb0PKbEsxSvwaXICmwYy7',\n",
       "  'role': 'tool',\n",
       "  'name': 'authenticate_user',\n",
       "  'content': '{\"authenticated\": true, \"message\": \"Authenticated Alice Brown.\", \"patient_id\": \"P54321\", \"first_name\": \"Alice\", \"last_name\": \"Brown\", \"phone_number\": \"5552971078\"}'},\n",
       " {'role': 'user', 'content': ''},\n",
       " {'role': 'assistant',\n",
       "  'content': 'Thank you, Alice! You have been successfully authenticated. How can I assist you with your prescriptions today?'},\n",
       " {'role': 'user',\n",
       "  'content': \"Yes. So I've been, uh, uh, the doctor told me that I need to get amoxicillin and I'm not sure if that's going to be a problem with my current prescription. Can you check?\"},\n",
       " {'role': 'assistant',\n",
       "  'content': \"I understand you're concerned about potential interactions with your current prescriptions. I can check for interactions with amoxicillin. Could you please provide the names of your current medications?\"},\n",
       " {'role': 'user', 'content': \"I don't know them.\"},\n",
       " {'role': 'assistant',\n",
       "  'content': None,\n",
       "  'tool_calls': [{'id': 'call_xAeWLShn4JbN5OkGcWpl6zVe',\n",
       "    'type': 'function',\n",
       "    'function': {'name': 'get_current_prescriptions',\n",
       "     'arguments': '{\"patient_name\":\"Alice Brown\"}'}}]},\n",
       " {'tool_call_id': 'call_xAeWLShn4JbN5OkGcWpl6zVe',\n",
       "  'role': 'tool',\n",
       "  'name': 'get_current_prescriptions',\n",
       "  'content': '{\"ok\": true, \"message\": \"Active prescriptions for Alice Brown.\", \"data\": {\"prescriptions\": [{\"medication\": \"Metformin\", \"last_refill\": \"2024-03-01\", \"pharmacy\": \"City Pharmacy\"}]}}'},\n",
       " {'role': 'user', 'content': ''},\n",
       " {'role': 'assistant',\n",
       "  'content': None,\n",
       "  'tool_calls': [{'id': 'call_QNhGg3Pfk4imoLCAuspnvekJ',\n",
       "    'type': 'function',\n",
       "    'function': {'name': 'check_drug_interactions',\n",
       "     'arguments': '{\"new_medication\":\"amoxicillin\",\"current_medications\":[\"Metformin\"]}'}}]},\n",
       " {'tool_call_id': 'call_QNhGg3Pfk4imoLCAuspnvekJ',\n",
       "  'role': 'tool',\n",
       "  'name': 'check_drug_interactions',\n",
       "  'content': '{\"ok\": true, \"message\": \"No known interactions between Amoxicillin and your current medications.\", \"data\": null}'},\n",
       " {'role': 'user', 'content': ''},\n",
       " {'role': 'assistant',\n",
       "  'content': 'There are no known interactions between amoxicillin and your current medication, Metformin. If you have any more questions or need further assistance, feel free to ask.'},\n",
       " {'role': 'user', 'content': 'Alright, thank you.'},\n",
       " {'role': 'assistant',\n",
       "  'content': \"You're welcome! Thank you for calling XYZ Health Clinic. Take care and have a great day!\"}]"
      ]
     },
     "execution_count": 17,
     "metadata": {},
     "output_type": "execute_result"
    }
   ],
   "source": [
    "cm.hist[:100]"
   ]
  },
  {
   "cell_type": "code",
   "execution_count": 18,
   "id": "2a09c2b4",
   "metadata": {},
   "outputs": [
    {
     "name": "stdout",
     "output_type": "stream",
     "text": [
      "⏱️ Stage “tts” — calls: 13, avg: 0.001s, min: 0.001s, max: 0.004s\n",
      "⏱️ Stage “processing” — calls: 5, avg: 2.720s, min: 0.679s, max: 5.468s\n"
     ]
    }
   ],
   "source": [
    "lat = cm.get_context(\"latency_roundtrip\", {})\n",
    "\n",
    "for stage, entries in lat.items():\n",
    "    # extract all the durations\n",
    "    durations = [e[\"dur\"] for e in entries]\n",
    "\n",
    "    # compute summary stats\n",
    "    count = len(durations)\n",
    "    average = sum(durations) / count if count else 0\n",
    "    minimum = min(durations) if count else 0\n",
    "    maximum = max(durations) if count else 0\n",
    "\n",
    "    # pretty-print\n",
    "    print(\n",
    "        f\"⏱️ Stage “{stage}” — \"\n",
    "        f\"calls: {count}, \"\n",
    "        f\"avg: {average:.3f}s, \"\n",
    "        f\"min: {minimum:.3f}s, \"\n",
    "        f\"max: {maximum:.3f}s\"\n",
    "    )"
   ]
  },
  {
   "cell_type": "markdown",
   "id": "2ffa1421",
   "metadata": {},
   "source": [
    "## Call Agents"
   ]
  },
  {
   "cell_type": "code",
   "execution_count": null,
   "id": "40e031c7",
   "metadata": {},
   "outputs": [],
   "source": [
    "from rtagents.RTMedAgent.backend.agents.base import RTAgent"
   ]
  },
  {
   "cell_type": "code",
   "execution_count": null,
   "id": "4913cf4d",
   "metadata": {},
   "outputs": [
    {
     "name": "stderr",
     "output_type": "stream",
     "text": [
      "2025-05-27 15:06:36,590 - rt_agent - MainProcess - INFO     Loaded agent 'AuthAgent' | org='GBB AI' | desc='Handles caller authentication, then hands off to clinical…' | model=gpt-4o-standard | prompt=voice_agent_authentication.jinja | tools=['authenticate_user'] | session=demo123 (base.py:_log_loaded_summary:143)\n",
      "INFO:rt_agent:Loaded agent 'AuthAgent' | org='GBB AI' | desc='Handles caller authentication, then hands off to clinical…' | model=gpt-4o-standard | prompt=voice_agent_authentication.jinja | tools=['authenticate_user'] | session=demo123\n"
     ]
    },
    {
     "name": "stdout",
     "output_type": "stream",
     "text": [
      "Templates found: ['voice_agent_authentication.jinja', 'voice_agent_system.jinja']\n",
      "Templates found: ['voice_agent_authentication.jinja', 'voice_agent_system.jinja']\n"
     ]
    }
   ],
   "source": [
    "agent = RTAgent(\n",
    "    config_path=\"rtagents/RTMedAgent/backend/agents/agent_store/auth_agent.yaml\",\n",
    "    session_id=\"demo123\",\n",
    ")"
   ]
  },
  {
   "cell_type": "code",
   "execution_count": 21,
   "id": "495b107a",
   "metadata": {},
   "outputs": [
    {
     "data": {
      "text/plain": [
       "[{'type': 'function',\n",
       "  'function': {'name': 'authenticate_user',\n",
       "   'description': 'Authenticate a user by verifying first name, last name, and phone number.',\n",
       "   'parameters': {'type': 'object',\n",
       "    'properties': {'first_name': {'type': 'string',\n",
       "      'description': \"User's first name.\"},\n",
       "     'last_name': {'type': 'string', 'description': \"User's last name.\"},\n",
       "     'phone_number': {'type': 'string',\n",
       "      'description': \"User's phone number (digits only, no spaces).\"}},\n",
       "    'required': ['first_name', 'last_name', 'phone_number'],\n",
       "    'additionalProperties': False}}}]"
      ]
     },
     "execution_count": 21,
     "metadata": {},
     "output_type": "execute_result"
    }
   ],
   "source": [
    "agent.tools"
   ]
  }
 ],
 "metadata": {
  "kernelspec": {
   "display_name": "audioagent",
   "language": "python",
   "name": "python3"
  },
  "language_info": {
   "codemirror_mode": {
    "name": "ipython",
    "version": 3
   },
   "file_extension": ".py",
   "mimetype": "text/x-python",
   "name": "python",
   "nbconvert_exporter": "python",
   "pygments_lexer": "ipython3",
   "version": "3.11.11"
  }
 },
 "nbformat": 4,
 "nbformat_minor": 5
}
