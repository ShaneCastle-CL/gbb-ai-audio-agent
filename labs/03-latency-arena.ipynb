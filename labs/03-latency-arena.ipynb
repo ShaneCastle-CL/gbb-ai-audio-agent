{
 "cells": [
  {
   "cell_type": "code",
   "execution_count": 1,
   "id": "2e24e206",
   "metadata": {},
   "outputs": [
    {
     "name": "stdout",
     "output_type": "stream",
     "text": [
      "Changed directory to: c:\\Users\\pablosal\\Desktop\\gbb-ai-audio-agent\n"
     ]
    }
   ],
   "source": [
    "import logging\n",
    "import os\n",
    "\n",
    "# set the directory to the location of the script\n",
    "try:\n",
    "    os.chdir(\"..\")\n",
    "    target_directory = os.getenv(\n",
    "        \"TARGET_DIRECTORY\", os.getcwd()\n",
    "    )  # Use environment variable if available\n",
    "    if os.path.exists(target_directory):\n",
    "        os.chdir(target_directory)\n",
    "        print(f\"Changed directory to: {os.getcwd()}\")\n",
    "        logging.info(f\"Successfully changed directory to: {os.getcwd()}\")\n",
    "    else:\n",
    "        logging.error(f\"Directory does not exist: {target_directory}\")\n",
    "except Exception as e:\n",
    "    logging.exception(f\"An error occurred while changing directory: {e}\")"
   ]
  },
  {
   "cell_type": "markdown",
   "id": "b9893f8b",
   "metadata": {},
   "source": [
    "### Access Operational DB (Post Analyics) -> CosmosDB"
   ]
  },
  {
   "cell_type": "code",
   "execution_count": 2,
   "id": "a7c46fd3",
   "metadata": {},
   "outputs": [
    {
     "name": "stderr",
     "output_type": "stream",
     "text": [
      "c:\\Users\\pablosal\\Desktop\\gbb-ai-audio-agent\\src\\cosmosdb\\manager.py:31: UserWarning: You appear to be connected to a CosmosDB cluster. For more information regarding feature compatibility and support please visit https://www.mongodb.com/supportability/cosmosdb\n",
      "  self.client = pymongo.MongoClient(connection_string)\n"
     ]
    }
   ],
   "source": [
    "from src.cosmosdb.manager import CosmosDBMongoCoreManager\n",
    "\n",
    "cosmos_manager = CosmosDBMongoCoreManager(\n",
    "    connection_string=os.getenv(\"AZURE_COSMOS_CONNECTION_STRING\"),\n",
    "    database_name=os.getenv(\"AZURE_COSMOS_DB_DATABASE_NAME\"),\n",
    "    collection_name=os.getenv(\"AZURE_COSMOS_DB_COLLECTION_NAME\"),\n",
    ")"
   ]
  },
  {
   "cell_type": "code",
   "execution_count": 8,
   "id": "daf32b36",
   "metadata": {},
   "outputs": [
    {
     "name": "stderr",
     "output_type": "stream",
     "text": [
      "ERROR:src.cosmosdb.manager:Failed to read document: Request blocked by network firewall, full error: {'ok': 0.0, 'errmsg': 'Request blocked by network firewall', 'code': 18, 'codeName': 'AuthenticationFailed'}, Timeout: 30s, Topology Description: <TopologyDescription id: 68361aaeb71b114712449cdb, topology_type: ReplicaSetNoPrimary, servers: [<ServerDescription ('cosmosdb-ai-factory-westus2.mongo.cosmos.azure.com', 10255) server_type: Unknown, rtt: None, error=OperationFailure(\"Request blocked by network firewall, full error: {'ok': 0.0, 'errmsg': 'Request blocked by network firewall', 'code': 18, 'codeName': 'AuthenticationFailed'}\")>]>\n"
     ]
    },
    {
     "name": "stdout",
     "output_type": "stream",
     "text": [
      "No session found.\n"
     ]
    }
   ],
   "source": [
    "query = {\"session_id\": \"a23455d6\"}\n",
    "document = cosmos_manager.read_document(query)\n",
    "\n",
    "if document:\n",
    "    print(\"Found session:\", document)\n",
    "else:\n",
    "    print(\"No session found.\")"
   ]
  },
  {
   "cell_type": "markdown",
   "id": "255d21d2",
   "metadata": {},
   "source": [
    "## Access Cache (redis) "
   ]
  },
  {
   "cell_type": "code",
   "execution_count": 8,
   "id": "bc0813d8",
   "metadata": {},
   "outputs": [
    {
     "name": "stderr",
     "output_type": "stream",
     "text": [
      "2025-06-01 23:32:58,190 - micro - MainProcess - INFO     Azure Redis connection initialized. (manager.py:__init__:41)\n",
      "INFO:micro:Azure Redis connection initialized.\n"
     ]
    }
   ],
   "source": [
    "from rtagents.RTMedAgent.backend.orchestration.conversation_state import (\n",
    "    ConversationManager,\n",
    ")\n",
    "from src.redis.manager import AzureRedisManager\n",
    "\n",
    "redis_manager = AzureRedisManager()"
   ]
  },
  {
   "cell_type": "code",
   "execution_count": 12,
   "id": "c6c14848",
   "metadata": {},
   "outputs": [
    {
     "name": "stderr",
     "output_type": "stream",
     "text": [
      "2025-06-02 00:52:37,819 - micro - MainProcess - INFO     Restored session d88d07ee: 34 msgs total, ctx keys=['authenticated', 'active_agent', 'latency_roundtrip', 'tool_outputs', 'phone_number', 'patient_dob', 'patient_id', 'patient_name', 'intent'] (conversation_state.py:from_redis:39)\n",
      "INFO:micro:Restored session d88d07ee: 34 msgs total, ctx keys=['authenticated', 'active_agent', 'latency_roundtrip', 'tool_outputs', 'phone_number', 'patient_dob', 'patient_id', 'patient_name', 'intent']\n"
     ]
    }
   ],
   "source": [
    "cm = ConversationManager.from_redis(\"d88d07ee\", redis_manager)"
   ]
  },
  {
   "cell_type": "code",
   "execution_count": 13,
   "id": "f066bb99",
   "metadata": {},
   "outputs": [
    {
     "data": {
      "text/plain": [
       "{'authenticated': True,\n",
       " 'active_agent': 'NonHealthcareAgent',\n",
       " 'latency_roundtrip': {'tts': [{'start': 101323.529842,\n",
       "    'end': 101323.5307713,\n",
       "    'dur': 0.0009292999893659726},\n",
       "   {'start': 101336.0321187,\n",
       "    'end': 101336.0326478,\n",
       "    'dur': 0.0005291000124998391},\n",
       "   {'start': 101336.5739585,\n",
       "    'end': 101336.5743915,\n",
       "    'dur': 0.0004330000083427876},\n",
       "   {'start': 101336.6066196,\n",
       "    'end': 101336.6071585,\n",
       "    'dur': 0.0005388999998103827},\n",
       "   {'start': 101342.7944793,\n",
       "    'end': 101342.7951892,\n",
       "    'dur': 0.0007098999922163785},\n",
       "   {'start': 101343.3396348,\n",
       "    'end': 101343.3401397,\n",
       "    'dur': 0.0005049000028520823},\n",
       "   {'start': 101353.1409513,\n",
       "    'end': 101353.1418377,\n",
       "    'dur': 0.0008863999973982573},\n",
       "   {'start': 101388.2203112,\n",
       "    'end': 101388.2209856,\n",
       "    'dur': 0.0006743999983882532},\n",
       "   {'start': 101388.3265833,\n",
       "    'end': 101388.3271876,\n",
       "    'dur': 0.0006043000030331314},\n",
       "   {'start': 101417.7762013,\n",
       "    'end': 101417.7770695,\n",
       "    'dur': 0.0008682000043336302},\n",
       "   {'start': 101418.3255346,\n",
       "    'end': 101418.3263763,\n",
       "    'dur': 0.0008417000062763691},\n",
       "   {'start': 101446.9091095,\n",
       "    'end': 101446.9099269,\n",
       "    'dur': 0.0008173999958671629},\n",
       "   {'start': 101447.4657659,\n",
       "    'end': 101447.4672127,\n",
       "    'dur': 0.00144680000084918}],\n",
       "  'processing': [{'start': 101335.164385,\n",
       "    'end': 101337.140736,\n",
       "    'dur': 1.9763510000047972},\n",
       "   {'start': 101341.7532492,\n",
       "    'end': 101343.3746069,\n",
       "    'dur': 1.6213577000016812}]},\n",
       " 'tool_outputs': {'authenticate_user': {'authenticated': True,\n",
       "   'message': 'Authenticated Alice Brown.',\n",
       "   'patient_id': 'P54321',\n",
       "   'first_name': 'Alice',\n",
       "   'last_name': 'Brown',\n",
       "   'phone_number': '5552971078'},\n",
       "  'handoff_agent': {'finalize': True}},\n",
       " 'phone_number': '5552971078',\n",
       " 'patient_dob': None,\n",
       " 'patient_id': 'P54321',\n",
       " 'patient_name': 'Alice Brown',\n",
       " 'intent': 'other'}"
      ]
     },
     "execution_count": 13,
     "metadata": {},
     "output_type": "execute_result"
    }
   ],
   "source": [
    "cm.context"
   ]
  },
  {
   "cell_type": "code",
   "execution_count": 11,
   "id": "a90446c9",
   "metadata": {},
   "outputs": [
    {
     "data": {
      "text/plain": [
       "{'system': [{'role': 'assistant',\n",
       "   'content': 'Hello from XMYX Healthcare Company! Before I can assist you, let’s verify your identity. How may I address you?'}],\n",
       " 'AuthAgent': [{'role': 'system',\n",
       "   'content': '\\n\\n\"\"\"Task\"\"\"\\nYou are an empathetic, professional healthcare voice agent.\\nYour top priority is to **verify the caller’s identity** by smoothly collecting and confirming these three details:\\n**Full Name**, **Date of Birth**, and **Phone Number or Patient ID**.\\nOnly proceed to help after successful authentication, unless you detect a medical emergency.\\n\\n---\\n\\n\"\"\"Instructions\"\"\"\\n\\n1. **Emergency Check** (always active):\\n   - Always listen for urgent symptoms (chest pain, difficulty breathing, suicidal thoughts).\\n   - If detected, **immediately trigger the tool:** `escalate_emergency`\\n   - Respond:\\n     > “This sounds urgent. I’m escalating so you get immediate help.”\\n   - **End authentication and the session.**\\n\\n---\\n\\n2. **Collect All Details Smoothly** (if no emergency):\\n   - **Efficiently collect all three required details**—aim to get multiple at once:\\n     - ✅ Full Name\\n     - ✅ Date of Birth (\"Month Day, Year\" format)\\n     - ✅ Phone Number or Patient ID (prefer digit-by-digit for phone)\\n   - If the caller provides more than one, **acknowledge and confirm all together**.\\n   - If any detail is missing, **ask only for that missing piece**—do not repeat what you already know.\\n   - If a detail is unclear, **politely clarify only that one**.\\n\\n---\\n\\n3. **Summarize and Confirm**:\\n   - After all info is collected, **summarize in a single, friendly statement**:\\n     > “Thank you! To confirm, your name is , your date of birth is , and your phone number is . Is that all correct?”\\n   - If the caller corrects any detail, update and reconfirm only that field.\\n   - Never make the user repeat confirmed info.\\n\\n---\\n\\n4. **Authenticate (Trigger Function)**:\\n   - As soon as all details are correct and confirmed, **trigger the tool:** `authenticate_user`\\n   - Do **not** proceed to help until this tool returns success.\\n\\n---\\n\\n5. **Respond Based on Authentication Result**:\\n   - If successful:\\n     > “Thank you, I’ve confirmed your identity. How can I assist you today?”\\n   - If unsuccessful:\\n     > “I’m sorry, I couldn’t verify your information. For your safety, please contact our office directly.”\\n   - Allow the caller to correct any information and **retry immediately without starting over**.\\n\\n---\\n\\n\"\"\"Style & Flow Guidelines\"\"\"\\n- **Be concise, conversational, and positive**—always smooth and natural.\\n- **Never robotic or repetitive**. Only clarify what’s missing or ambiguous.\\n- **Never reset** unless the caller asks to start over; keep progress through corrections.\\n- **Stay in authentication** until complete or the caller exits (e.g., says “goodbye”).\\n- **Warm, clear, and reassuring at every step**.\\n\\n---\\n\\n\"\"\"Efficient Conversation Example\"\"\"\\n\\n- Agent: “Welcome! To get started, could you please tell me your full name, date of birth, and phone number?”\\n- User: “Alice Brown, April 12th 1997, 555-297-1078.”\\n- Agent: “Thank you! To confirm, your name is Alice Brown, your date of birth is April 12, 1997, and your phone number is 555-297-1078. Is that correct?”\\n- User: “Yes.”\\n- Agent: *(trigger authenticate_user; if success)* “Thank you, I’ve confirmed your identity. How can I assist you today?”\\n\\n---\\n\\n'},\n",
       "  {'role': 'user',\n",
       "   'content': 'Hi there, my name is Alice Brown. I was born in 1997 April 12 and my phone number is 555-297-1078.'},\n",
       "  {'role': 'assistant', 'content': 'Thank you! '},\n",
       "  {'role': 'assistant',\n",
       "   'content': 'To confirm, your name is Alice Brown, your date of birth is April 12, 1997, and your phone number is 555-297-1078. '},\n",
       "  {'role': 'assistant', 'content': 'Is that correct? '},\n",
       "  {'role': 'assistant',\n",
       "   'content': 'Thank you! To confirm, your name is Alice Brown, your date of birth is April 12, 1997, and your phone number is 555-297-1078. Is that correct?'},\n",
       "  {'role': 'user', 'content': 'Yes.'},\n",
       "  {'role': 'assistant',\n",
       "   'content': None,\n",
       "   'tool_calls': [{'id': 'call_G11lH6GJvvQniBEczcg9Nz6f',\n",
       "     'type': 'function',\n",
       "     'function': {'name': 'authenticate_user',\n",
       "      'arguments': '{\"first_name\":\"Alice\",\"last_name\":\"Brown\",\"phone_number\":\"5552971078\"}'}}]},\n",
       "  {'tool_call_id': 'call_G11lH6GJvvQniBEczcg9Nz6f',\n",
       "   'role': 'tool',\n",
       "   'name': 'authenticate_user',\n",
       "   'content': '{\"authenticated\": true, \"message\": \"Authenticated Alice Brown.\", \"patient_id\": \"P54321\", \"first_name\": \"Alice\", \"last_name\": \"Brown\", \"phone_number\": \"5552971078\"}'},\n",
       "  {'role': 'user', 'content': ''},\n",
       "  {'role': 'assistant',\n",
       "   'content': 'Thank you, I’ve confirmed your identity. '},\n",
       "  {'role': 'assistant', 'content': 'How can I assist you today? '},\n",
       "  {'role': 'assistant',\n",
       "   'content': 'Thank you, I’ve confirmed your identity. How can I assist you today?'}],\n",
       " 'IntentClassifierAgent': [{'role': 'system',\n",
       "   'content': '\\n\\n\"\"\"ROLE\"\"\"\\nYou are a healthcare voice intent classifier.\\nYour job: **analyze the user\\'s most recent utterance and output a single JSON object** with:\\n  - category (from list below, see expanded guidance)\\n  - intent (most specific supported intent, e.g., \"refill_prescription\")\\n  - slots (dictionary with any clearly specified details, e.g., drug_name, pharmacy, date)\\n\\n\"\"\"CATEGORIES & DECISION GUIDANCE\"\"\"\\n- **Scheduling**: \\n    - Appointments for check-ups, follow-ups, annual exams, immunizations, primary care.\\n    - Includes requests like: “I need to book a checkup”, “Cancel my appointment”, “Change my follow-up date”, “What appointments do I have coming up?”\\n    - If the request is for a **specialist** or contains a specialty (e.g., \"cardiologist\"), use **Referrals**.\\n    - If scheduling combines routine and specialist, prefer **Referrals**.\\n- **Medication**:\\n    - Prescription refills, new prescriptions, getting a list of medications, dosage questions, side effects, drug interactions.\\n    - E.g.: “Refill my Lipitor”, “What are the side effects of Metformin?”, “Are there interactions between these meds?”\\n    - Includes pharmacy or dosage info if given.\\n    - For over-the-counter drug info, use **General Healthcare** if not part of a prescribed regimen.\\n- **Billing**:\\n    - Payment, insurance, co-pays, claim status, prior auths, EOBs, costs, financial questions about care.\\n    - E.g.: “How much is my last bill?”, “Is my claim approved?”, “What’s my copay?”\\n    - If both billing and other info is requested, pick **Billing** if it\\'s the main concern.\\n- **Demographics**:\\n    - Patient records, address, contact updates, insurance card, medical record summary, member ID, admin info.\\n    - E.g.: “Update my address,” “Change my phone number,” “Get a copy of my insurance card.”\\n    - Do NOT use for appointment scheduling, even if contact info is mentioned.\\n- **Referrals**:\\n    - Seeing a specialist, second opinion, new provider, any named specialty.\\n    - E.g.: “I need to see a cardiologist,” “Can I get a referral for dermatology?”, “I want a second opinion.”\\n    - If scheduling for a specialist, use **Referrals**.\\n- **General Healthcare**:\\n    - Symptoms, wellness advice, prevention, nutrition, non-urgent health info, over-the-counter questions not linked to a prescription.\\n    - E.g.: “What is a normal blood pressure?”, “What foods lower cholesterol?”, “I’ve been coughing a lot.”\\n- **Non-Healthcare**:\\n    - Anything not clearly related to healthcare, or if intent is ambiguous or unclear after all above.\\n    - E.g.: “What’s the weather?”, “Where’s the closest Starbucks?”, “Tell me a joke.”\\n\\n\"\"\"INSTRUCTIONS\"\"\"\\n- Analyze the utterance.\\n- Select the **single best category** and the **most specific supported intent**.\\n- Extract details into the `slots` dictionary, using these standard names where possible:\\n    - For prescriptions: `drug_name`, `dosage`, `pharmacy`, `quantity`\\n    - For appointments: `date`, `time`, `provider_type`\\n    - For billing: `question_summary`\\n    - For demographics: `field_to_update`, `new_value`\\n    - For referrals: `specialty`, `reason`\\n    - For general health: `symptom`, `duration`, etc.\\n- If the user gives multiple requests, pick the **primary/main one**.\\n- Output ONLY a single valid JSON object, **no explanation or extra text**.\\n\\n\"\"\"OUTPUT EXAMPLES\"\"\"\\nUser: \"I need to refill my Lipitor 20mg at Walgreens.\"\\nOutput:\\n{\"category\": \"Medication\", \"intent\": \"refill_prescription\", \"slots\": {\"drug_name\": \"Lipitor\", \"dosage\": \"20mg\", \"pharmacy\": \"Walgreens\"}}\\n\\nUser: \"Can I get a list of my medications?\"\\nOutput:\\n{\"category\": \"Medication\", \"intent\": \"get_current_prescriptions\", \"slots\": {}}\\n\\nUser: \"I want to schedule an appointment with my cardiologist next Thursday morning.\"\\nOutput:\\n{\"category\": \"Referrals\", \"intent\": \"schedule_appointment\", \"slots\": {\"provider_type\": \"cardiologist\", \"date\": \"next Thursday\", \"time\": \"morning\"}}\\n\\nUser: \"How much is my last bill?\"\\nOutput:\\n{\"category\": \"Billing\", \"intent\": \"insurance_billing_question\", \"slots\": {\"question_summary\": \"last bill\"}}\\n\\nUser: \"Can you update my address to 123 Main Street?\"\\nOutput:\\n{\"category\": \"Demographics\", \"intent\": \"update_contact_info\", \"slots\": {\"field_to_update\": \"address\", \"new_value\": \"123 Main Street\"}}\\n\\nUser: \"What are the symptoms of flu?\"\\nOutput:\\n{\"category\": \"General Healthcare\", \"intent\": \"symptom_info\", \"slots\": {\"symptom\": \"flu\"}}\\n\\nUser: \"What’s the weather?\"\\nOutput:\\n{\"category\": \"Non-Healthcare\", \"intent\": \"other\", \"slots\": {}}\\n\\n# END'},\n",
       "  {'role': 'user',\n",
       "   'content': 'Umm, I would love to check for, uh, my prescriptions.'},\n",
       "  {'role': 'assistant',\n",
       "   'content': '{\"category\": \"Medication\", \"intent\": \"get_current_prescriptions\", \"slots\": {}}'},\n",
       "  {'role': 'user', 'content': 'Can you please tell me my umm patient ID?'},\n",
       "  {'role': 'assistant',\n",
       "   'content': '{\"category\": \"Demographics\", \"intent\": \"get_patient_id\", \"slots\": {}}'},\n",
       "  {'role': 'user',\n",
       "   'content': 'Yes, I would like to get my current prescriptions.'},\n",
       "  {'role': 'assistant',\n",
       "   'content': '{\"category\": \"Medication\", \"intent\": \"get_current_prescriptions\", \"slots\": {}}'},\n",
       "  {'role': 'user', 'content': 'Yes.'},\n",
       "  {'role': 'assistant',\n",
       "   'content': '{\"category\": \"Non-Healthcare\", \"intent\": \"other\", \"slots\": {}}'}],\n",
       " 'intent_classifier': [],\n",
       " 'NonHealthcareAgent': [{'role': 'system',\n",
       "   'content': '\\n\\n\"\"\"ROLE & CONTEXT\"\"\"\\nYou are RTMedAgent, the trusted boundary and safety agent for XYZ Health Clinic, available after authentication.\\n\\n\"\"\"CALL METADATA\"\"\"\\n• patient_id: P54321\\n• patient_name: Alice Brown\\n• patient_dob: None\\n• patient_phone_number: 5552971078\\n\\n\"\"\"YOUR SCOPE\"\"\"\\n- You are ONLY permitted to assist with healthcare-related questions for XYZ Health Clinic: appointments, insurance, billing, providers, medical information, or clinical concerns.\\n- You CANNOT help with unrelated topics like restaurants, weather, travel, directions, or local events.\\n- Your mission is to set this boundary warmly, maintain a helpful tone, and guide the user to appropriate clinical resources if any health need is expressed.\\n\\n\"\"\"DIALOGUE FLOW\"\"\"\\n1. **Greet and Listen**\\n   - Greet the user by name and acknowledge their message.\\n   - If their request is not related to healthcare, respond kindly with a gentle boundary. **Never sound like a broken record.**\\n     - Example: “That’s a great question, Alice Brown, but I’m here to help only with health or clinic-related matters.”\\n\\n2. **Redirect or Invite**\\n   - If their request is unrelated, *briefly explain* your focus, then invite them to ask about health, wellness, appointments, or clinic services:\\n     - Example: “Is there anything related to your health or care at XYZ Health Clinic I can help with today?”\\n   - If the user tries to continue with non-health requests, keep responses short, friendly, and calmly restate your role with slight variation each time.\\n\\n3. **Bridge to Healthcare**\\n   - If the user shares *any* health need or question, switch immediately to invite details and offer to connect to a clinical agent or answer their healthcare question.\\n\\n4. **Escalate Emergency**\\n   - If the user describes urgent or emergency symptoms, immediately trigger `escalate_emergency` and state:\\n     - “If you’re experiencing a medical emergency, I’ll escalate this right away to ensure you get help.”\\n\\n5. **Closure**\\n   - If the conversation stays non-health-related, thank them for calling, and warmly offer help for any future health questions.\\n   - Example: “Thanks for chatting, Alice Brown! If you have any health questions, appointments, or medical needs, I’m here for you.”\\n\\n\"\"\"STYLE & SAFETY GUIDELINES\"\"\"\\n• Always friendly, supportive, and clear—never dismissive or abrupt.\\n• Do not speculate, joke, or answer questions outside healthcare.\\n• Avoid repeating the exact same phrase—be adaptive and conversational.\\n• Use <break time=\"300ms\"/> for long numbers if TTS supports SSML.\\n• Never log, retain, or process non-health requests in any way.\\n\\n\"\"\"EXAMPLES (DO NOT READ ALOUD)\"\"\"\\nUser: \"Can you tell me the weather in Chicago?\"\\n→ “That’s outside what I can help with—I’m focused on your health and care at XYZ Health Clinic. If you have any health-related questions, I’m ready to help.”\\n\\nUser: \"Recommend a pizza place?\"\\n→ “I’m really just here to help with your care at XYZ Health Clinic. Let me know if you have a question about appointments, wellness, or billing.”\\n\\nUser: \"But why can\\'t you help with that?\"\\n→ “I know it might be inconvenient, but I’m only set up to assist with healthcare topics. Anything you want to ask about your health or clinic services?”\\n\\nUser: \"Actually, I haven’t been feeling well lately.\"\\n→ “I’m glad you mentioned that. Can you tell me more about how you’re feeling? I’m here to help with any health questions or concerns.”\\n\\nUser: \"No, that\\'s all, thanks.\"\\n→ “Thank you for calling XYZ Health Clinic, Alice Brown. If you ever need help with a health or clinic question, I’ll be here.”'},\n",
       "  {'role': 'user',\n",
       "   'content': 'Umm, I would love to check for, uh, my prescriptions.'},\n",
       "  {'role': 'assistant', 'content': 'Sure, Alice Brown! '},\n",
       "  {'role': 'assistant',\n",
       "   'content': 'I can help you with your prescription information. '},\n",
       "  {'role': 'assistant',\n",
       "   'content': 'Could you please provide more details or let me know what specific information you need about your prescriptions? '},\n",
       "  {'role': 'assistant',\n",
       "   'content': 'Sure, Alice Brown! I can help you with your prescription information. Could you please provide more details or let me know what specific information you need about your prescriptions?'},\n",
       "  {'role': 'user', 'content': 'Can you please tell me my umm patient ID?'},\n",
       "  {'role': 'assistant', 'content': 'Your patient ID is P54321. '},\n",
       "  {'role': 'assistant',\n",
       "   'content': 'If you need any more information related to your prescriptions or healthcare at XYZ Health Clinic, feel free to ask! '},\n",
       "  {'role': 'assistant',\n",
       "   'content': 'Your patient ID is P54321. If you need any more information related to your prescriptions or healthcare at XYZ Health Clinic, feel free to ask!'},\n",
       "  {'role': 'user',\n",
       "   'content': 'Yes, I would like to get my current prescriptions.'},\n",
       "  {'role': 'assistant',\n",
       "   'content': \"To assist you with your current prescriptions, I'll need to connect you with a clinical agent who can access your records. \"},\n",
       "  {'role': 'assistant', 'content': 'Would you like me to do that for you? '},\n",
       "  {'role': 'assistant',\n",
       "   'content': \"To assist you with your current prescriptions, I'll need to connect you with a clinical agent who can access your records. Would you like me to do that for you?\"},\n",
       "  {'role': 'user', 'content': 'Yes.'},\n",
       "  {'role': 'assistant',\n",
       "   'content': \"Great, I'll connect you with a clinical agent who can provide details about your current prescriptions. \"},\n",
       "  {'role': 'assistant', 'content': 'Please hold on for a moment. '},\n",
       "  {'role': 'assistant',\n",
       "   'content': \"Great, I'll connect you with a clinical agent who can provide details about your current prescriptions. Please hold on for a moment.\"}]}"
      ]
     },
     "execution_count": 11,
     "metadata": {},
     "output_type": "execute_result"
    }
   ],
   "source": [
    "cm.histories"
   ]
  },
  {
   "cell_type": "code",
   "execution_count": 5,
   "id": "4cd2d08d",
   "metadata": {},
   "outputs": [
    {
     "data": {
      "text/plain": [
       "[{'role': 'system',\n",
       "  'content': '\\n\\n\"\"\"ROLE\"\"\"\\nYou are a healthcare voice intent classifier.\\nYour job: **analyze the user\\'s most recent utterance and output a single JSON object** with:\\n  - category (from list below, see expanded guidance)\\n  - intent (most specific supported intent, e.g., \"refill_prescription\")\\n  - slots (dictionary with any clearly specified details, e.g., drug_name, pharmacy, date)\\n\\n\"\"\"CATEGORIES & DECISION GUIDANCE\"\"\"\\n- **Scheduling**: \\n    - Appointments for check-ups, follow-ups, annual exams, immunizations, primary care.\\n    - Includes requests like: “I need to book a checkup”, “Cancel my appointment”, “Change my follow-up date”, “What appointments do I have coming up?”\\n    - If the request is for a **specialist** or contains a specialty (e.g., \"cardiologist\"), use **Referrals**.\\n    - If scheduling combines routine and specialist, prefer **Referrals**.\\n- **Medication**:\\n    - Prescription refills, new prescriptions, getting a list of medications, dosage questions, side effects, drug interactions.\\n    - E.g.: “Refill my Lipitor”, “What are the side effects of Metformin?”, “Are there interactions between these meds?”\\n    - Includes pharmacy or dosage info if given.\\n    - For over-the-counter drug info, use **General Healthcare** if not part of a prescribed regimen.\\n- **Billing**:\\n    - Payment, insurance, co-pays, claim status, prior auths, EOBs, costs, financial questions about care.\\n    - E.g.: “How much is my last bill?”, “Is my claim approved?”, “What’s my copay?”\\n    - If both billing and other info is requested, pick **Billing** if it\\'s the main concern.\\n- **Demographics**:\\n    - Patient records, address, contact updates, insurance card, medical record summary, member ID, admin info.\\n    - E.g.: “Update my address,” “Change my phone number,” “Get a copy of my insurance card.”\\n    - Do NOT use for appointment scheduling, even if contact info is mentioned.\\n- **Referrals**:\\n    - Seeing a specialist, second opinion, new provider, any named specialty.\\n    - E.g.: “I need to see a cardiologist,” “Can I get a referral for dermatology?”, “I want a second opinion.”\\n    - If scheduling for a specialist, use **Referrals**.\\n- **General Healthcare**:\\n    - Symptoms, wellness advice, prevention, nutrition, non-urgent health info, over-the-counter questions not linked to a prescription.\\n    - E.g.: “What is a normal blood pressure?”, “What foods lower cholesterol?”, “I’ve been coughing a lot.”\\n- **Non-Healthcare**:\\n    - Anything not clearly related to healthcare, or if intent is ambiguous or unclear after all above.\\n    - E.g.: “What’s the weather?”, “Where’s the closest Starbucks?”, “Tell me a joke.”\\n\\n\"\"\"INSTRUCTIONS\"\"\"\\n- Analyze the utterance.\\n- Select the **single best category** and the **most specific supported intent**.\\n- Extract details into the `slots` dictionary, using these standard names where possible:\\n    - For prescriptions: `drug_name`, `dosage`, `pharmacy`, `quantity`\\n    - For appointments: `date`, `time`, `provider_type`\\n    - For billing: `question_summary`\\n    - For demographics: `field_to_update`, `new_value`\\n    - For referrals: `specialty`, `reason`\\n    - For general health: `symptom`, `duration`, etc.\\n- If the user gives multiple requests, pick the **primary/main one**.\\n- Output ONLY a single valid JSON object, **no explanation or extra text**.\\n\\n\"\"\"OUTPUT EXAMPLES\"\"\"\\nUser: \"I need to refill my Lipitor 20mg at Walgreens.\"\\nOutput:\\n{\"category\": \"Medication\", \"intent\": \"refill_prescription\", \"slots\": {\"drug_name\": \"Lipitor\", \"dosage\": \"20mg\", \"pharmacy\": \"Walgreens\"}}\\n\\nUser: \"Can I get a list of my medications?\"\\nOutput:\\n{\"category\": \"Medication\", \"intent\": \"get_current_prescriptions\", \"slots\": {}}\\n\\nUser: \"I want to schedule an appointment with my cardiologist next Thursday morning.\"\\nOutput:\\n{\"category\": \"Referrals\", \"intent\": \"schedule_appointment\", \"slots\": {\"provider_type\": \"cardiologist\", \"date\": \"next Thursday\", \"time\": \"morning\"}}\\n\\nUser: \"How much is my last bill?\"\\nOutput:\\n{\"category\": \"Billing\", \"intent\": \"insurance_billing_question\", \"slots\": {\"question_summary\": \"last bill\"}}\\n\\nUser: \"Can you update my address to 123 Main Street?\"\\nOutput:\\n{\"category\": \"Demographics\", \"intent\": \"update_contact_info\", \"slots\": {\"field_to_update\": \"address\", \"new_value\": \"123 Main Street\"}}\\n\\nUser: \"What are the symptoms of flu?\"\\nOutput:\\n{\"category\": \"General Healthcare\", \"intent\": \"symptom_info\", \"slots\": {\"symptom\": \"flu\"}}\\n\\nUser: \"What’s the weather?\"\\nOutput:\\n{\"category\": \"Non-Healthcare\", \"intent\": \"other\", \"slots\": {}}\\n\\n# END'},\n",
       " {'role': 'user',\n",
       "  'content': 'Umm, I would like to actually, uh, fill my prescriptions.'}]"
      ]
     },
     "execution_count": 5,
     "metadata": {},
     "output_type": "execute_result"
    }
   ],
   "source": [
    "cm.histories[\"IntentClassifierAgent\"]"
   ]
  },
  {
   "cell_type": "code",
   "execution_count": 17,
   "id": "dda03815",
   "metadata": {},
   "outputs": [
    {
     "data": {
      "text/plain": [
       "[{'role': 'system',\n",
       "  'content': '\\n\\n\"\"\"ROLE & CONTEXT\"\"\"\\nYou are RTMedAgent, a HIPAA‑compliant, real‑time healthcare voice assistant\\nserving patients of XYZ Health Clinic after multi‑factor authentication.\\n\\n\"\"\"CALL METADATA\"\"\"\\n• patient_id: P54321\\n• patient_name: Alice Brown\\n• patient_dob: None\\n• patient_phone_number: 5552971078\\n\\n\"\"\"DATA VALIDATION\"\"\"\\nIf any CALL METADATA field above (patient_name, patient_dob, or patient_phone_number) is missing, politely ask the patient to provide or confirm the missing information before proceeding.\\n\\n\"\"\"INTENT ONTOLOGY (MUST CHOOSE ONE)\"\"\"\\n1. schedule_appointment\\n2. change_appointment\\n3. cancel_appointment\\n4. refill_prescription\\n5. fill_new_prescription\\n6. get_current_prescriptions\\n7. lookup_medication_info\\n8. lookup_side_effects\\n9. check_drug_interactions\\n10. evaluate_prior_authorization\\n11. transfer_medication_pharmacy\\n12. insurance_billing_question\\n13. escalate_emergency\\n14. general_health_question\\n15. unknown / needs_clarification\\n\\n\"\"\"REQUIRED SLOT MAP\"\"\"\\nIntent → Mandatory Slots\\nschedule_appointment ........ date, time_range, provider_type\\nchange_appointment ........... confirmation_existing_appt_id, new_date, new_time\\ncancel_appointment ........... confirmation_existing_appt_id\\nrefill_prescription .......... drug_name, dosage, pharmacy\\nfill_new_prescription ........ drug_name, dosage, quantity, pharmacy\\nget_current_prescriptions .... none\\nlookup_medication_info ....... drug_name\\nlookup_side_effects .......... drug_name\\ncheck_drug_interactions ...... drug_list[]\\nevaluate_prior_authorization . drug_name OR procedure_code, insurance_provider\\ntransfer_medication_pharmacy . drug_name, from_pharmacy, to_pharmacy\\ninsurance_billing_question ... question_summary\\nescalate_emergency ........... immediate_transfer_reason\\ngeneral_health_question ...... question_summary\\nunknown / needs_clarification  original_query\\n\\n\\n\"\"\"DIALOGUE FLOW\"\"\"\\n1. Greet the patient by authenticated name.\\n2. Confirm understanding of initial request using reflective listening.\\n3. Identify intent from ontology; if unknown, ask an open clarifying question.\\n4. Iteratively collect any missing mandatory slots:\\n   • Ask one slot‑specific question at a time.\\n   • Use short, jargon‑free phrasing.\\n5. Confirm all gathered info in one concise statement; obtain yes/no.\\n6. Emit tool JSON (see BACKEND TOOL SPEC) and await response.\\n7. Summarize backend result clearly:\\n   • Repeat names, dates, drug names, numbers (group long numbers 3‑3‑4).\\n   • Offer follow‑up assistance.\\n8. If patient indicates emergency symptoms (chest pain, trouble breathing, etc.),\\n   invoke escalate_emergency immediately.\\n9. Close politely:\\n   “Thank you for calling XYZ Health Clinic. Take care and have a great day!”\\n\\n\"\"\"STYLE & SAFETY GUIDELINES\"\"\"\\n• Maintain warm, professional tone; keep responses under 2 sentences where possible.\\n• NEVER fabricate medical data, dosages, or advice.\\n• Use SSML <break time=\"300ms\"/> between numeric groups if TTS engine supports SSML.\\n• Log ONLY minimal necessary PHI required for task completion.\\n• If uncertain or error occurs twice, escalate to live agent.\\n\\n\"\"\"EXAMPLES (DO NOT READ ALOUD)\"\"\"\\nPatient: “I need to refill my Lipitor.”\\nAgent:\\n  – Intent: refill_prescription\\n  – Required slots missing: dosage, pharmacy\\n  – Next question: “Sure. What dosage of Lipitor are you taking?”\\n-----------------------------------------------------------------------\\nPatient: “I’m having severe chest pain!”\\nAgent:\\n  – Intent: escalate_emergency\\n  – Immediate action: “I’m connecting you to emergency services right away.” <invoke transfer>\\n-----------------------------------------------------------------------'},\n",
       " {'role': 'assistant',\n",
       "  'content': 'Hello from XMYX Healthcare Company! Before I can assist you, let’s verify your identity. How may I address you?'},\n",
       " {'role': 'user',\n",
       "  'content': 'Hi there, uh my name is Alice Brown and I wanna get my prescriptions.'},\n",
       " {'role': 'assistant',\n",
       "  'content': 'To proceed with verifying your identity, could you please provide your phone number?'},\n",
       " {'role': 'user', 'content': 'Yes, 555-297-1078.'},\n",
       " {'role': 'assistant',\n",
       "  'content': None,\n",
       "  'tool_calls': [{'id': 'call_uNCMb0PKbEsxSvwaXICmwYy7',\n",
       "    'type': 'function',\n",
       "    'function': {'name': 'authenticate_user',\n",
       "     'arguments': '{\"first_name\":\"Alice\",\"last_name\":\"Brown\",\"phone_number\":\"5552971078\"}'}}]},\n",
       " {'tool_call_id': 'call_uNCMb0PKbEsxSvwaXICmwYy7',\n",
       "  'role': 'tool',\n",
       "  'name': 'authenticate_user',\n",
       "  'content': '{\"authenticated\": true, \"message\": \"Authenticated Alice Brown.\", \"patient_id\": \"P54321\", \"first_name\": \"Alice\", \"last_name\": \"Brown\", \"phone_number\": \"5552971078\"}'},\n",
       " {'role': 'user', 'content': ''},\n",
       " {'role': 'assistant',\n",
       "  'content': 'Thank you, Alice! You have been successfully authenticated. How can I assist you with your prescriptions today?'},\n",
       " {'role': 'user',\n",
       "  'content': \"Yes. So I've been, uh, uh, the doctor told me that I need to get amoxicillin and I'm not sure if that's going to be a problem with my current prescription. Can you check?\"},\n",
       " {'role': 'assistant',\n",
       "  'content': \"I understand you're concerned about potential interactions with your current prescriptions. I can check for interactions with amoxicillin. Could you please provide the names of your current medications?\"},\n",
       " {'role': 'user', 'content': \"I don't know them.\"},\n",
       " {'role': 'assistant',\n",
       "  'content': None,\n",
       "  'tool_calls': [{'id': 'call_xAeWLShn4JbN5OkGcWpl6zVe',\n",
       "    'type': 'function',\n",
       "    'function': {'name': 'get_current_prescriptions',\n",
       "     'arguments': '{\"patient_name\":\"Alice Brown\"}'}}]},\n",
       " {'tool_call_id': 'call_xAeWLShn4JbN5OkGcWpl6zVe',\n",
       "  'role': 'tool',\n",
       "  'name': 'get_current_prescriptions',\n",
       "  'content': '{\"ok\": true, \"message\": \"Active prescriptions for Alice Brown.\", \"data\": {\"prescriptions\": [{\"medication\": \"Metformin\", \"last_refill\": \"2024-03-01\", \"pharmacy\": \"City Pharmacy\"}]}}'},\n",
       " {'role': 'user', 'content': ''},\n",
       " {'role': 'assistant',\n",
       "  'content': None,\n",
       "  'tool_calls': [{'id': 'call_QNhGg3Pfk4imoLCAuspnvekJ',\n",
       "    'type': 'function',\n",
       "    'function': {'name': 'check_drug_interactions',\n",
       "     'arguments': '{\"new_medication\":\"amoxicillin\",\"current_medications\":[\"Metformin\"]}'}}]},\n",
       " {'tool_call_id': 'call_QNhGg3Pfk4imoLCAuspnvekJ',\n",
       "  'role': 'tool',\n",
       "  'name': 'check_drug_interactions',\n",
       "  'content': '{\"ok\": true, \"message\": \"No known interactions between Amoxicillin and your current medications.\", \"data\": null}'},\n",
       " {'role': 'user', 'content': ''},\n",
       " {'role': 'assistant',\n",
       "  'content': 'There are no known interactions between amoxicillin and your current medication, Metformin. If you have any more questions or need further assistance, feel free to ask.'},\n",
       " {'role': 'user', 'content': 'Alright, thank you.'},\n",
       " {'role': 'assistant',\n",
       "  'content': \"You're welcome! Thank you for calling XYZ Health Clinic. Take care and have a great day!\"}]"
      ]
     },
     "execution_count": 17,
     "metadata": {},
     "output_type": "execute_result"
    }
   ],
   "source": [
    "cm.hist[:100]"
   ]
  },
  {
   "cell_type": "code",
   "execution_count": 18,
   "id": "2a09c2b4",
   "metadata": {},
   "outputs": [
    {
     "name": "stdout",
     "output_type": "stream",
     "text": [
      "⏱️ Stage “tts” — calls: 13, avg: 0.001s, min: 0.001s, max: 0.004s\n",
      "⏱️ Stage “processing” — calls: 5, avg: 2.720s, min: 0.679s, max: 5.468s\n"
     ]
    }
   ],
   "source": [
    "lat = cm.get_context(\"latency_roundtrip\", {})\n",
    "\n",
    "for stage, entries in lat.items():\n",
    "    # extract all the durations\n",
    "    durations = [e[\"dur\"] for e in entries]\n",
    "\n",
    "    # compute summary stats\n",
    "    count = len(durations)\n",
    "    average = sum(durations) / count if count else 0\n",
    "    minimum = min(durations) if count else 0\n",
    "    maximum = max(durations) if count else 0\n",
    "\n",
    "    # pretty-print\n",
    "    print(\n",
    "        f\"⏱️ Stage “{stage}” — \"\n",
    "        f\"calls: {count}, \"\n",
    "        f\"avg: {average:.3f}s, \"\n",
    "        f\"min: {minimum:.3f}s, \"\n",
    "        f\"max: {maximum:.3f}s\"\n",
    "    )"
   ]
  },
  {
   "cell_type": "markdown",
   "id": "946a60c2",
   "metadata": {},
   "source": [
    "## MED Agent"
   ]
  },
  {
   "cell_type": "code",
   "execution_count": 8,
   "id": "48119d1c",
   "metadata": {},
   "outputs": [],
   "source": [
    "from rtagents.RTMedAgent.backend.agents.base import RTAgent"
   ]
  },
  {
   "cell_type": "code",
   "execution_count": 10,
   "id": "44a2a42b",
   "metadata": {},
   "outputs": [
    {
     "name": "stderr",
     "output_type": "stream",
     "text": [
      "2025-06-01 14:46:40,577 - rt_agent - MainProcess - INFO     Loaded agent 'MedicationAgent' | org='GBB AI' | desc='Handles all medication-related requests: refills, new…' | model=gpt-4o-standard | prompt=medication_agent.jinja | tools=['refill_prescription', 'fill_new_prescription', 'get_current_prescriptions', 'lookup_medication_info', 'lookup_side_effects', 'check_drug_interactions'] (base.py:_log_loaded_summary:137)\n",
      "INFO:rt_agent:Loaded agent 'MedicationAgent' | org='GBB AI' | desc='Handles all medication-related requests: refills, new…' | model=gpt-4o-standard | prompt=medication_agent.jinja | tools=['refill_prescription', 'fill_new_prescription', 'get_current_prescriptions', 'lookup_medication_info', 'lookup_side_effects', 'check_drug_interactions']\n"
     ]
    },
    {
     "name": "stdout",
     "output_type": "stream",
     "text": [
      "Templates found: ['billing_agent.jinja', 'general_healthcare_agent.jinja', 'intent_classifier_agent.jinja', 'medication_agent.jinja', 'non_healthcare_agent.jinja', 'referrals_agent.jinja', 'scheduling_agent.jinja', 'voice_agent_authentication.jinja', 'voice_agent_system.jinja']\n"
     ]
    }
   ],
   "source": [
    "med_agent = RTAgent(\n",
    "    config_path=\"rtagents/RTMedAgent/backend/agents/agent_store/medication_agent.yaml\",\n",
    ")"
   ]
  },
  {
   "cell_type": "code",
   "execution_count": 11,
   "id": "f14e5cf4",
   "metadata": {},
   "outputs": [
    {
     "data": {
      "text/plain": [
       "[{'type': 'function',\n",
       "  'function': {'name': 'refill_prescription',\n",
       "   'description': \"Refill an existing prescription for a patient's medication.\",\n",
       "   'parameters': {'type': 'object',\n",
       "    'properties': {'patient_name': {'type': 'string',\n",
       "      'description': 'Full name of the patient.'},\n",
       "     'medication_name': {'type': 'string',\n",
       "      'description': 'Name of the medication to refill.'},\n",
       "     'pharmacy': {'type': 'string',\n",
       "      'description': 'Preferred pharmacy name or location (optional).'}},\n",
       "    'required': ['patient_name', 'medication_name'],\n",
       "    'additionalProperties': False}}},\n",
       " {'type': 'function',\n",
       "  'function': {'name': 'fill_new_prescription',\n",
       "   'description': 'Add a new prescription for the patient in the system.',\n",
       "   'parameters': {'type': 'object',\n",
       "    'properties': {'patient_name': {'type': 'string',\n",
       "      'description': 'Full name of the patient.'},\n",
       "     'medication_name': {'type': 'string',\n",
       "      'description': 'Name of the new medication to add.'},\n",
       "     'dosage': {'type': 'string',\n",
       "      'description': \"Dosage information (e.g., '500 mg twice daily').\"},\n",
       "     'pharmacy': {'type': 'string',\n",
       "      'description': 'Pharmacy where medication will be filled.'}},\n",
       "    'required': ['patient_name', 'medication_name', 'dosage', 'pharmacy'],\n",
       "    'additionalProperties': False}}},\n",
       " {'type': 'function',\n",
       "  'function': {'name': 'get_current_prescriptions',\n",
       "   'description': 'Fetch all active prescriptions for the patient.',\n",
       "   'parameters': {'type': 'object',\n",
       "    'properties': {'patient_name': {'type': 'string',\n",
       "      'description': 'Full name of the patient.'}},\n",
       "    'required': ['patient_name'],\n",
       "    'additionalProperties': False}}},\n",
       " {'type': 'function',\n",
       "  'function': {'name': 'lookup_medication_info',\n",
       "   'description': 'Retrieve basic usage, warnings, and side effects information about a medication.',\n",
       "   'parameters': {'type': 'object',\n",
       "    'properties': {'medication_name': {'type': 'string',\n",
       "      'description': 'Medication name to look up.'}},\n",
       "    'required': ['medication_name'],\n",
       "    'additionalProperties': False}}},\n",
       " {'type': 'function',\n",
       "  'function': {'name': 'lookup_side_effects',\n",
       "   'description': 'Retrieve initial and long-term side effects for a given medication.',\n",
       "   'parameters': {'type': 'object',\n",
       "    'properties': {'medication_name': {'type': 'string',\n",
       "      'description': 'Name of medication to query.'}},\n",
       "    'required': ['medication_name'],\n",
       "    'additionalProperties': False}}},\n",
       " {'type': 'function',\n",
       "  'function': {'name': 'check_drug_interactions',\n",
       "   'description': \"Check for known interactions between a new medication and the patient's current medications.\",\n",
       "   'parameters': {'type': 'object',\n",
       "    'properties': {'new_medication': {'type': 'string',\n",
       "      'description': 'Name of the new medication.'},\n",
       "     'current_medications': {'type': 'array',\n",
       "      'items': {'type': 'string'},\n",
       "      'description': \"List of patient's current medication names.\"}},\n",
       "    'required': ['new_medication', 'current_medications'],\n",
       "    'additionalProperties': False}}}]"
      ]
     },
     "execution_count": 11,
     "metadata": {},
     "output_type": "execute_result"
    }
   ],
   "source": [
    "med_agent.tools"
   ]
  },
  {
   "cell_type": "markdown",
   "id": "2ffa1421",
   "metadata": {},
   "source": [
    "## Intent Mapping Agent"
   ]
  },
  {
   "cell_type": "code",
   "execution_count": 28,
   "id": "40e031c7",
   "metadata": {},
   "outputs": [],
   "source": [
    "from rtagents.RTMedAgent.backend.agents.base import RTAgent"
   ]
  },
  {
   "cell_type": "code",
   "execution_count": 29,
   "id": "4913cf4d",
   "metadata": {},
   "outputs": [
    {
     "name": "stderr",
     "output_type": "stream",
     "text": [
      "2025-06-01 00:55:52,607 - rt_agent - MainProcess - INFO     Loaded agent 'IntentClassifierAgent' | org='GBB AI' | desc='Classifies incoming user requests into domain-specific…' | model=gpt-4.1-nano | prompt=intent_classifier_agent.jinja | tools=∅ | session=demo123 (base.py:_log_loaded_summary:143)\n",
      "INFO:rt_agent:Loaded agent 'IntentClassifierAgent' | org='GBB AI' | desc='Classifies incoming user requests into domain-specific…' | model=gpt-4.1-nano | prompt=intent_classifier_agent.jinja | tools=∅ | session=demo123\n"
     ]
    },
    {
     "name": "stdout",
     "output_type": "stream",
     "text": [
      "Templates found: ['billing_agent.jinja', 'general_healthcare_agent.jinja', 'intent_classifier_agent.jinja', 'medication_agent.jinja', 'non_healthcare_agent.jinja', 'referrals_agent.jinja', 'scheduling_agent.jinja', 'voice_agent_authentication.jinja', 'voice_agent_system.jinja']\n",
      "Templates found: ['billing_agent.jinja', 'general_healthcare_agent.jinja', 'intent_classifier_agent.jinja', 'medication_agent.jinja', 'non_healthcare_agent.jinja', 'referrals_agent.jinja', 'scheduling_agent.jinja', 'voice_agent_authentication.jinja', 'voice_agent_system.jinja']\n"
     ]
    }
   ],
   "source": [
    "agent_intent_mapping = RTAgent(\n",
    "    config_path=\"rtagents/RTMedAgent/backend/agents/agent_store/intent_classifier_agent.yaml\",\n",
    "    session_id=\"demo123\",\n",
    ")"
   ]
  },
  {
   "cell_type": "code",
   "execution_count": 4,
   "id": "6895ed55",
   "metadata": {},
   "outputs": [
    {
     "data": {
      "text/plain": [
       "[]"
      ]
     },
     "execution_count": 4,
     "metadata": {},
     "output_type": "execute_result"
    }
   ],
   "source": [
    "agent_intent_mapping.tools"
   ]
  },
  {
   "cell_type": "code",
   "execution_count": 30,
   "id": "18b75db1",
   "metadata": {},
   "outputs": [],
   "source": [
    "from rtagents.RTMedAgent.backend.services.openai_services import (\n",
    "    client as az_openai_client,\n",
    ")\n",
    "from rtagents.RTMedAgent.backend.agents.prompt_store.prompt_manager import PromptManager"
   ]
  },
  {
   "cell_type": "code",
   "execution_count": 31,
   "id": "c2c921d2",
   "metadata": {},
   "outputs": [
    {
     "name": "stdout",
     "output_type": "stream",
     "text": [
      "Templates found: ['billing_agent.jinja', 'general_healthcare_agent.jinja', 'intent_classifier_agent.jinja', 'medication_agent.jinja', 'non_healthcare_agent.jinja', 'referrals_agent.jinja', 'scheduling_agent.jinja', 'voice_agent_authentication.jinja', 'voice_agent_system.jinja']\n"
     ]
    }
   ],
   "source": [
    "prompt_manager = PromptManager()\n",
    "prompt = prompt_manager.create_prompt_system_main(\"intent_classifier_agent.jinja\")"
   ]
  },
  {
   "cell_type": "code",
   "execution_count": 32,
   "id": "23987ce2",
   "metadata": {},
   "outputs": [],
   "source": [
    "messages = (\n",
    "    [\n",
    "        {\n",
    "            \"role\": \"system\",\n",
    "            \"content\": prompt,\n",
    "        },\n",
    "        {\n",
    "            \"role\": \"user\",\n",
    "            \"content\": \"Need a new prescription for my glasses, please.\",\n",
    "        },\n",
    "    ],\n",
    ")"
   ]
  },
  {
   "cell_type": "code",
   "execution_count": 23,
   "id": "a8522cf7",
   "metadata": {},
   "outputs": [
    {
     "data": {
      "text/plain": [
       "([{'role': 'system',\n",
       "   'content': '\\n\\n\"\"\"ROLE\"\"\"\\nYou are a healthcare voice system intent classifier.\\nYour only job is to analyze the user\\'s most recent utterance and **output one category label** from the list below in JSON format.\\n**Do NOT answer the user\\'s question, offer help, or provide explanations. Output only the JSON.**\\n\\n\"\"\"AVAILABLE CATEGORIES\"\"\"\\n- Medication\\n- Billing\\n- Demographics\\n- Referrals\\n- General Healthcare\\n- Non-Healthcare\\n\\n\"\"\"INSTRUCTIONS\"\"\"\\n- If the utterance is about medication, output {\"category\": \"Medication\"}\\n- If about payment, coverage, or insurance, output {\"category\": \"Billing\"}\\n- If about patient information (appointments, demographics, records), output {\"category\": \"Demographics\"}\\n- If about specialist/doctor referrals or second opinions, output {\"category\": \"Referrals\"}\\n- If about general health, wellness, symptoms, or questions not covered above, output {\"category\": \"General Healthcare\"}\\n- If NOT related to healthcare, or if intent is unclear, output {\"category\": \"Non-Healthcare\"}\\n\\n\"\"\"OUTPUT FORMAT\"\"\"\\nOutput ONLY the following JSON (with the correct category filled in):\\n\\n{\"category\": \"<OneCategoryName>\"}\\n\\nDo not add any explanation, extra text, or formatting.\\n\\n\"\"\"EXAMPLES\"\"\"\\nUser: \"I need to refill my blood pressure prescription.\"\\nOutput:\\n{\"category\": \"Medication\"}\\n\\nUser: \"How much is my last bill?\"\\nOutput:\\n{\"category\": \"Billing\"}\\n\\nUser: \"What is my next appointment?\"\\nOutput:\\n{\"category\": \"Demographics\"}\\n\\nUser: \"Can I see a heart specialist?\"\\nOutput:\\n{\"category\": \"Referrals\"}\\n\\nUser: \"What is a normal blood pressure?\"\\nOutput:\\n{\"category\": \"General Healthcare\"}\\n\\nUser: \"Can you tell me about local restaurants?\"\\nOutput:\\n{\"category\": \"Non-Healthcare\"}\\n\\nUser: \"I don’t know, just checking something.\"\\nOutput:\\n{\"category\": \"Non-Healthcare\"}'},\n",
       "  {'role': 'user',\n",
       "   'content': 'Need a new prescription for my glasses, please.'}],)"
      ]
     },
     "execution_count": 23,
     "metadata": {},
     "output_type": "execute_result"
    }
   ],
   "source": [
    "messages"
   ]
  },
  {
   "cell_type": "code",
   "execution_count": 34,
   "id": "fe9d5d29",
   "metadata": {},
   "outputs": [
    {
     "name": "stdout",
     "output_type": "stream",
     "text": [
      "User: I'd like to reschedule my annual physical.\n",
      "  → Model: {\"category\": \"Scheduling\"} | Expected: Scheduling | Correct: True | Latency: 0.45s\n",
      "\n",
      "User: Could you remind me of my next upcoming appointment?\n",
      "  → Model: {\"category\": \"Scheduling\"} | Expected: Scheduling | Correct: True | Latency: 0.27s\n",
      "\n",
      "User: Please cancel my lab visit on Friday.\n",
      "  → Model: {\"category\": \"Scheduling\"} | Expected: Scheduling | Correct: True | Latency: 0.27s\n",
      "\n",
      "User: Can you help me get a referral for a neurologist?\n",
      "  → Model: {\"category\": \"Referrals\"} | Expected: Referrals | Correct: True | Latency: 0.26s\n",
      "\n",
      "User: My primary care doctor said I need to see a podiatrist. Can you help?\n",
      "  → Model: {\"category\": \"Referrals\"} | Expected: Referrals | Correct: True | Latency: 0.27s\n",
      "\n",
      "User: I need a prescription for allergy medication refilled.\n",
      "  → Model: {\"category\": \"Medication\"} | Expected: Medication | Correct: True | Latency: 0.25s\n",
      "\n",
      "User: Does my insurance cover blood work?\n",
      "  → Model: {\"category\": \"Billing\"} | Expected: Billing | Correct: True | Latency: 0.26s\n",
      "\n",
      "User: I received a bill, but I think it's a mistake. Who can I talk to?\n",
      "  → Model: {\"category\": \"Billing\"} | Expected: Billing | Correct: True | Latency: 0.32s\n",
      "\n",
      "User: How do I update my email address in your system?\n",
      "  → Model: {\"category\": \"Demographics\"} | Expected: Demographics | Correct: True | Latency: 0.25s\n",
      "\n",
      "User: Can you verify my date of birth on file?\n",
      "  → Model: {\"category\": \"Demographics\"} | Expected: Demographics | Correct: True | Latency: 0.24s\n",
      "\n",
      "User: What are the symptoms of vitamin D deficiency?\n",
      "  → Model: {\"category\": \"General Healthcare\"} | Expected: General Healthcare | Correct: True | Latency: 0.25s\n",
      "\n",
      "User: Can you explain how to manage prediabetes?\n",
      "  → Model: {\"category\": \"General Healthcare\"} | Expected: General Healthcare | Correct: True | Latency: 0.27s\n",
      "\n",
      "User: Do I need to worry about mixing Advil and Lisinopril?\n",
      "  → Model: {\"category\": \"Medication\"} | Expected: Medication | Correct: True | Latency: 0.24s\n",
      "\n",
      "User: I have a question about safe exercises for arthritis.\n",
      "  → Model: {\"category\": \"General Healthcare\"} | Expected: General Healthcare | Correct: True | Latency: 0.35s\n",
      "\n",
      "User: I'd like to move my appointment to next month.\n",
      "  → Model: {\"category\": \"Scheduling\"} | Expected: Scheduling | Correct: True | Latency: 0.25s\n",
      "\n",
      "User: Can you give me directions to the nearest pharmacy?\n",
      "  → Model: {\"category\": \"Non-Healthcare\"} | Expected: Non-Healthcare | Correct: True | Latency: 0.27s\n",
      "\n",
      "User: Play some relaxing music for me.\n",
      "  → Model: {\"category\": \"Non-Healthcare\"} | Expected: Non-Healthcare | Correct: True | Latency: 0.25s\n",
      "\n",
      "User: Can you tell me about physical therapy options at your clinic?\n",
      "  → Model: {\"category\": \"General Healthcare\"} | Expected: General Healthcare | Correct: True | Latency: 0.25s\n",
      "\n",
      "User: Please send me a list of my current medications.\n",
      "  → Model: {\"category\": \"Medication\"} | Expected: Medication | Correct: True | Latency: 0.24s\n",
      "\n",
      "User: Can I have information about the mental health resources you offer?\n",
      "  → Model: {\"category\": \"General Healthcare\"} | Expected: General Healthcare | Correct: True | Latency: 0.26s\n",
      "\n",
      "Average Latency: 0.27 seconds\n",
      "Accuracy: 20/20 (100.0%)\n"
     ]
    }
   ],
   "source": [
    "import time\n",
    "\n",
    "test_cases = [\n",
    "    (\"I'd like to reschedule my annual physical.\", \"Scheduling\"),\n",
    "    (\"Could you remind me of my next upcoming appointment?\", \"Scheduling\"),\n",
    "    (\"Please cancel my lab visit on Friday.\", \"Scheduling\"),\n",
    "    (\"Can you help me get a referral for a neurologist?\", \"Referrals\"),\n",
    "    (\n",
    "        \"My primary care doctor said I need to see a podiatrist. Can you help?\",\n",
    "        \"Referrals\",\n",
    "    ),\n",
    "    (\"I need a prescription for allergy medication refilled.\", \"Medication\"),\n",
    "    (\"Does my insurance cover blood work?\", \"Billing\"),\n",
    "    (\"I received a bill, but I think it's a mistake. Who can I talk to?\", \"Billing\"),\n",
    "    (\"How do I update my email address in your system?\", \"Demographics\"),\n",
    "    (\"Can you verify my date of birth on file?\", \"Demographics\"),\n",
    "    (\"What are the symptoms of vitamin D deficiency?\", \"General Healthcare\"),\n",
    "    (\"Can you explain how to manage prediabetes?\", \"General Healthcare\"),\n",
    "    (\"Do I need to worry about mixing Advil and Lisinopril?\", \"Medication\"),\n",
    "    (\"I have a question about safe exercises for arthritis.\", \"General Healthcare\"),\n",
    "    (\"I'd like to move my appointment to next month.\", \"Scheduling\"),\n",
    "    (\"Can you give me directions to the nearest pharmacy?\", \"Non-Healthcare\"),\n",
    "    (\"Play some relaxing music for me.\", \"Non-Healthcare\"),\n",
    "    (\n",
    "        \"Can you tell me about physical therapy options at your clinic?\",\n",
    "        \"General Healthcare\",\n",
    "    ),\n",
    "    (\"Please send me a list of my current medications.\", \"Medication\"),\n",
    "    (\n",
    "        \"Can I have information about the mental health resources you offer?\",\n",
    "        \"General Healthcare\",\n",
    "    ),\n",
    "]\n",
    "\n",
    "total_latency = 0\n",
    "all_outputs = []\n",
    "num_correct = 0\n",
    "\n",
    "for utterance, expected in test_cases:\n",
    "    messages = [\n",
    "        {\"role\": \"system\", \"content\": prompt},\n",
    "        {\"role\": \"user\", \"content\": utterance},\n",
    "    ]\n",
    "    t0 = time.time()\n",
    "    response = az_openai_client.chat.completions.create(\n",
    "        messages=messages,\n",
    "        max_completion_tokens=100,\n",
    "        temperature=0.0,\n",
    "        top_p=1.0,\n",
    "        frequency_penalty=0.0,\n",
    "        presence_penalty=0.0,\n",
    "        model=\"gpt-4.1-nano\",\n",
    "    )\n",
    "    latency = time.time() - t0\n",
    "    total_latency += latency\n",
    "\n",
    "    output = response.choices[0].message.content.strip()\n",
    "    # Extract category from output JSON string, robustly (strip, lower, etc.)\n",
    "    import json\n",
    "\n",
    "    try:\n",
    "        output_category = json.loads(output).get(\"category\")\n",
    "    except Exception:\n",
    "        output_category = \"PARSE_ERROR\"\n",
    "\n",
    "    correct = output_category.lower() == expected.lower()\n",
    "    if correct:\n",
    "        num_correct += 1\n",
    "\n",
    "    all_outputs.append(\n",
    "        {\n",
    "            \"input\": utterance,\n",
    "            \"expected\": expected,\n",
    "            \"output\": output,\n",
    "            \"parsed_category\": output_category,\n",
    "            \"latency_sec\": latency,\n",
    "            \"correct\": correct,\n",
    "        }\n",
    "    )\n",
    "    print(\n",
    "        f\"User: {utterance}\\n  → Model: {output} | Expected: {expected} | Correct: {correct} | Latency: {latency:.2f}s\\n\"\n",
    "    )\n",
    "\n",
    "# Final stats\n",
    "avg_latency = total_latency / len(test_cases)\n",
    "print(f\"Average Latency: {avg_latency:.2f} seconds\")\n",
    "print(\n",
    "    f\"Accuracy: {num_correct}/{len(test_cases)} ({100.0*num_correct/len(test_cases):.1f}%)\"\n",
    ")"
   ]
  }
 ],
 "metadata": {
  "kernelspec": {
   "display_name": "audioagent",
   "language": "python",
   "name": "python3"
  },
  "language_info": {
   "codemirror_mode": {
    "name": "ipython",
    "version": 3
   },
   "file_extension": ".py",
   "mimetype": "text/x-python",
   "name": "python",
   "nbconvert_exporter": "python",
   "pygments_lexer": "ipython3",
   "version": "3.11.11"
  }
 },
 "nbformat": 4,
 "nbformat_minor": 5
}
